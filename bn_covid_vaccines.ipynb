{
 "cells": [
  {
   "cell_type": "markdown",
   "metadata": {
    "collapsed": true,
    "pycharm": {
     "name": "#%% md\n"
    }
   },
   "source": [
    "# Bayesian network for COVID-19 vaccines adverse reactions\n",
    "### *Fundamentals of Artificial Intelligence and Knowledge Representation - Module 3*\n",
    "#### *Alma Mater Studiorum Università di Bologna - a.a 20/21*\n",
    "\n",
    "##### **Author:** [Emmanuele Bollino](https://www.linkedin.com/in/emmanuele-bollino/)"
   ]
  },
  {
   "cell_type": "markdown",
   "source": [
    "> **WARNING** All the data used in this project are taken from the [VAERS](https://wonder.cdc.gov/vaers.html) database managed by [CDC](https://www.cdc.gov/).\n",
    ">\n",
    "> This project is intended for research purposes only. CDC reserves all the rights for these data."
   ],
   "metadata": {
    "collapsed": false
   }
  },
  {
   "cell_type": "markdown",
   "source": [
    "## Abstract\n",
    "This project was developed in June 2021 during the COVID-19 outbreak. In this period the governments from all around the world\n",
    "are doing massive vaccination campaigns. There are several manufacturers of vaccines, and some people are facing with\n",
    "side effects caused by vaccine injections. Most of the side effects are self solving but in this period there is an\n",
    "open debate about the safety of these vaccines.\n",
    "\n",
    "This project deals with vaccine adverse events reported in the U.S.A. on the [VAERS](https://wonder.cdc.gov/vaers.html)\n",
    "database that contains the adverse events of vaccines in the U.S.A. from 1990.\n",
    "\n",
    "The aim of this project is to study the correlation between some factors and the gravity of the adverse events of COVID-19\n",
    "vaccines. Given some risk-factors and other information about the injection, we want to determine the probability of\n",
    "having a serious adverse reaction. Because of the lack of non-adverse events, all the considerations are done considering\n",
    "that the patient has for sure an adverse reaction.\n",
    "\n",
    "For the sake of simplicity, data contained in the database have hardly been simplified, loosing important information\n",
    "about the domain. Because of this, the results are considered over simplistic and not reliable. This project only shows\n",
    "that using probabilistic graphical models for this domain is possible."
   ],
   "metadata": {
    "collapsed": false
   }
  },
  {
   "cell_type": "markdown",
   "source": [
    "## Data\n",
    "As previously mentioned, data are taken from [VAERS](https://wonder.cdc.gov/vaers.html) but only from 2021. So, from the\n",
    "beginning of 2021 to June 2021.\n",
    "\n",
    "All the data are managed using Pandas."
   ],
   "metadata": {
    "collapsed": false
   }
  },
  {
   "cell_type": "markdown",
   "source": [
    "### Import\n",
    "Data are in CSV form and on multiple files linked by and ID."
   ],
   "metadata": {
    "collapsed": false
   }
  },
  {
   "cell_type": "code",
   "execution_count": 130,
   "outputs": [
    {
     "name": "stderr",
     "output_type": "stream",
     "text": [
      "C:\\ProgramData\\Anaconda3\\lib\\site-packages\\IPython\\core\\interactiveshell.py:3165: DtypeWarning: Columns (7,12,23) have mixed types.Specify dtype option on import or set low_memory=False.\n",
      "  has_raised = await self.run_ast_nodes(code_ast.body, cell_name,\n"
     ]
    },
    {
     "data": {
      "text/plain": "   VAERS_ID    RECVDATE STATE  AGE_YRS  CAGE_YR  CAGE_MO SEX RPT_DATE  \\\n0    916600  01/01/2021    TX     33.0     33.0      NaN   F      NaN   \n1    916601  01/01/2021    CA     73.0     73.0      NaN   F      NaN   \n2    916602  01/01/2021    WA     23.0     23.0      NaN   F      NaN   \n3    916603  01/01/2021    WA     58.0     58.0      NaN   F      NaN   \n4    916604  01/01/2021    TX     47.0     47.0      NaN   F      NaN   \n\n                                        SYMPTOM_TEXT DIED  ... OFC_VISIT  \\\n0  Right side of epiglottis swelled up and hinder...  NaN  ...         Y   \n1  Approximately 30 min post vaccination administ...  NaN  ...         Y   \n2  About 15 minutes after receiving the vaccine, ...  NaN  ...       NaN   \n3  extreme fatigue, dizziness,. could not lift my...  NaN  ...       NaN   \n4  Injection site swelling, redness, warm to the ...  NaN  ...       NaN   \n\n  ER_ED_VISIT                                          ALLERGIES VAX_TYPE  \\\n0         NaN                                  Pcn and bee venom  COVID19   \n1         NaN                                            \"Dairy\"  COVID19   \n2           Y                                          Shellfish  COVID19   \n3         NaN  Diclofenac, novacaine, lidocaine, pickles, tom...  COVID19   \n4         NaN                                                 Na  COVID19   \n\n          VAX_MANU  VAX_LOT VAX_DOSE_SERIES VAX_ROUTE VAX_SITE  \\\n0          MODERNA  037K20A               1        IM       LA   \n1          MODERNA  025L20A               1        IM       RA   \n2  PFIZER\\BIONTECH   EL1284               1        IM       LA   \n3          MODERNA  unknown             UNK       NaN      NaN   \n4          MODERNA      NaN               1        IM       LA   \n\n                              VAX_NAME  \n0          COVID19 (COVID19 (MODERNA))  \n1          COVID19 (COVID19 (MODERNA))  \n2  COVID19 (COVID19 (PFIZER-BIONTECH))  \n3          COVID19 (COVID19 (MODERNA))  \n4          COVID19 (COVID19 (MODERNA))  \n\n[5 rows x 42 columns]",
      "text/html": "<div>\n<style scoped>\n    .dataframe tbody tr th:only-of-type {\n        vertical-align: middle;\n    }\n\n    .dataframe tbody tr th {\n        vertical-align: top;\n    }\n\n    .dataframe thead th {\n        text-align: right;\n    }\n</style>\n<table border=\"1\" class=\"dataframe\">\n  <thead>\n    <tr style=\"text-align: right;\">\n      <th></th>\n      <th>VAERS_ID</th>\n      <th>RECVDATE</th>\n      <th>STATE</th>\n      <th>AGE_YRS</th>\n      <th>CAGE_YR</th>\n      <th>CAGE_MO</th>\n      <th>SEX</th>\n      <th>RPT_DATE</th>\n      <th>SYMPTOM_TEXT</th>\n      <th>DIED</th>\n      <th>...</th>\n      <th>OFC_VISIT</th>\n      <th>ER_ED_VISIT</th>\n      <th>ALLERGIES</th>\n      <th>VAX_TYPE</th>\n      <th>VAX_MANU</th>\n      <th>VAX_LOT</th>\n      <th>VAX_DOSE_SERIES</th>\n      <th>VAX_ROUTE</th>\n      <th>VAX_SITE</th>\n      <th>VAX_NAME</th>\n    </tr>\n  </thead>\n  <tbody>\n    <tr>\n      <th>0</th>\n      <td>916600</td>\n      <td>01/01/2021</td>\n      <td>TX</td>\n      <td>33.0</td>\n      <td>33.0</td>\n      <td>NaN</td>\n      <td>F</td>\n      <td>NaN</td>\n      <td>Right side of epiglottis swelled up and hinder...</td>\n      <td>NaN</td>\n      <td>...</td>\n      <td>Y</td>\n      <td>NaN</td>\n      <td>Pcn and bee venom</td>\n      <td>COVID19</td>\n      <td>MODERNA</td>\n      <td>037K20A</td>\n      <td>1</td>\n      <td>IM</td>\n      <td>LA</td>\n      <td>COVID19 (COVID19 (MODERNA))</td>\n    </tr>\n    <tr>\n      <th>1</th>\n      <td>916601</td>\n      <td>01/01/2021</td>\n      <td>CA</td>\n      <td>73.0</td>\n      <td>73.0</td>\n      <td>NaN</td>\n      <td>F</td>\n      <td>NaN</td>\n      <td>Approximately 30 min post vaccination administ...</td>\n      <td>NaN</td>\n      <td>...</td>\n      <td>Y</td>\n      <td>NaN</td>\n      <td>\"Dairy\"</td>\n      <td>COVID19</td>\n      <td>MODERNA</td>\n      <td>025L20A</td>\n      <td>1</td>\n      <td>IM</td>\n      <td>RA</td>\n      <td>COVID19 (COVID19 (MODERNA))</td>\n    </tr>\n    <tr>\n      <th>2</th>\n      <td>916602</td>\n      <td>01/01/2021</td>\n      <td>WA</td>\n      <td>23.0</td>\n      <td>23.0</td>\n      <td>NaN</td>\n      <td>F</td>\n      <td>NaN</td>\n      <td>About 15 minutes after receiving the vaccine, ...</td>\n      <td>NaN</td>\n      <td>...</td>\n      <td>NaN</td>\n      <td>Y</td>\n      <td>Shellfish</td>\n      <td>COVID19</td>\n      <td>PFIZER\\BIONTECH</td>\n      <td>EL1284</td>\n      <td>1</td>\n      <td>IM</td>\n      <td>LA</td>\n      <td>COVID19 (COVID19 (PFIZER-BIONTECH))</td>\n    </tr>\n    <tr>\n      <th>3</th>\n      <td>916603</td>\n      <td>01/01/2021</td>\n      <td>WA</td>\n      <td>58.0</td>\n      <td>58.0</td>\n      <td>NaN</td>\n      <td>F</td>\n      <td>NaN</td>\n      <td>extreme fatigue, dizziness,. could not lift my...</td>\n      <td>NaN</td>\n      <td>...</td>\n      <td>NaN</td>\n      <td>NaN</td>\n      <td>Diclofenac, novacaine, lidocaine, pickles, tom...</td>\n      <td>COVID19</td>\n      <td>MODERNA</td>\n      <td>unknown</td>\n      <td>UNK</td>\n      <td>NaN</td>\n      <td>NaN</td>\n      <td>COVID19 (COVID19 (MODERNA))</td>\n    </tr>\n    <tr>\n      <th>4</th>\n      <td>916604</td>\n      <td>01/01/2021</td>\n      <td>TX</td>\n      <td>47.0</td>\n      <td>47.0</td>\n      <td>NaN</td>\n      <td>F</td>\n      <td>NaN</td>\n      <td>Injection site swelling, redness, warm to the ...</td>\n      <td>NaN</td>\n      <td>...</td>\n      <td>NaN</td>\n      <td>NaN</td>\n      <td>Na</td>\n      <td>COVID19</td>\n      <td>MODERNA</td>\n      <td>NaN</td>\n      <td>1</td>\n      <td>IM</td>\n      <td>LA</td>\n      <td>COVID19 (COVID19 (MODERNA))</td>\n    </tr>\n  </tbody>\n</table>\n<p>5 rows × 42 columns</p>\n</div>"
     },
     "execution_count": 130,
     "metadata": {},
     "output_type": "execute_result"
    }
   ],
   "source": [
    "import pandas as pd\n",
    "\n",
    "general_data_path = 'data/2021VAERSDATA.csv'\n",
    "vax_data_path = 'data/2021VAERSVAX.csv'\n",
    "\n",
    "data_general = pd.read_csv(general_data_path)\n",
    "data_vax = pd.read_csv(vax_data_path)\n",
    "\n",
    "data_full = pd.merge(data_general, data_vax, on='VAERS_ID')\n",
    "\n",
    "data_full.head()"
   ],
   "metadata": {
    "collapsed": false,
    "pycharm": {
     "name": "#%%\n"
    }
   }
  },
  {
   "cell_type": "markdown",
   "source": [
    "There are several columns. Each column contains information about the adverse reaction, the patient and the injection.\n",
    "The full description of each column is available [here](https://vaers.hhs.gov/docs/VAERSDataUseGuide_November2020.pdf)."
   ],
   "metadata": {
    "collapsed": false,
    "pycharm": {
     "name": "#%% md\n"
    }
   }
  },
  {
   "cell_type": "code",
   "execution_count": 131,
   "outputs": [
    {
     "data": {
      "text/plain": "Index(['VAERS_ID', 'RECVDATE', 'STATE', 'AGE_YRS', 'CAGE_YR', 'CAGE_MO', 'SEX',\n       'RPT_DATE', 'SYMPTOM_TEXT', 'DIED', 'DATEDIED', 'L_THREAT', 'ER_VISIT',\n       'HOSPITAL', 'HOSPDAYS', 'X_STAY', 'DISABLE', 'RECOVD', 'VAX_DATE',\n       'ONSET_DATE', 'NUMDAYS', 'LAB_DATA', 'V_ADMINBY', 'V_FUNDBY',\n       'OTHER_MEDS', 'CUR_ILL', 'HISTORY', 'PRIOR_VAX', 'SPLTTYPE',\n       'FORM_VERS', 'TODAYS_DATE', 'BIRTH_DEFECT', 'OFC_VISIT', 'ER_ED_VISIT',\n       'ALLERGIES', 'VAX_TYPE', 'VAX_MANU', 'VAX_LOT', 'VAX_DOSE_SERIES',\n       'VAX_ROUTE', 'VAX_SITE', 'VAX_NAME'],\n      dtype='object')"
     },
     "execution_count": 131,
     "metadata": {},
     "output_type": "execute_result"
    }
   ],
   "source": [
    "data_full.columns"
   ],
   "metadata": {
    "collapsed": false,
    "pycharm": {
     "name": "#%%\n"
    }
   }
  },
  {
   "cell_type": "markdown",
   "source": [
    "There's also plenty of rows. Each record represents an adverse reaction happened to a patient."
   ],
   "metadata": {
    "collapsed": false
   }
  },
  {
   "cell_type": "code",
   "execution_count": 132,
   "outputs": [
    {
     "data": {
      "text/plain": "326435"
     },
     "execution_count": 132,
     "metadata": {},
     "output_type": "execute_result"
    }
   ],
   "source": [
    "data_full.shape[0]"
   ],
   "metadata": {
    "collapsed": false,
    "pycharm": {
     "name": "#%%\n"
    }
   }
  },
  {
   "cell_type": "markdown",
   "source": [
    "### Filtering\n",
    "Data are filtered for the type of vaccine (COVID-19), and some columns are removed for the sake of simplicity and significance."
   ],
   "metadata": {
    "collapsed": false
   }
  },
  {
   "cell_type": "code",
   "execution_count": 133,
   "outputs": [
    {
     "data": {
      "text/plain": "(323606, 13)"
     },
     "execution_count": 133,
     "metadata": {},
     "output_type": "execute_result"
    }
   ],
   "source": [
    "interesting_columns = ['CAGE_YR',\n",
    "                       'SEX',\n",
    "                       'DIED',\n",
    "                       'L_THREAT',\n",
    "                       'ER_VISIT',\n",
    "                       'HOSPITAL',\n",
    "                       'DISABLE',\n",
    "                       'CUR_ILL',\n",
    "                       'HISTORY',\n",
    "                       'PRIOR_VAX',\n",
    "                       'ALLERGIES',\n",
    "                       'VAX_MANU',\n",
    "                       'VAX_DOSE_SERIES']\n",
    "vax_type = 'COVID19'\n",
    "\n",
    "data_filtered = data_full[data_full['VAX_TYPE'] == vax_type]\n",
    "data_filtered = data_filtered[interesting_columns]\n",
    "\n",
    "data_filtered.shape"
   ],
   "metadata": {
    "collapsed": false,
    "pycharm": {
     "name": "#%%\n"
    }
   }
  },
  {
   "cell_type": "markdown",
   "source": [
    "### Bucketization\n",
    "Some columns need to be bucketized, like the age."
   ],
   "metadata": {
    "collapsed": false
   }
  },
  {
   "cell_type": "code",
   "execution_count": 134,
   "outputs": [
    {
     "data": {
      "text/plain": "0               Adult\n1                 Old\n2               Young\n3         Upper adult\n4               Adult\n             ...     \n326430          Minor\n326431    Upper adult\n326432            Old\n326433            Old\n326434          Adult\nName: CAGE_YR, Length: 323606, dtype: category\nCategories (7, object): ['Baby' < 'Minor' < 'Young' < 'Adult' < 'Upper adult' < 'Old' < 'Over 80']"
     },
     "execution_count": 134,
     "metadata": {},
     "output_type": "execute_result"
    }
   ],
   "source": [
    "data_bucketized = data_filtered.copy(deep=True)\n",
    "data_bucketized['CAGE_YR'] = pd.cut(x=data_bucketized['CAGE_YR'],\n",
    "                                    bins=[0, 7, 17, 30, 50, 65, 80, 150],\n",
    "                                    labels=['Baby', 'Minor', 'Young', 'Adult', 'Upper adult', 'Old', 'Over 80'])\n",
    "\n",
    "data_bucketized['CAGE_YR']"
   ],
   "metadata": {
    "collapsed": false,
    "pycharm": {
     "name": "#%%\n"
    }
   }
  },
  {
   "cell_type": "markdown",
   "source": [
    "### Cleaning\n",
    "Data need some cleaning operations because of unknown and badly compiled values. Rows with unknown values are removed,\n",
    "paying attention to the fact that for some columns, unknown values are meaningful."
   ],
   "metadata": {
    "collapsed": false
   }
  },
  {
   "cell_type": "code",
   "execution_count": 135,
   "outputs": [],
   "source": [
    "data_clean = data_bucketized.copy(deep=True)\n",
    "\n",
    "data_clean = data_clean[data_clean['SEX'] != 'U']\n",
    "\n",
    "data_clean = data_clean[data_clean['VAX_MANU'] != 'UNKNOWN MANUFACTURER']"
   ],
   "metadata": {
    "collapsed": false,
    "pycharm": {
     "name": "#%%\n"
    }
   }
  },
  {
   "cell_type": "markdown",
   "source": [
    "Numeric data stored as string are converted into numbers, so that the order is kept."
   ],
   "metadata": {
    "collapsed": false,
    "pycharm": {
     "name": "#%% md\n"
    }
   }
  },
  {
   "cell_type": "code",
   "execution_count": 136,
   "outputs": [],
   "source": [
    "# only doses <= 4 are kept\n",
    "data_clean = data_clean[data_clean['VAX_DOSE_SERIES'] != 'UNK']\n",
    "data_clean = data_clean[data_clean['VAX_DOSE_SERIES'] != '7+']\n",
    "data_clean['VAX_DOSE_SERIES'] = pd.to_numeric(data_clean['VAX_DOSE_SERIES'])\n",
    "data_clean = data_clean[data_clean['VAX_DOSE_SERIES'] <= 4]"
   ],
   "metadata": {
    "collapsed": false,
    "pycharm": {
     "name": "#%%\n"
    }
   }
  },
  {
   "cell_type": "markdown",
   "source": [
    "Boolean data stored as string are converted into python booleans."
   ],
   "metadata": {
    "collapsed": false,
    "pycharm": {
     "name": "#%% md\n"
    }
   }
  },
  {
   "cell_type": "code",
   "execution_count": 137,
   "outputs": [],
   "source": [
    "def yn_to_boolean(df, columns):\n",
    "    modified = df\n",
    "    for column in columns:\n",
    "        modified = modified.replace({column: {'Y': True, 'N': False}})\n",
    "        modified[column] = modified[column].fillna(False)\n",
    "    return modified\n",
    "\n",
    "\n",
    "data_clean = yn_to_boolean(data_clean, ['DIED', 'L_THREAT', 'ER_VISIT', 'HOSPITAL', 'DISABLE'])"
   ],
   "metadata": {
    "collapsed": false,
    "pycharm": {
     "name": "#%%\n"
    }
   }
  },
  {
   "cell_type": "markdown",
   "source": [
    "### Approximation\n",
    "Some columns, like allergies and illnesses, contain strings that represent a list of values. The problem is that those\n",
    "values are not standardized and each person who filled the cell inserted a non-structured text. Because of the amount of\n",
    "rows, it is not possible to do a precise cleaning of these fields. So, the solution adopted here is an over approximation\n",
    "of those columns: we consider only if a value is empty or not, reducing the strings to booleans. In this way, every illness\n",
    "is the same as the other. From now on we will only know if a patient has some previous illness or not. Moreover, if the\n",
    "value is not known we naively assume that it is empty. Due to this, if a patient illness is not recorded we assume that\n",
    "he is fully healthy. This process is the main reason of non-reliability of the results of this project."
   ],
   "metadata": {
    "collapsed": false
   }
  },
  {
   "cell_type": "code",
   "execution_count": 138,
   "outputs": [],
   "source": [
    "def description_to_boolean(df, columns):\n",
    "    modified = df\n",
    "    for column in columns:\n",
    "        modified.loc[modified[column].str.len() > 5, column] = True\n",
    "        modified.loc[modified[column].str.len() <= 5, column] = False\n",
    "        modified[column] = modified[column].fillna(False)\n",
    "    return modified\n",
    "\n",
    "\n",
    "data_approx = data_clean.copy(deep=True)\n",
    "data_approx = description_to_boolean(data_approx, ['CUR_ILL', 'HISTORY', 'PRIOR_VAX', 'ALLERGIES'])"
   ],
   "metadata": {
    "collapsed": false,
    "pycharm": {
     "name": "#%%\n"
    }
   }
  },
  {
   "cell_type": "markdown",
   "source": [
    "### Aggregation\n",
    "So far data have gone through several manipulations, but they still have too many columns for a bayesian network. Indeed,\n",
    "if we try to make pgmpy learn the structure of the network, we will see that it is a complete mess and computational heavy.\n",
    "It would be too hard for a non-physician to deal with it. That's why some aggregation between columns is needed.\n",
    "\n",
    "The aggregation involves the final damage to the patient. Death, disability and hospitalization are combined in a single node.\n",
    "This leads to a degradation of the knowledge because there could have been the case that more than one of these fields\n",
    "were true. In this way we're taking only the most serious damage. We also assume that if none of these fields were active,\n",
    "it means that the adverse reaction self-solved."
   ],
   "metadata": {
    "collapsed": false
   }
  },
  {
   "cell_type": "code",
   "execution_count": 139,
   "outputs": [],
   "source": [
    "def calculate_damage(row):\n",
    "    if row['DIED'] or row['L_THREAT']:\n",
    "        return 'Died or almost'\n",
    "    elif row['DISABLE']:\n",
    "        return 'Disability'\n",
    "    elif row['HOSPITAL']:\n",
    "        return 'Medium'\n",
    "    else:\n",
    "        return 'Self-solving'\n",
    "\n",
    "\n",
    "data_agg = data_approx.copy(deep=True)\n",
    "data_agg['DAMAGE'] = data_agg.apply(lambda row: calculate_damage(row), axis=1)\n",
    "data_agg['ILLNESS'] = data_agg.apply(lambda row: row['CUR_ILL'] or row['HISTORY'], axis=1)\n",
    "data_agg.drop(['DIED', 'L_THREAT', 'DISABLE', 'HOSPITAL', 'CUR_ILL', 'HISTORY', 'PRIOR_VAX'], axis=1, inplace=True)"
   ],
   "metadata": {
    "collapsed": false,
    "pycharm": {
     "name": "#%%\n"
    }
   }
  },
  {
   "cell_type": "markdown",
   "source": [
    "### Renaming\n",
    "This is the concluding part. For the sake of readability, some columns are renamed into a more human-readable way."
   ],
   "metadata": {
    "collapsed": false
   }
  },
  {
   "cell_type": "code",
   "execution_count": 140,
   "outputs": [],
   "source": [
    "data = data_agg.copy(deep=True)\n",
    "data = data.rename(columns={'CAGE_YR': 'AGE', 'VAX_MANU': 'MANU', 'VAX_DOSE_SERIES': 'DOSE', 'ER_VISIT': 'VISIT'})"
   ],
   "metadata": {
    "collapsed": false,
    "pycharm": {
     "name": "#%%\n"
    }
   }
  },
  {
   "cell_type": "code",
   "execution_count": 141,
   "outputs": [
    {
     "data": {
      "text/plain": "     AGE SEX  VISIT  ALLERGIES             MANU  DOSE        DAMAGE  ILLNESS\n0  Adult   F  False       True          MODERNA   1.0  Self-solving    False\n1    Old   F  False       True          MODERNA   1.0  Self-solving     True\n2  Young   F  False       True  PFIZER\\BIONTECH   1.0  Self-solving    False\n4  Adult   F  False      False          MODERNA   1.0  Self-solving    False\n6  Adult   F  False       True          MODERNA   1.0  Self-solving    False",
      "text/html": "<div>\n<style scoped>\n    .dataframe tbody tr th:only-of-type {\n        vertical-align: middle;\n    }\n\n    .dataframe tbody tr th {\n        vertical-align: top;\n    }\n\n    .dataframe thead th {\n        text-align: right;\n    }\n</style>\n<table border=\"1\" class=\"dataframe\">\n  <thead>\n    <tr style=\"text-align: right;\">\n      <th></th>\n      <th>AGE</th>\n      <th>SEX</th>\n      <th>VISIT</th>\n      <th>ALLERGIES</th>\n      <th>MANU</th>\n      <th>DOSE</th>\n      <th>DAMAGE</th>\n      <th>ILLNESS</th>\n    </tr>\n  </thead>\n  <tbody>\n    <tr>\n      <th>0</th>\n      <td>Adult</td>\n      <td>F</td>\n      <td>False</td>\n      <td>True</td>\n      <td>MODERNA</td>\n      <td>1.0</td>\n      <td>Self-solving</td>\n      <td>False</td>\n    </tr>\n    <tr>\n      <th>1</th>\n      <td>Old</td>\n      <td>F</td>\n      <td>False</td>\n      <td>True</td>\n      <td>MODERNA</td>\n      <td>1.0</td>\n      <td>Self-solving</td>\n      <td>True</td>\n    </tr>\n    <tr>\n      <th>2</th>\n      <td>Young</td>\n      <td>F</td>\n      <td>False</td>\n      <td>True</td>\n      <td>PFIZER\\BIONTECH</td>\n      <td>1.0</td>\n      <td>Self-solving</td>\n      <td>False</td>\n    </tr>\n    <tr>\n      <th>4</th>\n      <td>Adult</td>\n      <td>F</td>\n      <td>False</td>\n      <td>False</td>\n      <td>MODERNA</td>\n      <td>1.0</td>\n      <td>Self-solving</td>\n      <td>False</td>\n    </tr>\n    <tr>\n      <th>6</th>\n      <td>Adult</td>\n      <td>F</td>\n      <td>False</td>\n      <td>True</td>\n      <td>MODERNA</td>\n      <td>1.0</td>\n      <td>Self-solving</td>\n      <td>False</td>\n    </tr>\n  </tbody>\n</table>\n</div>"
     },
     "execution_count": 141,
     "metadata": {},
     "output_type": "execute_result"
    }
   ],
   "source": [
    "data.head()"
   ],
   "metadata": {
    "collapsed": false,
    "pycharm": {
     "name": "#%%\n"
    }
   }
  },
  {
   "cell_type": "code",
   "execution_count": 142,
   "outputs": [
    {
     "data": {
      "text/plain": "(261556, 8)"
     },
     "execution_count": 142,
     "metadata": {},
     "output_type": "execute_result"
    }
   ],
   "source": [
    "data.shape"
   ],
   "metadata": {
    "collapsed": false,
    "pycharm": {
     "name": "#%%\n"
    }
   }
  },
  {
   "cell_type": "markdown",
   "source": [
    "Each row contains data about a reported adverse reaction. It contains data about the injection, the reaction and the patient.\n",
    "The meaning of the columns is the following:\n",
    "\n",
    "| Column   | Outcomes | Meaning |\n",
    "|----------|:-------------:|------:|\n",
    "| AGE | 'Baby', 'Minor', 'Young', 'Adult', 'Upper adult', 'Old', 'Over 80' | Patient's age |\n",
    "| SEX | 'M', 'F' | Patient's sex |\n",
    "| VISIT | True, False | Whether an ER visit was requested or not |\n",
    "| ALLERGIES | True, False | Whether the patient has some allergies or not |\n",
    "| MANU | 'MODERNA', 'PFIZER\\\\BIONTECH', 'JANSSEN' | Manufacturer of the injection |\n",
    "| DOSE | 1, 2, 3, 4 | Dose number |\n",
    "| DAMAGE | 'Died or almost', 'Disability', 'Medium' 'Self-solving' | Patient's final damage |\n",
    "| ILLNESS | True, False | Whether the patient has some previous illnesses or not |"
   ],
   "metadata": {
    "collapsed": false,
    "pycharm": {
     "name": "#%% md\n"
    }
   }
  },
  {
   "cell_type": "markdown",
   "source": [
    "## Network structure\n",
    "Now that data is ready, it's time to construct the bayesian network associated to them. The library used is pgmpy."
   ],
   "metadata": {
    "collapsed": false
   }
  },
  {
   "cell_type": "markdown",
   "source": [
    "### Network visualization\n",
    "A bayesian network is a DAG. In order to visualize the network, the networkx library is used."
   ],
   "metadata": {
    "collapsed": false,
    "pycharm": {
     "name": "#%% md\n"
    }
   }
  },
  {
   "cell_type": "code",
   "execution_count": 143,
   "outputs": [],
   "source": [
    "import networkx as nx\n",
    "\n",
    "\"\"\"\n",
    "Draws a graph with the given nodes and edges.\n",
    "\"\"\"\n",
    "def draw_graph(nodes, edges):\n",
    "    graph = nx.DiGraph()\n",
    "    graph.add_nodes_from(nodes)\n",
    "    graph.add_edges_from(edges)\n",
    "\n",
    "    options = {\n",
    "        'node_size': 4200,\n",
    "        'width': 2,\n",
    "        'arrowstyle': '-|>',\n",
    "        'arrowsize': 15,\n",
    "        'with_labels': True,\n",
    "        'arrows': True\n",
    "    }\n",
    "\n",
    "    nx.draw_shell(graph, **options)"
   ],
   "metadata": {
    "collapsed": false,
    "pycharm": {
     "name": "#%%\n"
    }
   }
  },
  {
   "cell_type": "markdown",
   "source": [
    "### Network structure learning\n",
    "The bayesian network structure is learnt using pgmpy.\n",
    "\n",
    "Pgmpy provides search algorithms in order to find the best network. A network is evaluated on the basis of a scoring function.\n",
    "In this project, Bayesian Information Criterion is used as model selection criterion. It is based on the likelihood function."
   ],
   "metadata": {
    "collapsed": false
   }
  },
  {
   "cell_type": "code",
   "execution_count": 144,
   "outputs": [],
   "source": [
    "from pgmpy.estimators import BicScore\n",
    "\n",
    "scoring = BicScore(data)"
   ],
   "metadata": {
    "collapsed": false,
    "pycharm": {
     "name": "#%%\n"
    }
   }
  },
  {
   "cell_type": "code",
   "execution_count": 145,
   "outputs": [],
   "source": [
    "# Exhaustive search (is commented because infeasible)\n",
    "\n",
    "#from pgmpy.estimators import ExhaustiveSearch\n",
    "#exh = ExhaustiveSearch(data_agg, scoring_method = scoring)\n",
    "#best_model_exh = exh.estimate()\n",
    "\n",
    "#UserWarning: Generating all DAGs of n nodes likely not feasible for n>6!\n",
    "# warn(\"Generating all DAGs of n nodes likely not feasible for n>6!\")\n",
    "#Attempting to search through 72057594037927936 graphs"
   ],
   "metadata": {
    "collapsed": false,
    "pycharm": {
     "name": "#%%\n"
    }
   }
  },
  {
   "cell_type": "markdown",
   "source": [
    "The search algorithm used is a local search, in particular, it is the Hill Climb one. That's because an exhaustive search\n",
    "is infeasible."
   ],
   "metadata": {
    "collapsed": false,
    "pycharm": {
     "name": "#%% md\n"
    }
   }
  },
  {
   "cell_type": "markdown",
   "source": [
    "A first attempt is the following:"
   ],
   "metadata": {
    "collapsed": false,
    "pycharm": {
     "name": "#%% md\n"
    }
   }
  },
  {
   "cell_type": "code",
   "execution_count": 146,
   "outputs": [
    {
     "name": "stderr",
     "output_type": "stream",
     "text": [
      " 24%|██▍       | 24/100 [00:14<00:44,  1.69it/s]\n"
     ]
    },
    {
     "data": {
      "text/plain": "<Figure size 432x288 with 1 Axes>",
      "image/png": "[encoded data removed]"
     },
     "metadata": {},
     "output_type": "display_data"
    }
   ],
   "source": [
    "from pgmpy.estimators import HillClimbSearch\n",
    "\n",
    "hcs = HillClimbSearch(data, scoring_method=scoring)\n",
    "first_model = hcs.estimate(max_iter=100)\n",
    "\n",
    "draw_graph(data.columns, first_model.edges())"
   ],
   "metadata": {
    "collapsed": false,
    "pycharm": {
     "name": "#%%\n"
    }
   }
  },
  {
   "cell_type": "markdown",
   "source": [
    "This network is a complete mess. Some relations are not captured and if captured, sometimes they are in the opposite way.\n",
    "Now we try to exploit a prior knowledge about the relations: fixing some edges and preventing some to be learnt.\n",
    "We need fewer relations and more relevant ones."
   ],
   "metadata": {
    "collapsed": false
   }
  },
  {
   "cell_type": "code",
   "execution_count": 147,
   "outputs": [
    {
     "name": "stderr",
     "output_type": "stream",
     "text": [
      "  0%|          | 6/1000000 [00:03<156:47:31,  1.77it/s]\n"
     ]
    },
    {
     "data": {
      "text/plain": "<Figure size 432x288 with 1 Axes>",
      "image/png": "[encoded data removed]"
     },
     "metadata": {},
     "output_type": "display_data"
    }
   ],
   "source": [
    "fixed_edges=[\n",
    "    ('AGE', 'DAMAGE'),          # the adverse reaction is different in young and elderly people\n",
    "    ('AGE', 'ILLNESS'),         # aging can cause illnesses\n",
    "    ('AGE', 'MANU'),            # the vaccine manufacturer is chosen because of patient's age by physicians\n",
    "    ('ALLERGIES', 'DAMAGE'),    # a presence of allergies can cause different types of adverse reactions\n",
    "    ('ALLERGIES', 'MANU'),      # the vaccine manufacturer is chosen because of patient's age allergies by physicians\n",
    "    ('ILLNESS', 'MANU'),        # the vaccine manufacturer is chosen because of patient's age illnesses by physicians\n",
    "    ('ILLNESS', 'DAMAGE'),      # a presence of previous illnesses can cause different types of adverse reactions\n",
    "    ('MANU', 'DAMAGE'),         # different vaccines can cause different adverse reactions\n",
    "    ('SEX', 'DAMAGE'),          # patient's sex can influence the adverse reaction\n",
    "    ('VISIT', 'DAMAGE'),        # a timely ER visit can influence the final damage or it can be a signal of the severity of the adverse reaction\n",
    "]\n",
    "\n",
    "black_list=[\n",
    "    ('AGE', 'SEX'),             # sex is not influenced by any other factor in this context\n",
    "    ('SEX', 'AGE'),             # age is not influenced by any other factor in this context\n",
    "    ('VISIT', 'ALLERGIES'),     # allergies are not influenced by a visit\n",
    "    ('VISIT', 'ILLNESS'),       # illnesses are not influenced by a visit\n",
    "    ('VISIT', 'DOSE'),          # the dose is not influenced by a visit (which happens after)\n",
    "    ('ALLERGIES', 'SEX'),       # sex is not influenced by any other factor in this context\n",
    "    ('ALLERGIES', 'VISIT'),     # we assume that the visit is not influenced by allergies but a deeper analysis should be done\n",
    "    ('DAMAGE', 'ILLNESS'),      # the damage from the adverse reaction can't cause illnesses\n",
    "    ('DAMAGE', 'MANU'),         # the damage from the adverse reaction can't cause the manufacturer of the injection received\n",
    "    ('ALLERGIES', 'ILLNESS'),   # we assume that allergies and illnesses are two completely separated entities but a deeper analysis should be done\n",
    "    ('ILLNESS', 'ALLERGIES'),   # we assume that allergies and illnesses are two completely separated entities but a deeper analysis should be done\n",
    "    ('ILLNESS', 'SEX'),         # sex is not influenced by any other factor in this context\n",
    "]\n",
    "\n",
    "model_wdf = hcs.estimate(fixed_edges=fixed_edges, black_list=black_list)\n",
    "\n",
    "draw_graph(data.columns, model_wdf.edges())"
   ],
   "metadata": {
    "collapsed": false,
    "pycharm": {
     "name": "#%%\n"
    }
   }
  },
  {
   "cell_type": "markdown",
   "source": [
    "## CPDs\n",
    "Now that the network graph is ready, we need to fulfill it with Conditional Probability Tables."
   ],
   "metadata": {
    "collapsed": false
   }
  },
  {
   "cell_type": "markdown",
   "source": [
    "### CPDs learning\n",
    "CPDs are learnt directly from data with a bayesian estimator with the prior distribution Bayesian Dirichlet equivalent uniform."
   ],
   "metadata": {
    "collapsed": false,
    "pycharm": {
     "name": "#%% md\n"
    }
   }
  },
  {
   "cell_type": "code",
   "execution_count": 148,
   "outputs": [
    {
     "data": {
      "text/plain": "True"
     },
     "execution_count": 148,
     "metadata": {},
     "output_type": "execute_result"
    }
   ],
   "source": [
    "from pgmpy.models import BayesianModel\n",
    "from pgmpy.estimators import BayesianEstimator\n",
    "\n",
    "bayesian_model = BayesianModel(model_wdf.edges())\n",
    "bayesian_model.fit(data, estimator=BayesianEstimator, prior_type=\"BDeu\")\n",
    "\n",
    "bayesian_model.check_model()"
   ],
   "metadata": {
    "collapsed": false,
    "pycharm": {
     "name": "#%%\n"
    }
   }
  },
  {
   "cell_type": "code",
   "execution_count": 149,
   "outputs": [
    {
     "name": "stdout",
     "output_type": "stream",
     "text": [
      "+------------------+-------------+\n",
      "| AGE(Adult)       | 0.349988    |\n",
      "+------------------+-------------+\n",
      "| AGE(Baby)        | 5.80386e-05 |\n",
      "+------------------+-------------+\n",
      "| AGE(Minor)       | 0.0354924   |\n",
      "+------------------+-------------+\n",
      "| AGE(Old)         | 0.179473    |\n",
      "+------------------+-------------+\n",
      "| AGE(Over 80)     | 0.0422424   |\n",
      "+------------------+-------------+\n",
      "| AGE(Upper adult) | 0.253909    |\n",
      "+------------------+-------------+\n",
      "| AGE(Young)       | 0.138837    |\n",
      "+------------------+-------------+\n",
      "+----------------+---------------------+--------------------+---------------------+--------------------+--------------------+---------------------+--------------------+--------------------+---------------------+---------------------+--------------------+---------------------+---------------------+--------------------+\n",
      "| AGE            | AGE(Adult)          | AGE(Adult)         | AGE(Baby)           | AGE(Baby)          | AGE(Minor)         | AGE(Minor)          | AGE(Old)           | AGE(Old)           | AGE(Over 80)        | AGE(Over 80)        | AGE(Upper adult)   | AGE(Upper adult)    | AGE(Young)          | AGE(Young)         |\n",
      "+----------------+---------------------+--------------------+---------------------+--------------------+--------------------+---------------------+--------------------+--------------------+---------------------+---------------------+--------------------+---------------------+---------------------+--------------------+\n",
      "| SEX            | SEX(F)              | SEX(M)             | SEX(F)              | SEX(M)             | SEX(F)             | SEX(M)              | SEX(F)             | SEX(M)             | SEX(F)              | SEX(M)              | SEX(F)             | SEX(M)              | SEX(F)              | SEX(M)             |\n",
      "+----------------+---------------------+--------------------+---------------------+--------------------+--------------------+---------------------+--------------------+--------------------+---------------------+---------------------+--------------------+---------------------+---------------------+--------------------+\n",
      "| ILLNESS(False) | 0.5110075142897128  | 0.59230283735255   | 0.21999999999999997 | 0.6196581196581197 | 0.7111604406774593 | 0.7308529801848882  | 0.3541348817048412 | 0.3739177576748176 | 0.36710214986810974 | 0.38944430396981305 | 0.4165936569125635 | 0.45433699289557417 | 0.6067066158042054  | 0.6698076845866624 |\n",
      "+----------------+---------------------+--------------------+---------------------+--------------------+--------------------+---------------------+--------------------+--------------------+---------------------+---------------------+--------------------+---------------------+---------------------+--------------------+\n",
      "| ILLNESS(True)  | 0.48899248571028714 | 0.4076971626474501 | 0.78                | 0.3803418803418803 | 0.2888395593225406 | 0.26914701981511174 | 0.6458651182951587 | 0.6260822423251825 | 0.6328978501318903  | 0.6105556960301869  | 0.5834063430874364 | 0.5456630071044258  | 0.39329338419579457 | 0.3301923154133376 |\n",
      "+----------------+---------------------+--------------------+---------------------+--------------------+--------------------+---------------------+--------------------+--------------------+---------------------+---------------------+--------------------+---------------------+---------------------+--------------------+\n",
      "+------------------------+----------------------+------------------+----------------------+------------------+----------------------+-----------------------+----------------------+------------------+-----------------------+-----------------------+-----------------------+-----------------------+----------------------+------------------+----------------------+------------------+----------------------+------------------+---------------------+------------------+-----------------------+-----------------------+-----------------------+-----------------------+----------------------+-----------------+----------------------+-----------------+-----------------------+-----------------+----------------------+-----------------+-----------------------+-----------------------+-----------------------+-----------------------+----------------------+-----------------+----------------------+-----------------+----------------------+-----------------+----------------------+-----------------+-----------------------+-----------------------+-----------------------+-----------------------+------------------+------------------+------------------+------------------+------------------+------------------+-----------------------+------------------+-----------------------+-----------------------+-----------------------+-----------------------+------------------+------------------+------------------+------------------+----------------------+------------------+------------------+------------------+-----------------------+-----------------------+-----------------------+-----------------------+-----------------+-----------------+-----------------+-----------------+-----------------+-----------------+----------------------+-----------------+-----------------------+-----------------------+-----------------------+-----------------------+-----------------+-----------------+-----------------+-----------------+----------------------+-----------------+-----------------------+-----------------+-----------------------+-----------------------+-----------------------+-----------------------+-----------------------+------------------+-----------------------+------------------+-----------------------+------------------+------------------------+------------------+------------------------+-----------------------+-----------------------+-----------------------+------------------------+------------------+------------------------+------------------+--------------------+------------------+------------------------+------------------+-----------------------+-----------------------+-----------------------+-----------------------+-----------------------+-----------------+-----------------------+-----------------+------------------------+-----------------+-----------------------+-----------------+-----------------------+-----------------------+-----------------------+-----------------------+-----------------------+-----------------+------------------------+-----------------+------------------------+-----------------+-----------------------+-----------------+-----------------------+-----------------------+-----------------------+-----------------------+---------------------+------------------+----------------------+------------------+----------------------+----------------------+----------------------+------------------+-----------------------+-----------------------+-----------------------+-----------------------+---------------------+------------------+----------------------+------------------+----------------------+------------------+----------------------+----------------------+-----------------------+-----------------------+-----------------------+-----------------------+-----------------------+-----------------+----------------------+-----------------+-----------------------+-----------------+----------------------+-----------------+-----------------------+-----------------------+-----------------------+-----------------------+---------------------+-----------------+----------------------+-----------------+----------------------+-----------------+---------------------+-----------------+-----------------------+-----------------------+-----------------------+-----------------------+---------------------+------------------+---------------------+------------------+----------------------+-----------------------+-----------------------+------------------+-----------------------+-----------------------+-----------------------+-----------------------+----------------------+------------------+----------------------+------------------+---------------------+------------------+----------------------+------------------+-----------------------+-----------------------+-----------------------+-----------------------+-----------------------+-----------------+-----------------------+-----------------+----------------------+-----------------+------------------------+-----------------+-----------------------+-----------------------+-----------------------+-----------------------+----------------------+-----------------+------------------------+-----------------+----------------------+-----------------+----------------------+-----------------+-----------------------+-----------------------+-----------------------+-----------------------+----------------------+------------------+----------------------+------------------+----------------------+-----------------------+----------------------+------------------+-----------------------+-----------------------+-----------------------+-----------------------+----------------------+------------------+----------------------+------------------+----------------------+------------------+----------------------+----------------------+-----------------------+-----------------------+-----------------------+-----------------------+----------------------+------------------+----------------------+------------------+----------------------+------------------+----------------------+------------------+-----------------------+-----------------------+-----------------------+-----------------------+----------------------+------------------+---------------------+------------------+----------------------+------------------+----------------------+------------------+-----------------------+-----------------------+-----------------------+-----------------------+-----------------------+------------------+-----------------------+------------------+-----------------------+------------------+-----------------------+------------------+-----------------------+-----------------------+-----------------------+-----------------------+-----------------------+------------------+----------------------+------------------+-----------------------+------------------+----------------------+------------------+-----------------------+-----------------------+-----------------------+-----------------------+-----------------------+-----------------+------------------------+-----------------+----------------------+-----------------+----------------------+-----------------+-----------------------+-----------------------+-----------------------+-----------------------+-----------------------+-----------------+-----------------------+-----------------+----------------------+-----------------+----------------------+-----------------+-----------------------+-----------------------+-----------------------+-----------------------+\n",
      "| AGE                    | AGE(Adult)           | AGE(Adult)       | AGE(Adult)           | AGE(Adult)       | AGE(Adult)           | AGE(Adult)            | AGE(Adult)           | AGE(Adult)       | AGE(Adult)            | AGE(Adult)            | AGE(Adult)            | AGE(Adult)            | AGE(Adult)           | AGE(Adult)       | AGE(Adult)           | AGE(Adult)       | AGE(Adult)           | AGE(Adult)       | AGE(Adult)          | AGE(Adult)       | AGE(Adult)            | AGE(Adult)            | AGE(Adult)            | AGE(Adult)            | AGE(Adult)           | AGE(Adult)      | AGE(Adult)           | AGE(Adult)      | AGE(Adult)            | AGE(Adult)      | AGE(Adult)           | AGE(Adult)      | AGE(Adult)            | AGE(Adult)            | AGE(Adult)            | AGE(Adult)            | AGE(Adult)           | AGE(Adult)      | AGE(Adult)           | AGE(Adult)      | AGE(Adult)           | AGE(Adult)      | AGE(Adult)           | AGE(Adult)      | AGE(Adult)            | AGE(Adult)            | AGE(Adult)            | AGE(Adult)            | AGE(Baby)        | AGE(Baby)        | AGE(Baby)        | AGE(Baby)        | AGE(Baby)        | AGE(Baby)        | AGE(Baby)             | AGE(Baby)        | AGE(Baby)             | AGE(Baby)             | AGE(Baby)             | AGE(Baby)             | AGE(Baby)        | AGE(Baby)        | AGE(Baby)        | AGE(Baby)        | AGE(Baby)            | AGE(Baby)        | AGE(Baby)        | AGE(Baby)        | AGE(Baby)             | AGE(Baby)             | AGE(Baby)             | AGE(Baby)             | AGE(Baby)       | AGE(Baby)       | AGE(Baby)       | AGE(Baby)       | AGE(Baby)       | AGE(Baby)       | AGE(Baby)            | AGE(Baby)       | AGE(Baby)             | AGE(Baby)             | AGE(Baby)             | AGE(Baby)             | AGE(Baby)       | AGE(Baby)       | AGE(Baby)       | AGE(Baby)       | AGE(Baby)            | AGE(Baby)       | AGE(Baby)             | AGE(Baby)       | AGE(Baby)             | AGE(Baby)             | AGE(Baby)             | AGE(Baby)             | AGE(Minor)            | AGE(Minor)       | AGE(Minor)            | AGE(Minor)       | AGE(Minor)            | AGE(Minor)       | AGE(Minor)             | AGE(Minor)       | AGE(Minor)             | AGE(Minor)            | AGE(Minor)            | AGE(Minor)            | AGE(Minor)             | AGE(Minor)       | AGE(Minor)             | AGE(Minor)       | AGE(Minor)         | AGE(Minor)       | AGE(Minor)             | AGE(Minor)       | AGE(Minor)            | AGE(Minor)            | AGE(Minor)            | AGE(Minor)            | AGE(Minor)            | AGE(Minor)      | AGE(Minor)            | AGE(Minor)      | AGE(Minor)             | AGE(Minor)      | AGE(Minor)            | AGE(Minor)      | AGE(Minor)            | AGE(Minor)            | AGE(Minor)            | AGE(Minor)            | AGE(Minor)            | AGE(Minor)      | AGE(Minor)             | AGE(Minor)      | AGE(Minor)             | AGE(Minor)      | AGE(Minor)            | AGE(Minor)      | AGE(Minor)            | AGE(Minor)            | AGE(Minor)            | AGE(Minor)            | AGE(Old)            | AGE(Old)         | AGE(Old)             | AGE(Old)         | AGE(Old)             | AGE(Old)             | AGE(Old)             | AGE(Old)         | AGE(Old)              | AGE(Old)              | AGE(Old)              | AGE(Old)              | AGE(Old)            | AGE(Old)         | AGE(Old)             | AGE(Old)         | AGE(Old)             | AGE(Old)         | AGE(Old)             | AGE(Old)             | AGE(Old)              | AGE(Old)              | AGE(Old)              | AGE(Old)              | AGE(Old)              | AGE(Old)        | AGE(Old)             | AGE(Old)        | AGE(Old)              | AGE(Old)        | AGE(Old)             | AGE(Old)        | AGE(Old)              | AGE(Old)              | AGE(Old)              | AGE(Old)              | AGE(Old)            | AGE(Old)        | AGE(Old)             | AGE(Old)        | AGE(Old)             | AGE(Old)        | AGE(Old)            | AGE(Old)        | AGE(Old)              | AGE(Old)              | AGE(Old)              | AGE(Old)              | AGE(Over 80)        | AGE(Over 80)     | AGE(Over 80)        | AGE(Over 80)     | AGE(Over 80)         | AGE(Over 80)          | AGE(Over 80)          | AGE(Over 80)     | AGE(Over 80)          | AGE(Over 80)          | AGE(Over 80)          | AGE(Over 80)          | AGE(Over 80)         | AGE(Over 80)     | AGE(Over 80)         | AGE(Over 80)     | AGE(Over 80)        | AGE(Over 80)     | AGE(Over 80)         | AGE(Over 80)     | AGE(Over 80)          | AGE(Over 80)          | AGE(Over 80)          | AGE(Over 80)          | AGE(Over 80)          | AGE(Over 80)    | AGE(Over 80)          | AGE(Over 80)    | AGE(Over 80)         | AGE(Over 80)    | AGE(Over 80)           | AGE(Over 80)    | AGE(Over 80)          | AGE(Over 80)          | AGE(Over 80)          | AGE(Over 80)          | AGE(Over 80)         | AGE(Over 80)    | AGE(Over 80)           | AGE(Over 80)    | AGE(Over 80)         | AGE(Over 80)    | AGE(Over 80)         | AGE(Over 80)    | AGE(Over 80)          | AGE(Over 80)          | AGE(Over 80)          | AGE(Over 80)          | AGE(Upper adult)     | AGE(Upper adult) | AGE(Upper adult)     | AGE(Upper adult) | AGE(Upper adult)     | AGE(Upper adult)      | AGE(Upper adult)     | AGE(Upper adult) | AGE(Upper adult)      | AGE(Upper adult)      | AGE(Upper adult)      | AGE(Upper adult)      | AGE(Upper adult)     | AGE(Upper adult) | AGE(Upper adult)     | AGE(Upper adult) | AGE(Upper adult)     | AGE(Upper adult) | AGE(Upper adult)     | AGE(Upper adult)     | AGE(Upper adult)      | AGE(Upper adult)      | AGE(Upper adult)      | AGE(Upper adult)      | AGE(Upper adult)     | AGE(Upper adult) | AGE(Upper adult)     | AGE(Upper adult) | AGE(Upper adult)     | AGE(Upper adult) | AGE(Upper adult)     | AGE(Upper adult) | AGE(Upper adult)      | AGE(Upper adult)      | AGE(Upper adult)      | AGE(Upper adult)      | AGE(Upper adult)     | AGE(Upper adult) | AGE(Upper adult)    | AGE(Upper adult) | AGE(Upper adult)     | AGE(Upper adult) | AGE(Upper adult)     | AGE(Upper adult) | AGE(Upper adult)      | AGE(Upper adult)      | AGE(Upper adult)      | AGE(Upper adult)      | AGE(Young)            | AGE(Young)       | AGE(Young)            | AGE(Young)       | AGE(Young)            | AGE(Young)       | AGE(Young)            | AGE(Young)       | AGE(Young)            | AGE(Young)            | AGE(Young)            | AGE(Young)            | AGE(Young)            | AGE(Young)       | AGE(Young)           | AGE(Young)       | AGE(Young)            | AGE(Young)       | AGE(Young)           | AGE(Young)       | AGE(Young)            | AGE(Young)            | AGE(Young)            | AGE(Young)            | AGE(Young)            | AGE(Young)      | AGE(Young)             | AGE(Young)      | AGE(Young)           | AGE(Young)      | AGE(Young)           | AGE(Young)      | AGE(Young)            | AGE(Young)            | AGE(Young)            | AGE(Young)            | AGE(Young)            | AGE(Young)      | AGE(Young)            | AGE(Young)      | AGE(Young)           | AGE(Young)      | AGE(Young)           | AGE(Young)      | AGE(Young)            | AGE(Young)            | AGE(Young)            | AGE(Young)            |\n",
      "+------------------------+----------------------+------------------+----------------------+------------------+----------------------+-----------------------+----------------------+------------------+-----------------------+-----------------------+-----------------------+-----------------------+----------------------+------------------+----------------------+------------------+----------------------+------------------+---------------------+------------------+-----------------------+-----------------------+-----------------------+-----------------------+----------------------+-----------------+----------------------+-----------------+-----------------------+-----------------+----------------------+-----------------+-----------------------+-----------------------+-----------------------+-----------------------+----------------------+-----------------+----------------------+-----------------+----------------------+-----------------+----------------------+-----------------+-----------------------+-----------------------+-----------------------+-----------------------+------------------+------------------+------------------+------------------+------------------+------------------+-----------------------+------------------+-----------------------+-----------------------+-----------------------+-----------------------+------------------+------------------+------------------+------------------+----------------------+------------------+------------------+------------------+-----------------------+-----------------------+-----------------------+-----------------------+-----------------+-----------------+-----------------+-----------------+-----------------+-----------------+----------------------+-----------------+-----------------------+-----------------------+-----------------------+-----------------------+-----------------+-----------------+-----------------+-----------------+----------------------+-----------------+-----------------------+-----------------+-----------------------+-----------------------+-----------------------+-----------------------+-----------------------+------------------+-----------------------+------------------+-----------------------+------------------+------------------------+------------------+------------------------+-----------------------+-----------------------+-----------------------+------------------------+------------------+------------------------+------------------+--------------------+------------------+------------------------+------------------+-----------------------+-----------------------+-----------------------+-----------------------+-----------------------+-----------------+-----------------------+-----------------+------------------------+-----------------+-----------------------+-----------------+-----------------------+-----------------------+-----------------------+-----------------------+-----------------------+-----------------+------------------------+-----------------+------------------------+-----------------+-----------------------+-----------------+-----------------------+-----------------------+-----------------------+-----------------------+---------------------+------------------+----------------------+------------------+----------------------+----------------------+----------------------+------------------+-----------------------+-----------------------+-----------------------+-----------------------+---------------------+------------------+----------------------+------------------+----------------------+------------------+----------------------+----------------------+-----------------------+-----------------------+-----------------------+-----------------------+-----------------------+-----------------+----------------------+-----------------+-----------------------+-----------------+----------------------+-----------------+-----------------------+-----------------------+-----------------------+-----------------------+---------------------+-----------------+----------------------+-----------------+----------------------+-----------------+---------------------+-----------------+-----------------------+-----------------------+-----------------------+-----------------------+---------------------+------------------+---------------------+------------------+----------------------+-----------------------+-----------------------+------------------+-----------------------+-----------------------+-----------------------+-----------------------+----------------------+------------------+----------------------+------------------+---------------------+------------------+----------------------+------------------+-----------------------+-----------------------+-----------------------+-----------------------+-----------------------+-----------------+-----------------------+-----------------+----------------------+-----------------+------------------------+-----------------+-----------------------+-----------------------+-----------------------+-----------------------+----------------------+-----------------+------------------------+-----------------+----------------------+-----------------+----------------------+-----------------+-----------------------+-----------------------+-----------------------+-----------------------+----------------------+------------------+----------------------+------------------+----------------------+-----------------------+----------------------+------------------+-----------------------+-----------------------+-----------------------+-----------------------+----------------------+------------------+----------------------+------------------+----------------------+------------------+----------------------+----------------------+-----------------------+-----------------------+-----------------------+-----------------------+----------------------+------------------+----------------------+------------------+----------------------+------------------+----------------------+------------------+-----------------------+-----------------------+-----------------------+-----------------------+----------------------+------------------+---------------------+------------------+----------------------+------------------+----------------------+------------------+-----------------------+-----------------------+-----------------------+-----------------------+-----------------------+------------------+-----------------------+------------------+-----------------------+------------------+-----------------------+------------------+-----------------------+-----------------------+-----------------------+-----------------------+-----------------------+------------------+----------------------+------------------+-----------------------+------------------+----------------------+------------------+-----------------------+-----------------------+-----------------------+-----------------------+-----------------------+-----------------+------------------------+-----------------+----------------------+-----------------+----------------------+-----------------+-----------------------+-----------------------+-----------------------+-----------------------+-----------------------+-----------------+-----------------------+-----------------+----------------------+-----------------+----------------------+-----------------+-----------------------+-----------------------+-----------------------+-----------------------+\n",
      "| ALLERGIES              | ALLERGIES(False)     | ALLERGIES(False) | ALLERGIES(False)     | ALLERGIES(False) | ALLERGIES(False)     | ALLERGIES(False)      | ALLERGIES(False)     | ALLERGIES(False) | ALLERGIES(False)      | ALLERGIES(False)      | ALLERGIES(False)      | ALLERGIES(False)      | ALLERGIES(False)     | ALLERGIES(False) | ALLERGIES(False)     | ALLERGIES(False) | ALLERGIES(False)     | ALLERGIES(False) | ALLERGIES(False)    | ALLERGIES(False) | ALLERGIES(False)      | ALLERGIES(False)      | ALLERGIES(False)      | ALLERGIES(False)      | ALLERGIES(True)      | ALLERGIES(True) | ALLERGIES(True)      | ALLERGIES(True) | ALLERGIES(True)       | ALLERGIES(True) | ALLERGIES(True)      | ALLERGIES(True) | ALLERGIES(True)       | ALLERGIES(True)       | ALLERGIES(True)       | ALLERGIES(True)       | ALLERGIES(True)      | ALLERGIES(True) | ALLERGIES(True)      | ALLERGIES(True) | ALLERGIES(True)      | ALLERGIES(True) | ALLERGIES(True)      | ALLERGIES(True) | ALLERGIES(True)       | ALLERGIES(True)       | ALLERGIES(True)       | ALLERGIES(True)       | ALLERGIES(False) | ALLERGIES(False) | ALLERGIES(False) | ALLERGIES(False) | ALLERGIES(False) | ALLERGIES(False) | ALLERGIES(False)      | ALLERGIES(False) | ALLERGIES(False)      | ALLERGIES(False)      | ALLERGIES(False)      | ALLERGIES(False)      | ALLERGIES(False) | ALLERGIES(False) | ALLERGIES(False) | ALLERGIES(False) | ALLERGIES(False)     | ALLERGIES(False) | ALLERGIES(False) | ALLERGIES(False) | ALLERGIES(False)      | ALLERGIES(False)      | ALLERGIES(False)      | ALLERGIES(False)      | ALLERGIES(True) | ALLERGIES(True) | ALLERGIES(True) | ALLERGIES(True) | ALLERGIES(True) | ALLERGIES(True) | ALLERGIES(True)      | ALLERGIES(True) | ALLERGIES(True)       | ALLERGIES(True)       | ALLERGIES(True)       | ALLERGIES(True)       | ALLERGIES(True) | ALLERGIES(True) | ALLERGIES(True) | ALLERGIES(True) | ALLERGIES(True)      | ALLERGIES(True) | ALLERGIES(True)       | ALLERGIES(True) | ALLERGIES(True)       | ALLERGIES(True)       | ALLERGIES(True)       | ALLERGIES(True)       | ALLERGIES(False)      | ALLERGIES(False) | ALLERGIES(False)      | ALLERGIES(False) | ALLERGIES(False)      | ALLERGIES(False) | ALLERGIES(False)       | ALLERGIES(False) | ALLERGIES(False)       | ALLERGIES(False)      | ALLERGIES(False)      | ALLERGIES(False)      | ALLERGIES(False)       | ALLERGIES(False) | ALLERGIES(False)       | ALLERGIES(False) | ALLERGIES(False)   | ALLERGIES(False) | ALLERGIES(False)       | ALLERGIES(False) | ALLERGIES(False)      | ALLERGIES(False)      | ALLERGIES(False)      | ALLERGIES(False)      | ALLERGIES(True)       | ALLERGIES(True) | ALLERGIES(True)       | ALLERGIES(True) | ALLERGIES(True)        | ALLERGIES(True) | ALLERGIES(True)       | ALLERGIES(True) | ALLERGIES(True)       | ALLERGIES(True)       | ALLERGIES(True)       | ALLERGIES(True)       | ALLERGIES(True)       | ALLERGIES(True) | ALLERGIES(True)        | ALLERGIES(True) | ALLERGIES(True)        | ALLERGIES(True) | ALLERGIES(True)       | ALLERGIES(True) | ALLERGIES(True)       | ALLERGIES(True)       | ALLERGIES(True)       | ALLERGIES(True)       | ALLERGIES(False)    | ALLERGIES(False) | ALLERGIES(False)     | ALLERGIES(False) | ALLERGIES(False)     | ALLERGIES(False)     | ALLERGIES(False)     | ALLERGIES(False) | ALLERGIES(False)      | ALLERGIES(False)      | ALLERGIES(False)      | ALLERGIES(False)      | ALLERGIES(False)    | ALLERGIES(False) | ALLERGIES(False)     | ALLERGIES(False) | ALLERGIES(False)     | ALLERGIES(False) | ALLERGIES(False)     | ALLERGIES(False)     | ALLERGIES(False)      | ALLERGIES(False)      | ALLERGIES(False)      | ALLERGIES(False)      | ALLERGIES(True)       | ALLERGIES(True) | ALLERGIES(True)      | ALLERGIES(True) | ALLERGIES(True)       | ALLERGIES(True) | ALLERGIES(True)      | ALLERGIES(True) | ALLERGIES(True)       | ALLERGIES(True)       | ALLERGIES(True)       | ALLERGIES(True)       | ALLERGIES(True)     | ALLERGIES(True) | ALLERGIES(True)      | ALLERGIES(True) | ALLERGIES(True)      | ALLERGIES(True) | ALLERGIES(True)     | ALLERGIES(True) | ALLERGIES(True)       | ALLERGIES(True)       | ALLERGIES(True)       | ALLERGIES(True)       | ALLERGIES(False)    | ALLERGIES(False) | ALLERGIES(False)    | ALLERGIES(False) | ALLERGIES(False)     | ALLERGIES(False)      | ALLERGIES(False)      | ALLERGIES(False) | ALLERGIES(False)      | ALLERGIES(False)      | ALLERGIES(False)      | ALLERGIES(False)      | ALLERGIES(False)     | ALLERGIES(False) | ALLERGIES(False)     | ALLERGIES(False) | ALLERGIES(False)    | ALLERGIES(False) | ALLERGIES(False)     | ALLERGIES(False) | ALLERGIES(False)      | ALLERGIES(False)      | ALLERGIES(False)      | ALLERGIES(False)      | ALLERGIES(True)       | ALLERGIES(True) | ALLERGIES(True)       | ALLERGIES(True) | ALLERGIES(True)      | ALLERGIES(True) | ALLERGIES(True)        | ALLERGIES(True) | ALLERGIES(True)       | ALLERGIES(True)       | ALLERGIES(True)       | ALLERGIES(True)       | ALLERGIES(True)      | ALLERGIES(True) | ALLERGIES(True)        | ALLERGIES(True) | ALLERGIES(True)      | ALLERGIES(True) | ALLERGIES(True)      | ALLERGIES(True) | ALLERGIES(True)       | ALLERGIES(True)       | ALLERGIES(True)       | ALLERGIES(True)       | ALLERGIES(False)     | ALLERGIES(False) | ALLERGIES(False)     | ALLERGIES(False) | ALLERGIES(False)     | ALLERGIES(False)      | ALLERGIES(False)     | ALLERGIES(False) | ALLERGIES(False)      | ALLERGIES(False)      | ALLERGIES(False)      | ALLERGIES(False)      | ALLERGIES(False)     | ALLERGIES(False) | ALLERGIES(False)     | ALLERGIES(False) | ALLERGIES(False)     | ALLERGIES(False) | ALLERGIES(False)     | ALLERGIES(False)     | ALLERGIES(False)      | ALLERGIES(False)      | ALLERGIES(False)      | ALLERGIES(False)      | ALLERGIES(True)      | ALLERGIES(True)  | ALLERGIES(True)      | ALLERGIES(True)  | ALLERGIES(True)      | ALLERGIES(True)  | ALLERGIES(True)      | ALLERGIES(True)  | ALLERGIES(True)       | ALLERGIES(True)       | ALLERGIES(True)       | ALLERGIES(True)       | ALLERGIES(True)      | ALLERGIES(True)  | ALLERGIES(True)     | ALLERGIES(True)  | ALLERGIES(True)      | ALLERGIES(True)  | ALLERGIES(True)      | ALLERGIES(True)  | ALLERGIES(True)       | ALLERGIES(True)       | ALLERGIES(True)       | ALLERGIES(True)       | ALLERGIES(False)      | ALLERGIES(False) | ALLERGIES(False)      | ALLERGIES(False) | ALLERGIES(False)      | ALLERGIES(False) | ALLERGIES(False)      | ALLERGIES(False) | ALLERGIES(False)      | ALLERGIES(False)      | ALLERGIES(False)      | ALLERGIES(False)      | ALLERGIES(False)      | ALLERGIES(False) | ALLERGIES(False)     | ALLERGIES(False) | ALLERGIES(False)      | ALLERGIES(False) | ALLERGIES(False)     | ALLERGIES(False) | ALLERGIES(False)      | ALLERGIES(False)      | ALLERGIES(False)      | ALLERGIES(False)      | ALLERGIES(True)       | ALLERGIES(True) | ALLERGIES(True)        | ALLERGIES(True) | ALLERGIES(True)      | ALLERGIES(True) | ALLERGIES(True)      | ALLERGIES(True) | ALLERGIES(True)       | ALLERGIES(True)       | ALLERGIES(True)       | ALLERGIES(True)       | ALLERGIES(True)       | ALLERGIES(True) | ALLERGIES(True)       | ALLERGIES(True) | ALLERGIES(True)      | ALLERGIES(True) | ALLERGIES(True)      | ALLERGIES(True) | ALLERGIES(True)       | ALLERGIES(True)       | ALLERGIES(True)       | ALLERGIES(True)       |\n",
      "+------------------------+----------------------+------------------+----------------------+------------------+----------------------+-----------------------+----------------------+------------------+-----------------------+-----------------------+-----------------------+-----------------------+----------------------+------------------+----------------------+------------------+----------------------+------------------+---------------------+------------------+-----------------------+-----------------------+-----------------------+-----------------------+----------------------+-----------------+----------------------+-----------------+-----------------------+-----------------+----------------------+-----------------+-----------------------+-----------------------+-----------------------+-----------------------+----------------------+-----------------+----------------------+-----------------+----------------------+-----------------+----------------------+-----------------+-----------------------+-----------------------+-----------------------+-----------------------+------------------+------------------+------------------+------------------+------------------+------------------+-----------------------+------------------+-----------------------+-----------------------+-----------------------+-----------------------+------------------+------------------+------------------+------------------+----------------------+------------------+------------------+------------------+-----------------------+-----------------------+-----------------------+-----------------------+-----------------+-----------------+-----------------+-----------------+-----------------+-----------------+----------------------+-----------------+-----------------------+-----------------------+-----------------------+-----------------------+-----------------+-----------------+-----------------+-----------------+----------------------+-----------------+-----------------------+-----------------+-----------------------+-----------------------+-----------------------+-----------------------+-----------------------+------------------+-----------------------+------------------+-----------------------+------------------+------------------------+------------------+------------------------+-----------------------+-----------------------+-----------------------+------------------------+------------------+------------------------+------------------+--------------------+------------------+------------------------+------------------+-----------------------+-----------------------+-----------------------+-----------------------+-----------------------+-----------------+-----------------------+-----------------+------------------------+-----------------+-----------------------+-----------------+-----------------------+-----------------------+-----------------------+-----------------------+-----------------------+-----------------+------------------------+-----------------+------------------------+-----------------+-----------------------+-----------------+-----------------------+-----------------------+-----------------------+-----------------------+---------------------+------------------+----------------------+------------------+----------------------+----------------------+----------------------+------------------+-----------------------+-----------------------+-----------------------+-----------------------+---------------------+------------------+----------------------+------------------+----------------------+------------------+----------------------+----------------------+-----------------------+-----------------------+-----------------------+-----------------------+-----------------------+-----------------+----------------------+-----------------+-----------------------+-----------------+----------------------+-----------------+-----------------------+-----------------------+-----------------------+-----------------------+---------------------+-----------------+----------------------+-----------------+----------------------+-----------------+---------------------+-----------------+-----------------------+-----------------------+-----------------------+-----------------------+---------------------+------------------+---------------------+------------------+----------------------+-----------------------+-----------------------+------------------+-----------------------+-----------------------+-----------------------+-----------------------+----------------------+------------------+----------------------+------------------+---------------------+------------------+----------------------+------------------+-----------------------+-----------------------+-----------------------+-----------------------+-----------------------+-----------------+-----------------------+-----------------+----------------------+-----------------+------------------------+-----------------+-----------------------+-----------------------+-----------------------+-----------------------+----------------------+-----------------+------------------------+-----------------+----------------------+-----------------+----------------------+-----------------+-----------------------+-----------------------+-----------------------+-----------------------+----------------------+------------------+----------------------+------------------+----------------------+-----------------------+----------------------+------------------+-----------------------+-----------------------+-----------------------+-----------------------+----------------------+------------------+----------------------+------------------+----------------------+------------------+----------------------+----------------------+-----------------------+-----------------------+-----------------------+-----------------------+----------------------+------------------+----------------------+------------------+----------------------+------------------+----------------------+------------------+-----------------------+-----------------------+-----------------------+-----------------------+----------------------+------------------+---------------------+------------------+----------------------+------------------+----------------------+------------------+-----------------------+-----------------------+-----------------------+-----------------------+-----------------------+------------------+-----------------------+------------------+-----------------------+------------------+-----------------------+------------------+-----------------------+-----------------------+-----------------------+-----------------------+-----------------------+------------------+----------------------+------------------+-----------------------+------------------+----------------------+------------------+-----------------------+-----------------------+-----------------------+-----------------------+-----------------------+-----------------+------------------------+-----------------+----------------------+-----------------+----------------------+-----------------+-----------------------+-----------------------+-----------------------+-----------------------+-----------------------+-----------------+-----------------------+-----------------+----------------------+-----------------+----------------------+-----------------+-----------------------+-----------------------+-----------------------+-----------------------+\n",
      "| ILLNESS                | ILLNESS(False)       | ILLNESS(False)   | ILLNESS(False)       | ILLNESS(False)   | ILLNESS(False)       | ILLNESS(False)        | ILLNESS(False)       | ILLNESS(False)   | ILLNESS(False)        | ILLNESS(False)        | ILLNESS(False)        | ILLNESS(False)        | ILLNESS(True)        | ILLNESS(True)    | ILLNESS(True)        | ILLNESS(True)    | ILLNESS(True)        | ILLNESS(True)    | ILLNESS(True)       | ILLNESS(True)    | ILLNESS(True)         | ILLNESS(True)         | ILLNESS(True)         | ILLNESS(True)         | ILLNESS(False)       | ILLNESS(False)  | ILLNESS(False)       | ILLNESS(False)  | ILLNESS(False)        | ILLNESS(False)  | ILLNESS(False)       | ILLNESS(False)  | ILLNESS(False)        | ILLNESS(False)        | ILLNESS(False)        | ILLNESS(False)        | ILLNESS(True)        | ILLNESS(True)   | ILLNESS(True)        | ILLNESS(True)   | ILLNESS(True)        | ILLNESS(True)   | ILLNESS(True)        | ILLNESS(True)   | ILLNESS(True)         | ILLNESS(True)         | ILLNESS(True)         | ILLNESS(True)         | ILLNESS(False)   | ILLNESS(False)   | ILLNESS(False)   | ILLNESS(False)   | ILLNESS(False)   | ILLNESS(False)   | ILLNESS(False)        | ILLNESS(False)   | ILLNESS(False)        | ILLNESS(False)        | ILLNESS(False)        | ILLNESS(False)        | ILLNESS(True)    | ILLNESS(True)    | ILLNESS(True)    | ILLNESS(True)    | ILLNESS(True)        | ILLNESS(True)    | ILLNESS(True)    | ILLNESS(True)    | ILLNESS(True)         | ILLNESS(True)         | ILLNESS(True)         | ILLNESS(True)         | ILLNESS(False)  | ILLNESS(False)  | ILLNESS(False)  | ILLNESS(False)  | ILLNESS(False)  | ILLNESS(False)  | ILLNESS(False)       | ILLNESS(False)  | ILLNESS(False)        | ILLNESS(False)        | ILLNESS(False)        | ILLNESS(False)        | ILLNESS(True)   | ILLNESS(True)   | ILLNESS(True)   | ILLNESS(True)   | ILLNESS(True)        | ILLNESS(True)   | ILLNESS(True)         | ILLNESS(True)   | ILLNESS(True)         | ILLNESS(True)         | ILLNESS(True)         | ILLNESS(True)         | ILLNESS(False)        | ILLNESS(False)   | ILLNESS(False)        | ILLNESS(False)   | ILLNESS(False)        | ILLNESS(False)   | ILLNESS(False)         | ILLNESS(False)   | ILLNESS(False)         | ILLNESS(False)        | ILLNESS(False)        | ILLNESS(False)        | ILLNESS(True)          | ILLNESS(True)    | ILLNESS(True)          | ILLNESS(True)    | ILLNESS(True)      | ILLNESS(True)    | ILLNESS(True)          | ILLNESS(True)    | ILLNESS(True)         | ILLNESS(True)         | ILLNESS(True)         | ILLNESS(True)         | ILLNESS(False)        | ILLNESS(False)  | ILLNESS(False)        | ILLNESS(False)  | ILLNESS(False)         | ILLNESS(False)  | ILLNESS(False)        | ILLNESS(False)  | ILLNESS(False)        | ILLNESS(False)        | ILLNESS(False)        | ILLNESS(False)        | ILLNESS(True)         | ILLNESS(True)   | ILLNESS(True)          | ILLNESS(True)   | ILLNESS(True)          | ILLNESS(True)   | ILLNESS(True)         | ILLNESS(True)   | ILLNESS(True)         | ILLNESS(True)         | ILLNESS(True)         | ILLNESS(True)         | ILLNESS(False)      | ILLNESS(False)   | ILLNESS(False)       | ILLNESS(False)   | ILLNESS(False)       | ILLNESS(False)       | ILLNESS(False)       | ILLNESS(False)   | ILLNESS(False)        | ILLNESS(False)        | ILLNESS(False)        | ILLNESS(False)        | ILLNESS(True)       | ILLNESS(True)    | ILLNESS(True)        | ILLNESS(True)    | ILLNESS(True)        | ILLNESS(True)    | ILLNESS(True)        | ILLNESS(True)        | ILLNESS(True)         | ILLNESS(True)         | ILLNESS(True)         | ILLNESS(True)         | ILLNESS(False)        | ILLNESS(False)  | ILLNESS(False)       | ILLNESS(False)  | ILLNESS(False)        | ILLNESS(False)  | ILLNESS(False)       | ILLNESS(False)  | ILLNESS(False)        | ILLNESS(False)        | ILLNESS(False)        | ILLNESS(False)        | ILLNESS(True)       | ILLNESS(True)   | ILLNESS(True)        | ILLNESS(True)   | ILLNESS(True)        | ILLNESS(True)   | ILLNESS(True)       | ILLNESS(True)   | ILLNESS(True)         | ILLNESS(True)         | ILLNESS(True)         | ILLNESS(True)         | ILLNESS(False)      | ILLNESS(False)   | ILLNESS(False)      | ILLNESS(False)   | ILLNESS(False)       | ILLNESS(False)        | ILLNESS(False)        | ILLNESS(False)   | ILLNESS(False)        | ILLNESS(False)        | ILLNESS(False)        | ILLNESS(False)        | ILLNESS(True)        | ILLNESS(True)    | ILLNESS(True)        | ILLNESS(True)    | ILLNESS(True)       | ILLNESS(True)    | ILLNESS(True)        | ILLNESS(True)    | ILLNESS(True)         | ILLNESS(True)         | ILLNESS(True)         | ILLNESS(True)         | ILLNESS(False)        | ILLNESS(False)  | ILLNESS(False)        | ILLNESS(False)  | ILLNESS(False)       | ILLNESS(False)  | ILLNESS(False)         | ILLNESS(False)  | ILLNESS(False)        | ILLNESS(False)        | ILLNESS(False)        | ILLNESS(False)        | ILLNESS(True)        | ILLNESS(True)   | ILLNESS(True)          | ILLNESS(True)   | ILLNESS(True)        | ILLNESS(True)   | ILLNESS(True)        | ILLNESS(True)   | ILLNESS(True)         | ILLNESS(True)         | ILLNESS(True)         | ILLNESS(True)         | ILLNESS(False)       | ILLNESS(False)   | ILLNESS(False)       | ILLNESS(False)   | ILLNESS(False)       | ILLNESS(False)        | ILLNESS(False)       | ILLNESS(False)   | ILLNESS(False)        | ILLNESS(False)        | ILLNESS(False)        | ILLNESS(False)        | ILLNESS(True)        | ILLNESS(True)    | ILLNESS(True)        | ILLNESS(True)    | ILLNESS(True)        | ILLNESS(True)    | ILLNESS(True)        | ILLNESS(True)        | ILLNESS(True)         | ILLNESS(True)         | ILLNESS(True)         | ILLNESS(True)         | ILLNESS(False)       | ILLNESS(False)   | ILLNESS(False)       | ILLNESS(False)   | ILLNESS(False)       | ILLNESS(False)   | ILLNESS(False)       | ILLNESS(False)   | ILLNESS(False)        | ILLNESS(False)        | ILLNESS(False)        | ILLNESS(False)        | ILLNESS(True)        | ILLNESS(True)    | ILLNESS(True)       | ILLNESS(True)    | ILLNESS(True)        | ILLNESS(True)    | ILLNESS(True)        | ILLNESS(True)    | ILLNESS(True)         | ILLNESS(True)         | ILLNESS(True)         | ILLNESS(True)         | ILLNESS(False)        | ILLNESS(False)   | ILLNESS(False)        | ILLNESS(False)   | ILLNESS(False)        | ILLNESS(False)   | ILLNESS(False)        | ILLNESS(False)   | ILLNESS(False)        | ILLNESS(False)        | ILLNESS(False)        | ILLNESS(False)        | ILLNESS(True)         | ILLNESS(True)    | ILLNESS(True)        | ILLNESS(True)    | ILLNESS(True)         | ILLNESS(True)    | ILLNESS(True)        | ILLNESS(True)    | ILLNESS(True)         | ILLNESS(True)         | ILLNESS(True)         | ILLNESS(True)         | ILLNESS(False)        | ILLNESS(False)  | ILLNESS(False)         | ILLNESS(False)  | ILLNESS(False)       | ILLNESS(False)  | ILLNESS(False)       | ILLNESS(False)  | ILLNESS(False)        | ILLNESS(False)        | ILLNESS(False)        | ILLNESS(False)        | ILLNESS(True)         | ILLNESS(True)   | ILLNESS(True)         | ILLNESS(True)   | ILLNESS(True)        | ILLNESS(True)   | ILLNESS(True)        | ILLNESS(True)   | ILLNESS(True)         | ILLNESS(True)         | ILLNESS(True)         | ILLNESS(True)         |\n",
      "+------------------------+----------------------+------------------+----------------------+------------------+----------------------+-----------------------+----------------------+------------------+-----------------------+-----------------------+-----------------------+-----------------------+----------------------+------------------+----------------------+------------------+----------------------+------------------+---------------------+------------------+-----------------------+-----------------------+-----------------------+-----------------------+----------------------+-----------------+----------------------+-----------------+-----------------------+-----------------+----------------------+-----------------+-----------------------+-----------------------+-----------------------+-----------------------+----------------------+-----------------+----------------------+-----------------+----------------------+-----------------+----------------------+-----------------+-----------------------+-----------------------+-----------------------+-----------------------+------------------+------------------+------------------+------------------+------------------+------------------+-----------------------+------------------+-----------------------+-----------------------+-----------------------+-----------------------+------------------+------------------+------------------+------------------+----------------------+------------------+------------------+------------------+-----------------------+-----------------------+-----------------------+-----------------------+-----------------+-----------------+-----------------+-----------------+-----------------+-----------------+----------------------+-----------------+-----------------------+-----------------------+-----------------------+-----------------------+-----------------+-----------------+-----------------+-----------------+----------------------+-----------------+-----------------------+-----------------+-----------------------+-----------------------+-----------------------+-----------------------+-----------------------+------------------+-----------------------+------------------+-----------------------+------------------+------------------------+------------------+------------------------+-----------------------+-----------------------+-----------------------+------------------------+------------------+------------------------+------------------+--------------------+------------------+------------------------+------------------+-----------------------+-----------------------+-----------------------+-----------------------+-----------------------+-----------------+-----------------------+-----------------+------------------------+-----------------+-----------------------+-----------------+-----------------------+-----------------------+-----------------------+-----------------------+-----------------------+-----------------+------------------------+-----------------+------------------------+-----------------+-----------------------+-----------------+-----------------------+-----------------------+-----------------------+-----------------------+---------------------+------------------+----------------------+------------------+----------------------+----------------------+----------------------+------------------+-----------------------+-----------------------+-----------------------+-----------------------+---------------------+------------------+----------------------+------------------+----------------------+------------------+----------------------+----------------------+-----------------------+-----------------------+-----------------------+-----------------------+-----------------------+-----------------+----------------------+-----------------+-----------------------+-----------------+----------------------+-----------------+-----------------------+-----------------------+-----------------------+-----------------------+---------------------+-----------------+----------------------+-----------------+----------------------+-----------------+---------------------+-----------------+-----------------------+-----------------------+-----------------------+-----------------------+---------------------+------------------+---------------------+------------------+----------------------+-----------------------+-----------------------+------------------+-----------------------+-----------------------+-----------------------+-----------------------+----------------------+------------------+----------------------+------------------+---------------------+------------------+----------------------+------------------+-----------------------+-----------------------+-----------------------+-----------------------+-----------------------+-----------------+-----------------------+-----------------+----------------------+-----------------+------------------------+-----------------+-----------------------+-----------------------+-----------------------+-----------------------+----------------------+-----------------+------------------------+-----------------+----------------------+-----------------+----------------------+-----------------+-----------------------+-----------------------+-----------------------+-----------------------+----------------------+------------------+----------------------+------------------+----------------------+-----------------------+----------------------+------------------+-----------------------+-----------------------+-----------------------+-----------------------+----------------------+------------------+----------------------+------------------+----------------------+------------------+----------------------+----------------------+-----------------------+-----------------------+-----------------------+-----------------------+----------------------+------------------+----------------------+------------------+----------------------+------------------+----------------------+------------------+-----------------------+-----------------------+-----------------------+-----------------------+----------------------+------------------+---------------------+------------------+----------------------+------------------+----------------------+------------------+-----------------------+-----------------------+-----------------------+-----------------------+-----------------------+------------------+-----------------------+------------------+-----------------------+------------------+-----------------------+------------------+-----------------------+-----------------------+-----------------------+-----------------------+-----------------------+------------------+----------------------+------------------+-----------------------+------------------+----------------------+------------------+-----------------------+-----------------------+-----------------------+-----------------------+-----------------------+-----------------+------------------------+-----------------+----------------------+-----------------+----------------------+-----------------+-----------------------+-----------------------+-----------------------+-----------------------+-----------------------+-----------------+-----------------------+-----------------+----------------------+-----------------+----------------------+-----------------+-----------------------+-----------------------+-----------------------+-----------------------+\n",
      "| MANU                   | MANU(JANSSEN)        | MANU(JANSSEN)    | MANU(JANSSEN)        | MANU(JANSSEN)    | MANU(MODERNA)        | MANU(MODERNA)         | MANU(MODERNA)        | MANU(MODERNA)    | MANU(PFIZER\\BIONTECH) | MANU(PFIZER\\BIONTECH) | MANU(PFIZER\\BIONTECH) | MANU(PFIZER\\BIONTECH) | MANU(JANSSEN)        | MANU(JANSSEN)    | MANU(JANSSEN)        | MANU(JANSSEN)    | MANU(MODERNA)        | MANU(MODERNA)    | MANU(MODERNA)       | MANU(MODERNA)    | MANU(PFIZER\\BIONTECH) | MANU(PFIZER\\BIONTECH) | MANU(PFIZER\\BIONTECH) | MANU(PFIZER\\BIONTECH) | MANU(JANSSEN)        | MANU(JANSSEN)   | MANU(JANSSEN)        | MANU(JANSSEN)   | MANU(MODERNA)         | MANU(MODERNA)   | MANU(MODERNA)        | MANU(MODERNA)   | MANU(PFIZER\\BIONTECH) | MANU(PFIZER\\BIONTECH) | MANU(PFIZER\\BIONTECH) | MANU(PFIZER\\BIONTECH) | MANU(JANSSEN)        | MANU(JANSSEN)   | MANU(JANSSEN)        | MANU(JANSSEN)   | MANU(MODERNA)        | MANU(MODERNA)   | MANU(MODERNA)        | MANU(MODERNA)   | MANU(PFIZER\\BIONTECH) | MANU(PFIZER\\BIONTECH) | MANU(PFIZER\\BIONTECH) | MANU(PFIZER\\BIONTECH) | MANU(JANSSEN)    | MANU(JANSSEN)    | MANU(JANSSEN)    | MANU(JANSSEN)    | MANU(MODERNA)    | MANU(MODERNA)    | MANU(MODERNA)         | MANU(MODERNA)    | MANU(PFIZER\\BIONTECH) | MANU(PFIZER\\BIONTECH) | MANU(PFIZER\\BIONTECH) | MANU(PFIZER\\BIONTECH) | MANU(JANSSEN)    | MANU(JANSSEN)    | MANU(JANSSEN)    | MANU(JANSSEN)    | MANU(MODERNA)        | MANU(MODERNA)    | MANU(MODERNA)    | MANU(MODERNA)    | MANU(PFIZER\\BIONTECH) | MANU(PFIZER\\BIONTECH) | MANU(PFIZER\\BIONTECH) | MANU(PFIZER\\BIONTECH) | MANU(JANSSEN)   | MANU(JANSSEN)   | MANU(JANSSEN)   | MANU(JANSSEN)   | MANU(MODERNA)   | MANU(MODERNA)   | MANU(MODERNA)        | MANU(MODERNA)   | MANU(PFIZER\\BIONTECH) | MANU(PFIZER\\BIONTECH) | MANU(PFIZER\\BIONTECH) | MANU(PFIZER\\BIONTECH) | MANU(JANSSEN)   | MANU(JANSSEN)   | MANU(JANSSEN)   | MANU(JANSSEN)   | MANU(MODERNA)        | MANU(MODERNA)   | MANU(MODERNA)         | MANU(MODERNA)   | MANU(PFIZER\\BIONTECH) | MANU(PFIZER\\BIONTECH) | MANU(PFIZER\\BIONTECH) | MANU(PFIZER\\BIONTECH) | MANU(JANSSEN)         | MANU(JANSSEN)    | MANU(JANSSEN)         | MANU(JANSSEN)    | MANU(MODERNA)         | MANU(MODERNA)    | MANU(MODERNA)          | MANU(MODERNA)    | MANU(PFIZER\\BIONTECH)  | MANU(PFIZER\\BIONTECH) | MANU(PFIZER\\BIONTECH) | MANU(PFIZER\\BIONTECH) | MANU(JANSSEN)          | MANU(JANSSEN)    | MANU(JANSSEN)          | MANU(JANSSEN)    | MANU(MODERNA)      | MANU(MODERNA)    | MANU(MODERNA)          | MANU(MODERNA)    | MANU(PFIZER\\BIONTECH) | MANU(PFIZER\\BIONTECH) | MANU(PFIZER\\BIONTECH) | MANU(PFIZER\\BIONTECH) | MANU(JANSSEN)         | MANU(JANSSEN)   | MANU(JANSSEN)         | MANU(JANSSEN)   | MANU(MODERNA)          | MANU(MODERNA)   | MANU(MODERNA)         | MANU(MODERNA)   | MANU(PFIZER\\BIONTECH) | MANU(PFIZER\\BIONTECH) | MANU(PFIZER\\BIONTECH) | MANU(PFIZER\\BIONTECH) | MANU(JANSSEN)         | MANU(JANSSEN)   | MANU(JANSSEN)          | MANU(JANSSEN)   | MANU(MODERNA)          | MANU(MODERNA)   | MANU(MODERNA)         | MANU(MODERNA)   | MANU(PFIZER\\BIONTECH) | MANU(PFIZER\\BIONTECH) | MANU(PFIZER\\BIONTECH) | MANU(PFIZER\\BIONTECH) | MANU(JANSSEN)       | MANU(JANSSEN)    | MANU(JANSSEN)        | MANU(JANSSEN)    | MANU(MODERNA)        | MANU(MODERNA)        | MANU(MODERNA)        | MANU(MODERNA)    | MANU(PFIZER\\BIONTECH) | MANU(PFIZER\\BIONTECH) | MANU(PFIZER\\BIONTECH) | MANU(PFIZER\\BIONTECH) | MANU(JANSSEN)       | MANU(JANSSEN)    | MANU(JANSSEN)        | MANU(JANSSEN)    | MANU(MODERNA)        | MANU(MODERNA)    | MANU(MODERNA)        | MANU(MODERNA)        | MANU(PFIZER\\BIONTECH) | MANU(PFIZER\\BIONTECH) | MANU(PFIZER\\BIONTECH) | MANU(PFIZER\\BIONTECH) | MANU(JANSSEN)         | MANU(JANSSEN)   | MANU(JANSSEN)        | MANU(JANSSEN)   | MANU(MODERNA)         | MANU(MODERNA)   | MANU(MODERNA)        | MANU(MODERNA)   | MANU(PFIZER\\BIONTECH) | MANU(PFIZER\\BIONTECH) | MANU(PFIZER\\BIONTECH) | MANU(PFIZER\\BIONTECH) | MANU(JANSSEN)       | MANU(JANSSEN)   | MANU(JANSSEN)        | MANU(JANSSEN)   | MANU(MODERNA)        | MANU(MODERNA)   | MANU(MODERNA)       | MANU(MODERNA)   | MANU(PFIZER\\BIONTECH) | MANU(PFIZER\\BIONTECH) | MANU(PFIZER\\BIONTECH) | MANU(PFIZER\\BIONTECH) | MANU(JANSSEN)       | MANU(JANSSEN)    | MANU(JANSSEN)       | MANU(JANSSEN)    | MANU(MODERNA)        | MANU(MODERNA)         | MANU(MODERNA)         | MANU(MODERNA)    | MANU(PFIZER\\BIONTECH) | MANU(PFIZER\\BIONTECH) | MANU(PFIZER\\BIONTECH) | MANU(PFIZER\\BIONTECH) | MANU(JANSSEN)        | MANU(JANSSEN)    | MANU(JANSSEN)        | MANU(JANSSEN)    | MANU(MODERNA)       | MANU(MODERNA)    | MANU(MODERNA)        | MANU(MODERNA)    | MANU(PFIZER\\BIONTECH) | MANU(PFIZER\\BIONTECH) | MANU(PFIZER\\BIONTECH) | MANU(PFIZER\\BIONTECH) | MANU(JANSSEN)         | MANU(JANSSEN)   | MANU(JANSSEN)         | MANU(JANSSEN)   | MANU(MODERNA)        | MANU(MODERNA)   | MANU(MODERNA)          | MANU(MODERNA)   | MANU(PFIZER\\BIONTECH) | MANU(PFIZER\\BIONTECH) | MANU(PFIZER\\BIONTECH) | MANU(PFIZER\\BIONTECH) | MANU(JANSSEN)        | MANU(JANSSEN)   | MANU(JANSSEN)          | MANU(JANSSEN)   | MANU(MODERNA)        | MANU(MODERNA)   | MANU(MODERNA)        | MANU(MODERNA)   | MANU(PFIZER\\BIONTECH) | MANU(PFIZER\\BIONTECH) | MANU(PFIZER\\BIONTECH) | MANU(PFIZER\\BIONTECH) | MANU(JANSSEN)        | MANU(JANSSEN)    | MANU(JANSSEN)        | MANU(JANSSEN)    | MANU(MODERNA)        | MANU(MODERNA)         | MANU(MODERNA)        | MANU(MODERNA)    | MANU(PFIZER\\BIONTECH) | MANU(PFIZER\\BIONTECH) | MANU(PFIZER\\BIONTECH) | MANU(PFIZER\\BIONTECH) | MANU(JANSSEN)        | MANU(JANSSEN)    | MANU(JANSSEN)        | MANU(JANSSEN)    | MANU(MODERNA)        | MANU(MODERNA)    | MANU(MODERNA)        | MANU(MODERNA)        | MANU(PFIZER\\BIONTECH) | MANU(PFIZER\\BIONTECH) | MANU(PFIZER\\BIONTECH) | MANU(PFIZER\\BIONTECH) | MANU(JANSSEN)        | MANU(JANSSEN)    | MANU(JANSSEN)        | MANU(JANSSEN)    | MANU(MODERNA)        | MANU(MODERNA)    | MANU(MODERNA)        | MANU(MODERNA)    | MANU(PFIZER\\BIONTECH) | MANU(PFIZER\\BIONTECH) | MANU(PFIZER\\BIONTECH) | MANU(PFIZER\\BIONTECH) | MANU(JANSSEN)        | MANU(JANSSEN)    | MANU(JANSSEN)       | MANU(JANSSEN)    | MANU(MODERNA)        | MANU(MODERNA)    | MANU(MODERNA)        | MANU(MODERNA)    | MANU(PFIZER\\BIONTECH) | MANU(PFIZER\\BIONTECH) | MANU(PFIZER\\BIONTECH) | MANU(PFIZER\\BIONTECH) | MANU(JANSSEN)         | MANU(JANSSEN)    | MANU(JANSSEN)         | MANU(JANSSEN)    | MANU(MODERNA)         | MANU(MODERNA)    | MANU(MODERNA)         | MANU(MODERNA)    | MANU(PFIZER\\BIONTECH) | MANU(PFIZER\\BIONTECH) | MANU(PFIZER\\BIONTECH) | MANU(PFIZER\\BIONTECH) | MANU(JANSSEN)         | MANU(JANSSEN)    | MANU(JANSSEN)        | MANU(JANSSEN)    | MANU(MODERNA)         | MANU(MODERNA)    | MANU(MODERNA)        | MANU(MODERNA)    | MANU(PFIZER\\BIONTECH) | MANU(PFIZER\\BIONTECH) | MANU(PFIZER\\BIONTECH) | MANU(PFIZER\\BIONTECH) | MANU(JANSSEN)         | MANU(JANSSEN)   | MANU(JANSSEN)          | MANU(JANSSEN)   | MANU(MODERNA)        | MANU(MODERNA)   | MANU(MODERNA)        | MANU(MODERNA)   | MANU(PFIZER\\BIONTECH) | MANU(PFIZER\\BIONTECH) | MANU(PFIZER\\BIONTECH) | MANU(PFIZER\\BIONTECH) | MANU(JANSSEN)         | MANU(JANSSEN)   | MANU(JANSSEN)         | MANU(JANSSEN)   | MANU(MODERNA)        | MANU(MODERNA)   | MANU(MODERNA)        | MANU(MODERNA)   | MANU(PFIZER\\BIONTECH) | MANU(PFIZER\\BIONTECH) | MANU(PFIZER\\BIONTECH) | MANU(PFIZER\\BIONTECH) |\n",
      "+------------------------+----------------------+------------------+----------------------+------------------+----------------------+-----------------------+----------------------+------------------+-----------------------+-----------------------+-----------------------+-----------------------+----------------------+------------------+----------------------+------------------+----------------------+------------------+---------------------+------------------+-----------------------+-----------------------+-----------------------+-----------------------+----------------------+-----------------+----------------------+-----------------+-----------------------+-----------------+----------------------+-----------------+-----------------------+-----------------------+-----------------------+-----------------------+----------------------+-----------------+----------------------+-----------------+----------------------+-----------------+----------------------+-----------------+-----------------------+-----------------------+-----------------------+-----------------------+------------------+------------------+------------------+------------------+------------------+------------------+-----------------------+------------------+-----------------------+-----------------------+-----------------------+-----------------------+------------------+------------------+------------------+------------------+----------------------+------------------+------------------+------------------+-----------------------+-----------------------+-----------------------+-----------------------+-----------------+-----------------+-----------------+-----------------+-----------------+-----------------+----------------------+-----------------+-----------------------+-----------------------+-----------------------+-----------------------+-----------------+-----------------+-----------------+-----------------+----------------------+-----------------+-----------------------+-----------------+-----------------------+-----------------------+-----------------------+-----------------------+-----------------------+------------------+-----------------------+------------------+-----------------------+------------------+------------------------+------------------+------------------------+-----------------------+-----------------------+-----------------------+------------------------+------------------+------------------------+------------------+--------------------+------------------+------------------------+------------------+-----------------------+-----------------------+-----------------------+-----------------------+-----------------------+-----------------+-----------------------+-----------------+------------------------+-----------------+-----------------------+-----------------+-----------------------+-----------------------+-----------------------+-----------------------+-----------------------+-----------------+------------------------+-----------------+------------------------+-----------------+-----------------------+-----------------+-----------------------+-----------------------+-----------------------+-----------------------+---------------------+------------------+----------------------+------------------+----------------------+----------------------+----------------------+------------------+-----------------------+-----------------------+-----------------------+-----------------------+---------------------+------------------+----------------------+------------------+----------------------+------------------+----------------------+----------------------+-----------------------+-----------------------+-----------------------+-----------------------+-----------------------+-----------------+----------------------+-----------------+-----------------------+-----------------+----------------------+-----------------+-----------------------+-----------------------+-----------------------+-----------------------+---------------------+-----------------+----------------------+-----------------+----------------------+-----------------+---------------------+-----------------+-----------------------+-----------------------+-----------------------+-----------------------+---------------------+------------------+---------------------+------------------+----------------------+-----------------------+-----------------------+------------------+-----------------------+-----------------------+-----------------------+-----------------------+----------------------+------------------+----------------------+------------------+---------------------+------------------+----------------------+------------------+-----------------------+-----------------------+-----------------------+-----------------------+-----------------------+-----------------+-----------------------+-----------------+----------------------+-----------------+------------------------+-----------------+-----------------------+-----------------------+-----------------------+-----------------------+----------------------+-----------------+------------------------+-----------------+----------------------+-----------------+----------------------+-----------------+-----------------------+-----------------------+-----------------------+-----------------------+----------------------+------------------+----------------------+------------------+----------------------+-----------------------+----------------------+------------------+-----------------------+-----------------------+-----------------------+-----------------------+----------------------+------------------+----------------------+------------------+----------------------+------------------+----------------------+----------------------+-----------------------+-----------------------+-----------------------+-----------------------+----------------------+------------------+----------------------+------------------+----------------------+------------------+----------------------+------------------+-----------------------+-----------------------+-----------------------+-----------------------+----------------------+------------------+---------------------+------------------+----------------------+------------------+----------------------+------------------+-----------------------+-----------------------+-----------------------+-----------------------+-----------------------+------------------+-----------------------+------------------+-----------------------+------------------+-----------------------+------------------+-----------------------+-----------------------+-----------------------+-----------------------+-----------------------+------------------+----------------------+------------------+-----------------------+------------------+----------------------+------------------+-----------------------+-----------------------+-----------------------+-----------------------+-----------------------+-----------------+------------------------+-----------------+----------------------+-----------------+----------------------+-----------------+-----------------------+-----------------------+-----------------------+-----------------------+-----------------------+-----------------+-----------------------+-----------------+----------------------+-----------------+----------------------+-----------------+-----------------------+-----------------------+-----------------------+-----------------------+\n",
      "| SEX                    | SEX(F)               | SEX(F)           | SEX(M)               | SEX(M)           | SEX(F)               | SEX(F)                | SEX(M)               | SEX(M)           | SEX(F)                | SEX(F)                | SEX(M)                | SEX(M)                | SEX(F)               | SEX(F)           | SEX(M)               | SEX(M)           | SEX(F)               | SEX(F)           | SEX(M)              | SEX(M)           | SEX(F)                | SEX(F)                | SEX(M)                | SEX(M)                | SEX(F)               | SEX(F)          | SEX(M)               | SEX(M)          | SEX(F)                | SEX(F)          | SEX(M)               | SEX(M)          | SEX(F)                | SEX(F)                | SEX(M)                | SEX(M)                | SEX(F)               | SEX(F)          | SEX(M)               | SEX(M)          | SEX(F)               | SEX(F)          | SEX(M)               | SEX(M)          | SEX(F)                | SEX(F)                | SEX(M)                | SEX(M)                | SEX(F)           | SEX(F)           | SEX(M)           | SEX(M)           | SEX(F)           | SEX(F)           | SEX(M)                | SEX(M)           | SEX(F)                | SEX(F)                | SEX(M)                | SEX(M)                | SEX(F)           | SEX(F)           | SEX(M)           | SEX(M)           | SEX(F)               | SEX(F)           | SEX(M)           | SEX(M)           | SEX(F)                | SEX(F)                | SEX(M)                | SEX(M)                | SEX(F)          | SEX(F)          | SEX(M)          | SEX(M)          | SEX(F)          | SEX(F)          | SEX(M)               | SEX(M)          | SEX(F)                | SEX(F)                | SEX(M)                | SEX(M)                | SEX(F)          | SEX(F)          | SEX(M)          | SEX(M)          | SEX(F)               | SEX(F)          | SEX(M)                | SEX(M)          | SEX(F)                | SEX(F)                | SEX(M)                | SEX(M)                | SEX(F)                | SEX(F)           | SEX(M)                | SEX(M)           | SEX(F)                | SEX(F)           | SEX(M)                 | SEX(M)           | SEX(F)                 | SEX(F)                | SEX(M)                | SEX(M)                | SEX(F)                 | SEX(F)           | SEX(M)                 | SEX(M)           | SEX(F)             | SEX(F)           | SEX(M)                 | SEX(M)           | SEX(F)                | SEX(F)                | SEX(M)                | SEX(M)                | SEX(F)                | SEX(F)          | SEX(M)                | SEX(M)          | SEX(F)                 | SEX(F)          | SEX(M)                | SEX(M)          | SEX(F)                | SEX(F)                | SEX(M)                | SEX(M)                | SEX(F)                | SEX(F)          | SEX(M)                 | SEX(M)          | SEX(F)                 | SEX(F)          | SEX(M)                | SEX(M)          | SEX(F)                | SEX(F)                | SEX(M)                | SEX(M)                | SEX(F)              | SEX(F)           | SEX(M)               | SEX(M)           | SEX(F)               | SEX(F)               | SEX(M)               | SEX(M)           | SEX(F)                | SEX(F)                | SEX(M)                | SEX(M)                | SEX(F)              | SEX(F)           | SEX(M)               | SEX(M)           | SEX(F)               | SEX(F)           | SEX(M)               | SEX(M)               | SEX(F)                | SEX(F)                | SEX(M)                | SEX(M)                | SEX(F)                | SEX(F)          | SEX(M)               | SEX(M)          | SEX(F)                | SEX(F)          | SEX(M)               | SEX(M)          | SEX(F)                | SEX(F)                | SEX(M)                | SEX(M)                | SEX(F)              | SEX(F)          | SEX(M)               | SEX(M)          | SEX(F)               | SEX(F)          | SEX(M)              | SEX(M)          | SEX(F)                | SEX(F)                | SEX(M)                | SEX(M)                | SEX(F)              | SEX(F)           | SEX(M)              | SEX(M)           | SEX(F)               | SEX(F)                | SEX(M)                | SEX(M)           | SEX(F)                | SEX(F)                | SEX(M)                | SEX(M)                | SEX(F)               | SEX(F)           | SEX(M)               | SEX(M)           | SEX(F)              | SEX(F)           | SEX(M)               | SEX(M)           | SEX(F)                | SEX(F)                | SEX(M)                | SEX(M)                | SEX(F)                | SEX(F)          | SEX(M)                | SEX(M)          | SEX(F)               | SEX(F)          | SEX(M)                 | SEX(M)          | SEX(F)                | SEX(F)                | SEX(M)                | SEX(M)                | SEX(F)               | SEX(F)          | SEX(M)                 | SEX(M)          | SEX(F)               | SEX(F)          | SEX(M)               | SEX(M)          | SEX(F)                | SEX(F)                | SEX(M)                | SEX(M)                | SEX(F)               | SEX(F)           | SEX(M)               | SEX(M)           | SEX(F)               | SEX(F)                | SEX(M)               | SEX(M)           | SEX(F)                | SEX(F)                | SEX(M)                | SEX(M)                | SEX(F)               | SEX(F)           | SEX(M)               | SEX(M)           | SEX(F)               | SEX(F)           | SEX(M)               | SEX(M)               | SEX(F)                | SEX(F)                | SEX(M)                | SEX(M)                | SEX(F)               | SEX(F)           | SEX(M)               | SEX(M)           | SEX(F)               | SEX(F)           | SEX(M)               | SEX(M)           | SEX(F)                | SEX(F)                | SEX(M)                | SEX(M)                | SEX(F)               | SEX(F)           | SEX(M)              | SEX(M)           | SEX(F)               | SEX(F)           | SEX(M)               | SEX(M)           | SEX(F)                | SEX(F)                | SEX(M)                | SEX(M)                | SEX(F)                | SEX(F)           | SEX(M)                | SEX(M)           | SEX(F)                | SEX(F)           | SEX(M)                | SEX(M)           | SEX(F)                | SEX(F)                | SEX(M)                | SEX(M)                | SEX(F)                | SEX(F)           | SEX(M)               | SEX(M)           | SEX(F)                | SEX(F)           | SEX(M)               | SEX(M)           | SEX(F)                | SEX(F)                | SEX(M)                | SEX(M)                | SEX(F)                | SEX(F)          | SEX(M)                 | SEX(M)          | SEX(F)               | SEX(F)          | SEX(M)               | SEX(M)          | SEX(F)                | SEX(F)                | SEX(M)                | SEX(M)                | SEX(F)                | SEX(F)          | SEX(M)                | SEX(M)          | SEX(F)               | SEX(F)          | SEX(M)               | SEX(M)          | SEX(F)                | SEX(F)                | SEX(M)                | SEX(M)                |\n",
      "+------------------------+----------------------+------------------+----------------------+------------------+----------------------+-----------------------+----------------------+------------------+-----------------------+-----------------------+-----------------------+-----------------------+----------------------+------------------+----------------------+------------------+----------------------+------------------+---------------------+------------------+-----------------------+-----------------------+-----------------------+-----------------------+----------------------+-----------------+----------------------+-----------------+-----------------------+-----------------+----------------------+-----------------+-----------------------+-----------------------+-----------------------+-----------------------+----------------------+-----------------+----------------------+-----------------+----------------------+-----------------+----------------------+-----------------+-----------------------+-----------------------+-----------------------+-----------------------+------------------+------------------+------------------+------------------+------------------+------------------+-----------------------+------------------+-----------------------+-----------------------+-----------------------+-----------------------+------------------+------------------+------------------+------------------+----------------------+------------------+------------------+------------------+-----------------------+-----------------------+-----------------------+-----------------------+-----------------+-----------------+-----------------+-----------------+-----------------+-----------------+----------------------+-----------------+-----------------------+-----------------------+-----------------------+-----------------------+-----------------+-----------------+-----------------+-----------------+----------------------+-----------------+-----------------------+-----------------+-----------------------+-----------------------+-----------------------+-----------------------+-----------------------+------------------+-----------------------+------------------+-----------------------+------------------+------------------------+------------------+------------------------+-----------------------+-----------------------+-----------------------+------------------------+------------------+------------------------+------------------+--------------------+------------------+------------------------+------------------+-----------------------+-----------------------+-----------------------+-----------------------+-----------------------+-----------------+-----------------------+-----------------+------------------------+-----------------+-----------------------+-----------------+-----------------------+-----------------------+-----------------------+-----------------------+-----------------------+-----------------+------------------------+-----------------+------------------------+-----------------+-----------------------+-----------------+-----------------------+-----------------------+-----------------------+-----------------------+---------------------+------------------+----------------------+------------------+----------------------+----------------------+----------------------+------------------+-----------------------+-----------------------+-----------------------+-----------------------+---------------------+------------------+----------------------+------------------+----------------------+------------------+----------------------+----------------------+-----------------------+-----------------------+-----------------------+-----------------------+-----------------------+-----------------+----------------------+-----------------+-----------------------+-----------------+----------------------+-----------------+-----------------------+-----------------------+-----------------------+-----------------------+---------------------+-----------------+----------------------+-----------------+----------------------+-----------------+---------------------+-----------------+-----------------------+-----------------------+-----------------------+-----------------------+---------------------+------------------+---------------------+------------------+----------------------+-----------------------+-----------------------+------------------+-----------------------+-----------------------+-----------------------+-----------------------+----------------------+------------------+----------------------+------------------+---------------------+------------------+----------------------+------------------+-----------------------+-----------------------+-----------------------+-----------------------+-----------------------+-----------------+-----------------------+-----------------+----------------------+-----------------+------------------------+-----------------+-----------------------+-----------------------+-----------------------+-----------------------+----------------------+-----------------+------------------------+-----------------+----------------------+-----------------+----------------------+-----------------+-----------------------+-----------------------+-----------------------+-----------------------+----------------------+------------------+----------------------+------------------+----------------------+-----------------------+----------------------+------------------+-----------------------+-----------------------+-----------------------+-----------------------+----------------------+------------------+----------------------+------------------+----------------------+------------------+----------------------+----------------------+-----------------------+-----------------------+-----------------------+-----------------------+----------------------+------------------+----------------------+------------------+----------------------+------------------+----------------------+------------------+-----------------------+-----------------------+-----------------------+-----------------------+----------------------+------------------+---------------------+------------------+----------------------+------------------+----------------------+------------------+-----------------------+-----------------------+-----------------------+-----------------------+-----------------------+------------------+-----------------------+------------------+-----------------------+------------------+-----------------------+------------------+-----------------------+-----------------------+-----------------------+-----------------------+-----------------------+------------------+----------------------+------------------+-----------------------+------------------+----------------------+------------------+-----------------------+-----------------------+-----------------------+-----------------------+-----------------------+-----------------+------------------------+-----------------+----------------------+-----------------+----------------------+-----------------+-----------------------+-----------------------+-----------------------+-----------------------+-----------------------+-----------------+-----------------------+-----------------+----------------------+-----------------+----------------------+-----------------+-----------------------+-----------------------+-----------------------+-----------------------+\n",
      "| VISIT                  | VISIT(False)         | VISIT(True)      | VISIT(False)         | VISIT(True)      | VISIT(False)         | VISIT(True)           | VISIT(False)         | VISIT(True)      | VISIT(False)          | VISIT(True)           | VISIT(False)          | VISIT(True)           | VISIT(False)         | VISIT(True)      | VISIT(False)         | VISIT(True)      | VISIT(False)         | VISIT(True)      | VISIT(False)        | VISIT(True)      | VISIT(False)          | VISIT(True)           | VISIT(False)          | VISIT(True)           | VISIT(False)         | VISIT(True)     | VISIT(False)         | VISIT(True)     | VISIT(False)          | VISIT(True)     | VISIT(False)         | VISIT(True)     | VISIT(False)          | VISIT(True)           | VISIT(False)          | VISIT(True)           | VISIT(False)         | VISIT(True)     | VISIT(False)         | VISIT(True)     | VISIT(False)         | VISIT(True)     | VISIT(False)         | VISIT(True)     | VISIT(False)          | VISIT(True)           | VISIT(False)          | VISIT(True)           | VISIT(False)     | VISIT(True)      | VISIT(False)     | VISIT(True)      | VISIT(False)     | VISIT(True)      | VISIT(False)          | VISIT(True)      | VISIT(False)          | VISIT(True)           | VISIT(False)          | VISIT(True)           | VISIT(False)     | VISIT(True)      | VISIT(False)     | VISIT(True)      | VISIT(False)         | VISIT(True)      | VISIT(False)     | VISIT(True)      | VISIT(False)          | VISIT(True)           | VISIT(False)          | VISIT(True)           | VISIT(False)    | VISIT(True)     | VISIT(False)    | VISIT(True)     | VISIT(False)    | VISIT(True)     | VISIT(False)         | VISIT(True)     | VISIT(False)          | VISIT(True)           | VISIT(False)          | VISIT(True)           | VISIT(False)    | VISIT(True)     | VISIT(False)    | VISIT(True)     | VISIT(False)         | VISIT(True)     | VISIT(False)          | VISIT(True)     | VISIT(False)          | VISIT(True)           | VISIT(False)          | VISIT(True)           | VISIT(False)          | VISIT(True)      | VISIT(False)          | VISIT(True)      | VISIT(False)          | VISIT(True)      | VISIT(False)           | VISIT(True)      | VISIT(False)           | VISIT(True)           | VISIT(False)          | VISIT(True)           | VISIT(False)           | VISIT(True)      | VISIT(False)           | VISIT(True)      | VISIT(False)       | VISIT(True)      | VISIT(False)           | VISIT(True)      | VISIT(False)          | VISIT(True)           | VISIT(False)          | VISIT(True)           | VISIT(False)          | VISIT(True)     | VISIT(False)          | VISIT(True)     | VISIT(False)           | VISIT(True)     | VISIT(False)          | VISIT(True)     | VISIT(False)          | VISIT(True)           | VISIT(False)          | VISIT(True)           | VISIT(False)          | VISIT(True)     | VISIT(False)           | VISIT(True)     | VISIT(False)           | VISIT(True)     | VISIT(False)          | VISIT(True)     | VISIT(False)          | VISIT(True)           | VISIT(False)          | VISIT(True)           | VISIT(False)        | VISIT(True)      | VISIT(False)         | VISIT(True)      | VISIT(False)         | VISIT(True)          | VISIT(False)         | VISIT(True)      | VISIT(False)          | VISIT(True)           | VISIT(False)          | VISIT(True)           | VISIT(False)        | VISIT(True)      | VISIT(False)         | VISIT(True)      | VISIT(False)         | VISIT(True)      | VISIT(False)         | VISIT(True)          | VISIT(False)          | VISIT(True)           | VISIT(False)          | VISIT(True)           | VISIT(False)          | VISIT(True)     | VISIT(False)         | VISIT(True)     | VISIT(False)          | VISIT(True)     | VISIT(False)         | VISIT(True)     | VISIT(False)          | VISIT(True)           | VISIT(False)          | VISIT(True)           | VISIT(False)        | VISIT(True)     | VISIT(False)         | VISIT(True)     | VISIT(False)         | VISIT(True)     | VISIT(False)        | VISIT(True)     | VISIT(False)          | VISIT(True)           | VISIT(False)          | VISIT(True)           | VISIT(False)        | VISIT(True)      | VISIT(False)        | VISIT(True)      | VISIT(False)         | VISIT(True)           | VISIT(False)          | VISIT(True)      | VISIT(False)          | VISIT(True)           | VISIT(False)          | VISIT(True)           | VISIT(False)         | VISIT(True)      | VISIT(False)         | VISIT(True)      | VISIT(False)        | VISIT(True)      | VISIT(False)         | VISIT(True)      | VISIT(False)          | VISIT(True)           | VISIT(False)          | VISIT(True)           | VISIT(False)          | VISIT(True)     | VISIT(False)          | VISIT(True)     | VISIT(False)         | VISIT(True)     | VISIT(False)           | VISIT(True)     | VISIT(False)          | VISIT(True)           | VISIT(False)          | VISIT(True)           | VISIT(False)         | VISIT(True)     | VISIT(False)           | VISIT(True)     | VISIT(False)         | VISIT(True)     | VISIT(False)         | VISIT(True)     | VISIT(False)          | VISIT(True)           | VISIT(False)          | VISIT(True)           | VISIT(False)         | VISIT(True)      | VISIT(False)         | VISIT(True)      | VISIT(False)         | VISIT(True)           | VISIT(False)         | VISIT(True)      | VISIT(False)          | VISIT(True)           | VISIT(False)          | VISIT(True)           | VISIT(False)         | VISIT(True)      | VISIT(False)         | VISIT(True)      | VISIT(False)         | VISIT(True)      | VISIT(False)         | VISIT(True)          | VISIT(False)          | VISIT(True)           | VISIT(False)          | VISIT(True)           | VISIT(False)         | VISIT(True)      | VISIT(False)         | VISIT(True)      | VISIT(False)         | VISIT(True)      | VISIT(False)         | VISIT(True)      | VISIT(False)          | VISIT(True)           | VISIT(False)          | VISIT(True)           | VISIT(False)         | VISIT(True)      | VISIT(False)        | VISIT(True)      | VISIT(False)         | VISIT(True)      | VISIT(False)         | VISIT(True)      | VISIT(False)          | VISIT(True)           | VISIT(False)          | VISIT(True)           | VISIT(False)          | VISIT(True)      | VISIT(False)          | VISIT(True)      | VISIT(False)          | VISIT(True)      | VISIT(False)          | VISIT(True)      | VISIT(False)          | VISIT(True)           | VISIT(False)          | VISIT(True)           | VISIT(False)          | VISIT(True)      | VISIT(False)         | VISIT(True)      | VISIT(False)          | VISIT(True)      | VISIT(False)         | VISIT(True)      | VISIT(False)          | VISIT(True)           | VISIT(False)          | VISIT(True)           | VISIT(False)          | VISIT(True)     | VISIT(False)           | VISIT(True)     | VISIT(False)         | VISIT(True)     | VISIT(False)         | VISIT(True)     | VISIT(False)          | VISIT(True)           | VISIT(False)          | VISIT(True)           | VISIT(False)          | VISIT(True)     | VISIT(False)          | VISIT(True)     | VISIT(False)         | VISIT(True)     | VISIT(False)         | VISIT(True)     | VISIT(False)          | VISIT(True)           | VISIT(False)          | VISIT(True)           |\n",
      "+------------------------+----------------------+------------------+----------------------+------------------+----------------------+-----------------------+----------------------+------------------+-----------------------+-----------------------+-----------------------+-----------------------+----------------------+------------------+----------------------+------------------+----------------------+------------------+---------------------+------------------+-----------------------+-----------------------+-----------------------+-----------------------+----------------------+-----------------+----------------------+-----------------+-----------------------+-----------------+----------------------+-----------------+-----------------------+-----------------------+-----------------------+-----------------------+----------------------+-----------------+----------------------+-----------------+----------------------+-----------------+----------------------+-----------------+-----------------------+-----------------------+-----------------------+-----------------------+------------------+------------------+------------------+------------------+------------------+------------------+-----------------------+------------------+-----------------------+-----------------------+-----------------------+-----------------------+------------------+------------------+------------------+------------------+----------------------+------------------+------------------+------------------+-----------------------+-----------------------+-----------------------+-----------------------+-----------------+-----------------+-----------------+-----------------+-----------------+-----------------+----------------------+-----------------+-----------------------+-----------------------+-----------------------+-----------------------+-----------------+-----------------+-----------------+-----------------+----------------------+-----------------+-----------------------+-----------------+-----------------------+-----------------------+-----------------------+-----------------------+-----------------------+------------------+-----------------------+------------------+-----------------------+------------------+------------------------+------------------+------------------------+-----------------------+-----------------------+-----------------------+------------------------+------------------+------------------------+------------------+--------------------+------------------+------------------------+------------------+-----------------------+-----------------------+-----------------------+-----------------------+-----------------------+-----------------+-----------------------+-----------------+------------------------+-----------------+-----------------------+-----------------+-----------------------+-----------------------+-----------------------+-----------------------+-----------------------+-----------------+------------------------+-----------------+------------------------+-----------------+-----------------------+-----------------+-----------------------+-----------------------+-----------------------+-----------------------+---------------------+------------------+----------------------+------------------+----------------------+----------------------+----------------------+------------------+-----------------------+-----------------------+-----------------------+-----------------------+---------------------+------------------+----------------------+------------------+----------------------+------------------+----------------------+----------------------+-----------------------+-----------------------+-----------------------+-----------------------+-----------------------+-----------------+----------------------+-----------------+-----------------------+-----------------+----------------------+-----------------+-----------------------+-----------------------+-----------------------+-----------------------+---------------------+-----------------+----------------------+-----------------+----------------------+-----------------+---------------------+-----------------+-----------------------+-----------------------+-----------------------+-----------------------+---------------------+------------------+---------------------+------------------+----------------------+-----------------------+-----------------------+------------------+-----------------------+-----------------------+-----------------------+-----------------------+----------------------+------------------+----------------------+------------------+---------------------+------------------+----------------------+------------------+-----------------------+-----------------------+-----------------------+-----------------------+-----------------------+-----------------+-----------------------+-----------------+----------------------+-----------------+------------------------+-----------------+-----------------------+-----------------------+-----------------------+-----------------------+----------------------+-----------------+------------------------+-----------------+----------------------+-----------------+----------------------+-----------------+-----------------------+-----------------------+-----------------------+-----------------------+----------------------+------------------+----------------------+------------------+----------------------+-----------------------+----------------------+------------------+-----------------------+-----------------------+-----------------------+-----------------------+----------------------+------------------+----------------------+------------------+----------------------+------------------+----------------------+----------------------+-----------------------+-----------------------+-----------------------+-----------------------+----------------------+------------------+----------------------+------------------+----------------------+------------------+----------------------+------------------+-----------------------+-----------------------+-----------------------+-----------------------+----------------------+------------------+---------------------+------------------+----------------------+------------------+----------------------+------------------+-----------------------+-----------------------+-----------------------+-----------------------+-----------------------+------------------+-----------------------+------------------+-----------------------+------------------+-----------------------+------------------+-----------------------+-----------------------+-----------------------+-----------------------+-----------------------+------------------+----------------------+------------------+-----------------------+------------------+----------------------+------------------+-----------------------+-----------------------+-----------------------+-----------------------+-----------------------+-----------------+------------------------+-----------------+----------------------+-----------------+----------------------+-----------------+-----------------------+-----------------------+-----------------------+-----------------------+-----------------------+-----------------+-----------------------+-----------------+----------------------+-----------------+----------------------+-----------------+-----------------------+-----------------------+-----------------------+-----------------------+\n",
      "| DAMAGE(Died or almost) | 0.010523130669665526 | 0.25             | 0.022998869681540555 | 0.25             | 0.005408037747754767 | 0.0012339585389930896 | 0.01594988912508099  | 0.25             | 0.009171666713255207  | 0.003665689149560117  | 0.021216572395439143  | 0.25                  | 0.027475559867763007 | 0.25             | 0.03431082274507002  | 0.25             | 0.0123424556712784   | 0.25             | 0.04519034968774772 | 0.25             | 0.01985133695266122   | 0.25                  | 0.054400880256001795  | 0.25                  | 0.011947385938777423 | 0.25            | 0.02642764894154641  | 0.25            | 0.00900010346002898   | 0.25            | 0.01413424989890821  | 0.25            | 0.011249260037967708  | 0.25                  | 0.03329157396361775   | 0.25                  | 0.02279394931192077  | 0.25            | 0.05021542465429324  | 0.25            | 0.0161216713090024   | 0.25            | 0.0315395866616347   | 0.25            | 0.023135670250935773  | 0.25                  | 0.04039126340884656   | 0.25                  | 0.25             | 0.25             | 0.25             | 0.25             | 0.25             | 0.25             | 0.4981536189069424    | 0.25             | 0.003665689149560117  | 0.25                  | 0.003665689149560117  | 0.25                  | 0.25             | 0.25             | 0.25             | 0.25             | 0.003665689149560117 | 0.25             | 0.25             | 0.25             | 0.0018463810930576068 | 0.25                  | 0.25                  | 0.25                  | 0.25            | 0.25            | 0.25            | 0.25            | 0.25            | 0.25            | 0.003665689149560117 | 0.25            | 0.25                  | 0.25                  | 0.003665689149560117  | 0.25                  | 0.25            | 0.25            | 0.25            | 0.25            | 0.003665689149560117 | 0.25            | 0.0018463810930576068 | 0.25            | 0.25                  | 0.25                  | 0.003665689149560117  | 0.25                  | 0.006119690068772795  | 0.25             | 2.150241687165637e-05 | 0.25             | 2.719442710044316e-06 | 0.25             | 3.8914018697407706e-06 | 0.25             | 0.00455078136331025    | 0.25                  | 0.011550075721299794  | 0.25                  | 0.00037147102526002975 | 0.25             | 0.00017702874946891374 | 0.25             | 1.500006000024e-05 | 0.25             | 2.4799127070727107e-05 | 0.25             | 0.009327892640276532  | 0.25                  | 0.03362697410376001   | 0.25                  | 0.0005303351718285957 | 0.25            | 0.0004126774513040608 | 0.25            | 4.2754044532612784e-05 | 0.25            | 7.152257252388852e-05 | 0.25            | 0.012890679881981787  | 0.25                  | 0.03380552148472845   | 0.25                  | 8.648723448419012e-05 | 0.25            | 0.00015491386788945346 | 0.25            | 1.2078111563100885e-05 | 0.25            | 1.660710252560815e-05 | 0.25            | 0.028960555183636133  | 0.25                  | 0.025488346965661695  | 0.25                  | 0.04133514517259613 | 0.25             | 0.0833492302703115   | 0.25             | 0.02200034046738606  | 0.003665689149560117 | 0.0811770567117946   | 0.25             | 0.0578651880190244    | 0.003665689149560117  | 0.10884871971215394   | 0.003665689149560117  | 0.11849268698607918 | 0.25             | 0.23350378415940298  | 0.25             | 0.044883988402513716 | 0.25             | 0.10010883346176146  | 0.003665689149560117 | 0.06570308603207167   | 0.25                  | 0.12678090414745613   | 0.25                  | 0.03392555418253348   | 0.25            | 0.16219747527538797  | 0.25            | 0.008038748144613745  | 0.25            | 0.03984686708917042  | 0.25            | 0.01921391069029371   | 0.25                  | 0.038771873161616274  | 0.25                  | 0.10045139603940664 | 0.25            | 0.17143525210441288  | 0.25            | 0.033671700985244246 | 0.25            | 0.112947339050947   | 0.25            | 0.0454553183899611    | 0.25                  | 0.12210659871972933   | 0.25                  | 0.06258715255182673 | 0.25             | 0.10011152416356878 | 0.25             | 0.11642618264616984  | 0.9890029325513195    | 0.2593701057929564    | 0.25             | 0.13917132349748315   | 0.25                  | 0.29138970874456144   | 0.25                  | 0.2564078114272637   | 0.25             | 0.39991076740035697  | 0.25             | 0.1363653444362609  | 0.25             | 0.20028114826871857  | 0.25             | 0.23880628092015035   | 0.25                  | 0.3009241717588542    | 0.25                  | 0.0002654491399447866 | 0.25            | 0.0018463810930576068 | 0.25            | 0.04383692391600763  | 0.25            | 0.11767022580080518    | 0.25            | 0.04244296149337181   | 0.25                  | 0.057747325055787606  | 0.25                  | 0.24138078462222526  | 0.25            | 0.3528961413946977     | 0.25            | 0.12593726764575386  | 0.25            | 0.23973752498423978  | 0.25            | 0.19954214548271826   | 0.25                  | 0.31308191888076875   | 0.25                  | 0.014736188719680132 | 0.25             | 0.039536064280827746 | 0.25             | 0.009316841712188937 | 0.0018463810930576068 | 0.04079417200989864  | 0.25             | 0.014816969527356238  | 0.003665689149560117  | 0.04424517464007149   | 0.25                  | 0.04250385967522926  | 0.25             | 0.0810288154630082   | 0.25             | 0.022378795224788386 | 0.25             | 0.0792561891860191   | 0.003665689149560117 | 0.026697755853992183  | 0.0012339585389930896 | 0.0779236615088429    | 0.25                  | 0.010995524934454737 | 0.25             | 0.03227896707305366  | 0.25             | 0.010835595605889608 | 0.25             | 0.03151451288910386  | 0.25             | 0.01584420761459252   | 0.25                  | 0.026074246986889704  | 0.25                  | 0.031840965831188395 | 0.25             | 0.11233931392536169 | 0.25             | 0.02536189756409511  | 0.25             | 0.08100699149548171  | 0.25             | 0.030743330641082388  | 0.25                  | 0.09375165136664461   | 0.25                  | 0.0013705197287663593 | 0.25             | 0.002406798415579027  | 0.25             | 0.005194495193579628  | 0.25             | 0.01636931185171334   | 0.25             | 0.007160187918632745  | 0.003665689149560117  | 0.014533640454081656  | 0.25                  | 0.011138320017227197  | 0.25             | 0.009535169351410081 | 0.25             | 0.012507712415306587  | 0.25             | 0.02431662622939749  | 0.25             | 0.009670978124813732  | 0.0012339585389930896 | 0.026272662806474847  | 0.25                  | 0.007185677771211722  | 0.25            | 0.00452095928790702    | 0.25            | 0.004032070648384847 | 0.25            | 0.01575718046258036  | 0.25            | 0.011496972530417232  | 0.25                  | 0.005644045772729178  | 0.25                  | 0.01151899477710935   | 0.25            | 0.019813285140404466  | 0.25            | 0.015431113375617894 | 0.25            | 0.04674962363801679  | 0.25            | 0.016460586179000574  | 0.25                  | 0.028075969194622116  | 0.25                  |\n",
      "+------------------------+----------------------+------------------+----------------------+------------------+----------------------+-----------------------+----------------------+------------------+-----------------------+-----------------------+-----------------------+-----------------------+----------------------+------------------+----------------------+------------------+----------------------+------------------+---------------------+------------------+-----------------------+-----------------------+-----------------------+-----------------------+----------------------+-----------------+----------------------+-----------------+-----------------------+-----------------+----------------------+-----------------+-----------------------+-----------------------+-----------------------+-----------------------+----------------------+-----------------+----------------------+-----------------+----------------------+-----------------+----------------------+-----------------+-----------------------+-----------------------+-----------------------+-----------------------+------------------+------------------+------------------+------------------+------------------+------------------+-----------------------+------------------+-----------------------+-----------------------+-----------------------+-----------------------+------------------+------------------+------------------+------------------+----------------------+------------------+------------------+------------------+-----------------------+-----------------------+-----------------------+-----------------------+-----------------+-----------------+-----------------+-----------------+-----------------+-----------------+----------------------+-----------------+-----------------------+-----------------------+-----------------------+-----------------------+-----------------+-----------------+-----------------+-----------------+----------------------+-----------------+-----------------------+-----------------+-----------------------+-----------------------+-----------------------+-----------------------+-----------------------+------------------+-----------------------+------------------+-----------------------+------------------+------------------------+------------------+------------------------+-----------------------+-----------------------+-----------------------+------------------------+------------------+------------------------+------------------+--------------------+------------------+------------------------+------------------+-----------------------+-----------------------+-----------------------+-----------------------+-----------------------+-----------------+-----------------------+-----------------+------------------------+-----------------+-----------------------+-----------------+-----------------------+-----------------------+-----------------------+-----------------------+-----------------------+-----------------+------------------------+-----------------+------------------------+-----------------+-----------------------+-----------------+-----------------------+-----------------------+-----------------------+-----------------------+---------------------+------------------+----------------------+------------------+----------------------+----------------------+----------------------+------------------+-----------------------+-----------------------+-----------------------+-----------------------+---------------------+------------------+----------------------+------------------+----------------------+------------------+----------------------+----------------------+-----------------------+-----------------------+-----------------------+-----------------------+-----------------------+-----------------+----------------------+-----------------+-----------------------+-----------------+----------------------+-----------------+-----------------------+-----------------------+-----------------------+-----------------------+---------------------+-----------------+----------------------+-----------------+----------------------+-----------------+---------------------+-----------------+-----------------------+-----------------------+-----------------------+-----------------------+---------------------+------------------+---------------------+------------------+----------------------+-----------------------+-----------------------+------------------+-----------------------+-----------------------+-----------------------+-----------------------+----------------------+------------------+----------------------+------------------+---------------------+------------------+----------------------+------------------+-----------------------+-----------------------+-----------------------+-----------------------+-----------------------+-----------------+-----------------------+-----------------+----------------------+-----------------+------------------------+-----------------+-----------------------+-----------------------+-----------------------+-----------------------+----------------------+-----------------+------------------------+-----------------+----------------------+-----------------+----------------------+-----------------+-----------------------+-----------------------+-----------------------+-----------------------+----------------------+------------------+----------------------+------------------+----------------------+-----------------------+----------------------+------------------+-----------------------+-----------------------+-----------------------+-----------------------+----------------------+------------------+----------------------+------------------+----------------------+------------------+----------------------+----------------------+-----------------------+-----------------------+-----------------------+-----------------------+----------------------+------------------+----------------------+------------------+----------------------+------------------+----------------------+------------------+-----------------------+-----------------------+-----------------------+-----------------------+----------------------+------------------+---------------------+------------------+----------------------+------------------+----------------------+------------------+-----------------------+-----------------------+-----------------------+-----------------------+-----------------------+------------------+-----------------------+------------------+-----------------------+------------------+-----------------------+------------------+-----------------------+-----------------------+-----------------------+-----------------------+-----------------------+------------------+----------------------+------------------+-----------------------+------------------+----------------------+------------------+-----------------------+-----------------------+-----------------------+-----------------------+-----------------------+-----------------+------------------------+-----------------+----------------------+-----------------+----------------------+-----------------+-----------------------+-----------------------+-----------------------+-----------------------+-----------------------+-----------------+-----------------------+-----------------+----------------------+-----------------+----------------------+-----------------+-----------------------+-----------------------+-----------------------+-----------------------+\n",
      "| DAMAGE(Disability)     | 0.006863503249144656 | 0.25             | 0.008364875094625284 | 0.25             | 0.004463832945236888 | 0.0012339585389930896 | 0.009038699025424098 | 0.25             | 0.008950672601498616  | 0.003665689149560117  | 0.02150326842000626   | 0.25                  | 0.00916079113259947  | 0.25             | 0.013728157718754627 | 0.25             | 0.010666396695406664 | 0.25             | 0.02073546606837431 | 0.25             | 0.011677614774419864  | 0.25                  | 0.030895406638697286  | 0.25                  | 0.002175556855306485 | 0.25            | 0.011334156886967263 | 0.25            | 0.0054709085628666726 | 0.25            | 0.013047310958350182 | 0.25            | 0.009603176223233787  | 0.25                  | 0.018035300770656442  | 0.25                  | 0.010828238805463934 | 0.25            | 0.010467708093367287 | 0.25            | 0.006773215629704854 | 0.25            | 0.009857801277676638 | 0.25            | 0.011435121669006012  | 0.25                  | 0.02318876227915332   | 0.25                  | 0.25             | 0.25             | 0.25             | 0.25             | 0.25             | 0.25             | 0.0018463810930576068 | 0.25             | 0.003665689149560117  | 0.25                  | 0.003665689149560117  | 0.25                  | 0.25             | 0.25             | 0.25             | 0.25             | 0.003665689149560117 | 0.25             | 0.25             | 0.25             | 0.0018463810930576068 | 0.25                  | 0.25                  | 0.25                  | 0.25            | 0.25            | 0.25            | 0.25            | 0.25            | 0.25            | 0.003665689149560117 | 0.25            | 0.25                  | 0.25                  | 0.003665689149560117  | 0.25                  | 0.25            | 0.25            | 0.25            | 0.25            | 0.003665689149560117 | 0.25            | 0.0018463810930576068 | 0.25            | 0.25                  | 0.25                  | 0.003665689149560117  | 0.25                  | 2.268232049211562e-05 | 0.25             | 2.150241687165637e-05 | 0.25             | 2.719442710044316e-06 | 0.25             | 3.8914018697407706e-06 | 0.25             | 2.4172853305589342e-06 | 0.25                  | 0.0007726780137879208 | 0.25                  | 0.00037147102526002975 | 0.25             | 0.00017702874946891374 | 0.25             | 1.500006000024e-05 | 0.25             | 2.4799127070727107e-05 | 0.25             | 0.0031169995471223787 | 0.25                  | 0.008418466232353419  | 0.25                  | 0.0005303351718285957 | 0.25            | 0.0004126774513040608 | 0.25            | 4.2754044532612784e-05 | 0.25            | 7.152257252388852e-05 | 0.25            | 1.596566742876119e-05 | 0.25                  | 0.006781211670319506  | 0.25                  | 8.648723448419012e-05 | 0.25            | 0.00015491386788945346 | 0.25            | 0.003258674499724619   | 0.25            | 1.660710252560815e-05 | 0.25            | 8.285333633814767e-06 | 0.25                  | 0.006380972239335033  | 0.25                  | 0.0372031678492812  | 0.25             | 0.006433490395070678 | 0.25             | 0.005867424327849723 | 0.003665689149560117 | 0.013604000788770212 | 0.25             | 0.010486821042411915  | 0.003665689149560117  | 0.015135910943728313  | 0.003665689149560117  | 0.01897363929986883 | 0.25             | 0.025397676631871535 | 0.25             | 0.0157099386129369   | 0.25             | 0.026648658149327438 | 0.003665689149560117 | 0.023943966552933828  | 0.25                  | 0.0339004852654836    | 0.25                  | 3.152346606814112e-05 | 0.25            | 0.027116668006754045 | 0.25            | 0.0038086563289601396 | 0.25            | 0.015943193203578433 | 0.25            | 0.013877816139780268  | 0.25                  | 0.031020382268464576  | 0.25                  | 0.01786485355370583 | 0.25            | 0.017162656236714563 | 0.25            | 0.012142137883529802 | 0.25            | 0.02143008988301258 | 0.25            | 0.015490982660619585  | 0.25                  | 0.041405687075114085  | 0.25                  | 0.09382262712652227 | 0.25             | 0.10011152416356878 | 0.25             | 0.008319746811163325 | 0.0036656891495601166 | 0.0045032282245434305 | 0.25             | 0.007860385261589747  | 0.25                  | 0.008284100931761181  | 0.25                  | 0.025726600045770084 | 0.25             | 0.040124925639500306 | 0.25             | 0.0212155601316719  | 0.25             | 0.042021141349428325 | 0.25             | 0.022394378709723987  | 0.25                  | 0.03241490248489566   | 0.25                  | 0.0002654491399447866 | 0.25            | 0.0018463810930576068 | 0.25            | 0.003998648344221672 | 0.25            | 4.3759845965342203e-05 | 0.25            | 0.03032284245648841   | 0.25                  | 7.152257252388852e-05 | 0.25                  | 0.057504189896364195 | 0.25            | 0.00010937089859130283 | 0.25            | 0.021105109716788664 | 0.25            | 0.011500080633732267 | 0.25            | 0.02293965467223214   | 0.25                  | 0.025708732868377684  | 0.25                  | 0.008290604848986437 | 0.25             | 0.010254125398160294 | 0.25             | 0.007062902349418739 | 0.0018463810930576068 | 0.017919730680684826 | 0.25             | 0.006124778564906573  | 0.003665689149560117  | 0.025283676746232765  | 0.25                  | 0.007504510704785998 | 0.25             | 0.017064960117774714 | 0.25             | 0.010810460718403959 | 0.25             | 0.030750655105699843 | 0.003665689149560117 | 0.014796880040665155  | 0.33292201382033565   | 0.032160322610925114  | 0.25                  | 0.007332621102032586 | 0.25             | 0.019376979936642027 | 0.25             | 0.00439345676699101  | 0.25             | 0.02156450968101751  | 0.25             | 0.014403987466655619  | 0.25                  | 0.018965492922981442  | 0.25                  | 0.011698210628706907 | 0.25             | 0.01983133288320474 | 0.25             | 0.013382637717645222 | 0.25             | 0.022906915844341545 | 0.25             | 0.01295310978206701   | 0.25                  | 0.028411432847241454  | 0.25                  | 0.002738494860932707  | 0.25             | 0.0016055259185420656 | 0.25             | 0.0033966579489792337 | 0.25             | 0.0047537748138324195 | 0.25             | 0.0060054574760204414 | 0.003665689149560117  | 0.00430767283951606   | 0.25                  | 0.0037173746197041568 | 0.25             | 0.012709622561292456 | 0.25             | 0.0038497657286747245 | 0.25             | 0.008109561685727653 | 0.25             | 0.010361578762386107  | 0.0012339585389930896 | 0.015015941438247166  | 0.25                  | 0.0024011591066050567 | 0.25            | 1.6756706033754708e-05 | 0.25            | 0.003024521526616839 | 0.25            | 0.013132611055998625 | 0.25            | 0.0046004994469594175 | 0.25                  | 0.005644045772729178  | 0.25                  | 0.0016508152506449073 | 0.25            | 0.0066126133204993465 | 0.25            | 0.00661411528793556  | 0.25            | 0.008353248637395725 | 0.25            | 0.008480595530552111  | 0.25                  | 0.01404124787886699   | 0.25                  |\n",
      "+------------------------+----------------------+------------------+----------------------+------------------+----------------------+-----------------------+----------------------+------------------+-----------------------+-----------------------+-----------------------+-----------------------+----------------------+------------------+----------------------+------------------+----------------------+------------------+---------------------+------------------+-----------------------+-----------------------+-----------------------+-----------------------+----------------------+-----------------+----------------------+-----------------+-----------------------+-----------------+----------------------+-----------------+-----------------------+-----------------------+-----------------------+-----------------------+----------------------+-----------------+----------------------+-----------------+----------------------+-----------------+----------------------+-----------------+-----------------------+-----------------------+-----------------------+-----------------------+------------------+------------------+------------------+------------------+------------------+------------------+-----------------------+------------------+-----------------------+-----------------------+-----------------------+-----------------------+------------------+------------------+------------------+------------------+----------------------+------------------+------------------+------------------+-----------------------+-----------------------+-----------------------+-----------------------+-----------------+-----------------+-----------------+-----------------+-----------------+-----------------+----------------------+-----------------+-----------------------+-----------------------+-----------------------+-----------------------+-----------------+-----------------+-----------------+-----------------+----------------------+-----------------+-----------------------+-----------------+-----------------------+-----------------------+-----------------------+-----------------------+-----------------------+------------------+-----------------------+------------------+-----------------------+------------------+------------------------+------------------+------------------------+-----------------------+-----------------------+-----------------------+------------------------+------------------+------------------------+------------------+--------------------+------------------+------------------------+------------------+-----------------------+-----------------------+-----------------------+-----------------------+-----------------------+-----------------+-----------------------+-----------------+------------------------+-----------------+-----------------------+-----------------+-----------------------+-----------------------+-----------------------+-----------------------+-----------------------+-----------------+------------------------+-----------------+------------------------+-----------------+-----------------------+-----------------+-----------------------+-----------------------+-----------------------+-----------------------+---------------------+------------------+----------------------+------------------+----------------------+----------------------+----------------------+------------------+-----------------------+-----------------------+-----------------------+-----------------------+---------------------+------------------+----------------------+------------------+----------------------+------------------+----------------------+----------------------+-----------------------+-----------------------+-----------------------+-----------------------+-----------------------+-----------------+----------------------+-----------------+-----------------------+-----------------+----------------------+-----------------+-----------------------+-----------------------+-----------------------+-----------------------+---------------------+-----------------+----------------------+-----------------+----------------------+-----------------+---------------------+-----------------+-----------------------+-----------------------+-----------------------+-----------------------+---------------------+------------------+---------------------+------------------+----------------------+-----------------------+-----------------------+------------------+-----------------------+-----------------------+-----------------------+-----------------------+----------------------+------------------+----------------------+------------------+---------------------+------------------+----------------------+------------------+-----------------------+-----------------------+-----------------------+-----------------------+-----------------------+-----------------+-----------------------+-----------------+----------------------+-----------------+------------------------+-----------------+-----------------------+-----------------------+-----------------------+-----------------------+----------------------+-----------------+------------------------+-----------------+----------------------+-----------------+----------------------+-----------------+-----------------------+-----------------------+-----------------------+-----------------------+----------------------+------------------+----------------------+------------------+----------------------+-----------------------+----------------------+------------------+-----------------------+-----------------------+-----------------------+-----------------------+----------------------+------------------+----------------------+------------------+----------------------+------------------+----------------------+----------------------+-----------------------+-----------------------+-----------------------+-----------------------+----------------------+------------------+----------------------+------------------+----------------------+------------------+----------------------+------------------+-----------------------+-----------------------+-----------------------+-----------------------+----------------------+------------------+---------------------+------------------+----------------------+------------------+----------------------+------------------+-----------------------+-----------------------+-----------------------+-----------------------+-----------------------+------------------+-----------------------+------------------+-----------------------+------------------+-----------------------+------------------+-----------------------+-----------------------+-----------------------+-----------------------+-----------------------+------------------+----------------------+------------------+-----------------------+------------------+----------------------+------------------+-----------------------+-----------------------+-----------------------+-----------------------+-----------------------+-----------------+------------------------+-----------------+----------------------+-----------------+----------------------+-----------------+-----------------------+-----------------------+-----------------------+-----------------------+-----------------------+-----------------+-----------------------+-----------------+----------------------+-----------------+----------------------+-----------------+-----------------------+-----------------------+-----------------------+-----------------------+\n",
      "| DAMAGE(Medium)         | 0.016470025228011942 | 0.25             | 0.018817728370993332 | 0.25             | 0.01356253376950009  | 0.0012339585389930896 | 0.030835529339726605 | 0.25             | 0.019226898798180087  | 0.003665689149560117  | 0.03239771735355678   | 0.25                  | 0.0238126061207303   | 0.25             | 0.032595600659543734 | 0.25             | 0.024379606497993582 | 0.25             | 0.05369639616405151 | 0.25             | 0.02755798929214593   | 0.25                  | 0.044327105848585575  | 0.25                  | 0.01954769744814371  | 0.25            | 0.02642764894154641  | 0.25            | 0.009882402184319556  | 0.25            | 0.031525272947836636 | 0.25            | 0.013444038457612934  | 0.25                  | 0.031904640036984906  | 0.25                  | 0.03248047686476678  | 0.25            | 0.048123439572139236 | 0.25            | 0.015358532069876071 | 0.25            | 0.034824705659204105 | 0.25            | 0.022204944795554994  | 0.25                  | 0.05161028588473345   | 0.25                  | 0.25             | 0.25             | 0.25             | 0.25             | 0.25             | 0.25             | 0.0018463810930576068 | 0.25             | 0.003665689149560117  | 0.25                  | 0.003665689149560117  | 0.25                  | 0.25             | 0.25             | 0.25             | 0.25             | 0.003665689149560117 | 0.25             | 0.25             | 0.25             | 0.0018463810930576068 | 0.25                  | 0.25                  | 0.25                  | 0.25            | 0.25            | 0.25            | 0.25            | 0.25            | 0.25            | 0.003665689149560117 | 0.25            | 0.25                  | 0.25                  | 0.003665689149560117  | 0.25                  | 0.25            | 0.25            | 0.25            | 0.25            | 0.003665689149560117 | 0.25            | 0.0018463810930576068 | 0.25            | 0.25                  | 0.25                  | 0.003665689149560117  | 0.25                  | 2.268232049211562e-05 | 0.25             | 2.150241687165637e-05 | 0.25             | 0.0014646918436298686 | 0.25             | 3.8914018697407706e-06 | 0.25             | 0.007149846550727215   | 0.25                  | 0.025406729916672206  | 0.25                  | 0.00037147102526002975 | 0.25             | 0.00017702874946891374 | 0.25             | 1.500006000024e-05 | 0.25             | 0.006690804483682174   | 0.25             | 0.03727691155947022   | 0.25                  | 0.1386624235679542    | 0.25                  | 0.0005303351718285957 | 0.25            | 0.0004126774513040608 | 0.25            | 4.2754044532612784e-05 | 0.25            | 7.152257252388852e-05 | 0.25            | 0.021473822691683804  | 0.25                  | 0.06082983129913738   | 0.25                  | 8.648723448419012e-05 | 0.25            | 0.00015491386788945346 | 0.25            | 0.003258674499724619   | 0.25            | 1.660710252560815e-05 | 0.25            | 0.0467773366297914    | 0.25                  | 0.07644134623586613   | 0.25                  | 0.05373107714254091 | 0.25             | 0.0769395852807081   | 0.25             | 0.06184375456957429  | 0.003665689149560117 | 0.11189208213135114  | 0.25             | 0.1425248929444467    | 0.003665689149560117  | 0.20721806556224048   | 0.003665689149560117  | 0.09005867336144764 | 0.25             | 0.11676133359517801  | 0.25             | 0.07899518507955738  | 0.25             | 0.11055170152088198  | 0.003665689149560117 | 0.06793023907095902   | 0.25                  | 0.10508620776626547   | 0.25                  | 0.025452046503417144  | 0.25            | 0.1081651523679344   | 0.25            | 0.01311485832339807   | 0.25            | 0.05379067685576575  | 0.25            | 0.02455000524080715   | 0.25                  | 0.06202634584107136   | 0.25                  | 0.06250622787030086 | 0.25            | 0.15429385256355752  | 0.25            | 0.03279549783575587  | 0.25            | 0.09687601724584632 | 0.25            | 0.060183551206078115  | 0.25                  | 0.11158039285304039   | 0.25                  | 0.15629357627591337 | 0.25             | 0.15007434944237918 | 0.25             | 0.16528197576391318  | 0.0036656891495601166 | 0.20539829642552773   | 0.25             | 0.24130205323651133   | 0.25                  | 0.30297882719303865   | 0.25                  | 0.1795140743000992   | 0.25             | 0.16005353955978585  | 0.25             | 0.13030482947286146 | 0.25             | 0.1778726517137748   | 0.25             | 0.1417940488947868    | 0.25                  | 0.1875021528414062    | 0.25                  | 0.0002654491399447866 | 0.25            | 0.4981536189069424    | 0.25            | 0.079691371930615    | 0.25            | 0.1764834587782251     | 0.25            | 0.10910361619623049   | 0.25                  | 0.15387366252789378   | 0.25                  | 0.21839621028149261  | 0.25            | 0.23530055122932889    | 0.25            | 0.0905393961372721   | 0.25            | 0.18390966089850413  | 0.25            | 0.1318827496527268    | 0.25                  | 0.17056350955755042   | 0.25                  | 0.021181772590373828 | 0.25             | 0.03367967650429425  | 0.25             | 0.02434310413065693  | 0.0018463810930576068 | 0.061762409895011305 | 0.25             | 0.04267149056611539   | 0.003665689149560117  | 0.08036231348547858   | 0.25                  | 0.03875392942839605  | 0.25             | 0.08529307248602377  | 0.25             | 0.03508499869901391  | 0.25             | 0.07189374204882777  | 0.003665689149560117 | 0.03538217874479839   | 0.33292201382033565   | 0.07730523801022239   | 0.25                  | 0.010995524934454737 | 0.25             | 0.025827973504847845 | 0.25             | 0.010249946620535189 | 0.25             | 0.018247841944988723 | 0.25             | 0.014403987466655619  | 0.25                  | 0.030813416362828548  | 0.25                  | 0.038338628799730816 | 0.25             | 0.07709817829025428 | 0.25             | 0.022016338507879374 | 0.25             | 0.06592331800912801  | 0.25             | 0.035581022278183064  | 0.25                  | 0.07599615720376332   | 0.25                  | 0.010946345653930791  | 0.25             | 0.0072144333978007924 | 0.25             | 0.011786565090447742  | 0.25             | 0.04118432279627712   | 0.25             | 0.015012354928396403  | 0.003665689149560117  | 0.03982945507958603   | 0.25                  | 0.018559265414750236  | 0.25             | 0.012709622561292456 | 0.25             | 0.029823605788570313  | 0.25             | 0.074558526314774    | 0.25             | 0.026245393426550717  | 0.0012339585389930896 | 0.06754730782330969   | 0.25                  | 0.016754715100425054  | 0.25            | 0.02253776961540008    | 0.25            | 0.012092463622528919 | 0.25            | 0.04987658274814288  | 0.25            | 0.02069226997502765   | 0.25                  | 0.05352936245127216   | 0.25                  | 0.023031870891317866  | 0.25            | 0.023113453095380748  | 0.25            | 0.014328988614657603 | 0.25            | 0.04174140081184882  | 0.25            | 0.02444057682744903   | 0.25                  | 0.059654092155071156  | 0.25                  |\n",
      "+------------------------+----------------------+------------------+----------------------+------------------+----------------------+-----------------------+----------------------+------------------+-----------------------+-----------------------+-----------------------+-----------------------+----------------------+------------------+----------------------+------------------+----------------------+------------------+---------------------+------------------+-----------------------+-----------------------+-----------------------+-----------------------+----------------------+-----------------+----------------------+-----------------+-----------------------+-----------------+----------------------+-----------------+-----------------------+-----------------------+-----------------------+-----------------------+----------------------+-----------------+----------------------+-----------------+----------------------+-----------------+----------------------+-----------------+-----------------------+-----------------------+-----------------------+-----------------------+------------------+------------------+------------------+------------------+------------------+------------------+-----------------------+------------------+-----------------------+-----------------------+-----------------------+-----------------------+------------------+------------------+------------------+------------------+----------------------+------------------+------------------+------------------+-----------------------+-----------------------+-----------------------+-----------------------+-----------------+-----------------+-----------------+-----------------+-----------------+-----------------+----------------------+-----------------+-----------------------+-----------------------+-----------------------+-----------------------+-----------------+-----------------+-----------------+-----------------+----------------------+-----------------+-----------------------+-----------------+-----------------------+-----------------------+-----------------------+-----------------------+-----------------------+------------------+-----------------------+------------------+-----------------------+------------------+------------------------+------------------+------------------------+-----------------------+-----------------------+-----------------------+------------------------+------------------+------------------------+------------------+--------------------+------------------+------------------------+------------------+-----------------------+-----------------------+-----------------------+-----------------------+-----------------------+-----------------+-----------------------+-----------------+------------------------+-----------------+-----------------------+-----------------+-----------------------+-----------------------+-----------------------+-----------------------+-----------------------+-----------------+------------------------+-----------------+------------------------+-----------------+-----------------------+-----------------+-----------------------+-----------------------+-----------------------+-----------------------+---------------------+------------------+----------------------+------------------+----------------------+----------------------+----------------------+------------------+-----------------------+-----------------------+-----------------------+-----------------------+---------------------+------------------+----------------------+------------------+----------------------+------------------+----------------------+----------------------+-----------------------+-----------------------+-----------------------+-----------------------+-----------------------+-----------------+----------------------+-----------------+-----------------------+-----------------+----------------------+-----------------+-----------------------+-----------------------+-----------------------+-----------------------+---------------------+-----------------+----------------------+-----------------+----------------------+-----------------+---------------------+-----------------+-----------------------+-----------------------+-----------------------+-----------------------+---------------------+------------------+---------------------+------------------+----------------------+-----------------------+-----------------------+------------------+-----------------------+-----------------------+-----------------------+-----------------------+----------------------+------------------+----------------------+------------------+---------------------+------------------+----------------------+------------------+-----------------------+-----------------------+-----------------------+-----------------------+-----------------------+-----------------+-----------------------+-----------------+----------------------+-----------------+------------------------+-----------------+-----------------------+-----------------------+-----------------------+-----------------------+----------------------+-----------------+------------------------+-----------------+----------------------+-----------------+----------------------+-----------------+-----------------------+-----------------------+-----------------------+-----------------------+----------------------+------------------+----------------------+------------------+----------------------+-----------------------+----------------------+------------------+-----------------------+-----------------------+-----------------------+-----------------------+----------------------+------------------+----------------------+------------------+----------------------+------------------+----------------------+----------------------+-----------------------+-----------------------+-----------------------+-----------------------+----------------------+------------------+----------------------+------------------+----------------------+------------------+----------------------+------------------+-----------------------+-----------------------+-----------------------+-----------------------+----------------------+------------------+---------------------+------------------+----------------------+------------------+----------------------+------------------+-----------------------+-----------------------+-----------------------+-----------------------+-----------------------+------------------+-----------------------+------------------+-----------------------+------------------+-----------------------+------------------+-----------------------+-----------------------+-----------------------+-----------------------+-----------------------+------------------+----------------------+------------------+-----------------------+------------------+----------------------+------------------+-----------------------+-----------------------+-----------------------+-----------------------+-----------------------+-----------------+------------------------+-----------------+----------------------+-----------------+----------------------+-----------------+-----------------------+-----------------------+-----------------------+-----------------------+-----------------------+-----------------+-----------------------+-----------------+----------------------+-----------------+----------------------+-----------------+-----------------------+-----------------------+-----------------------+-----------------------+\n",
      "| DAMAGE(Self-solving)   | 0.9661433408531779   | 0.25             | 0.9498185268528407   | 0.25             | 0.9765655955375082   | 0.9962981243830207    | 0.9441758825097682   | 0.25             | 0.962650761887066     | 0.9890029325513198    | 0.9248824418309978    | 0.25                  | 0.9395510428789071   | 0.25             | 0.9193654188766317   | 0.25             | 0.9526115411353214   | 0.25             | 0.8803777880798265  | 0.25             | 0.940913058980773     | 0.25                  | 0.8703766072567153    | 0.25                  | 0.9663293597577725   | 0.25            | 0.9358105452299399   | 0.25            | 0.9756465857927848    | 0.25            | 0.941293166194905    | 0.25            | 0.9657035252811855    | 0.25                  | 0.916768485228741     | 0.25                  | 0.9338973350178484   | 0.25            | 0.8911934276802003   | 0.25            | 0.9617465809914166   | 0.25            | 0.9237779064014845   | 0.25            | 0.9432242632845033    | 0.25                  | 0.8848096884272666    | 0.25                  | 0.25             | 0.25             | 0.25             | 0.25             | 0.25             | 0.25             | 0.4981536189069424    | 0.25             | 0.9890029325513198    | 0.25                  | 0.9890029325513198    | 0.25                  | 0.25             | 0.25             | 0.25             | 0.25             | 0.9890029325513198   | 0.25             | 0.25             | 0.25             | 0.9944608567208271    | 0.25                  | 0.25                  | 0.25                  | 0.25            | 0.25            | 0.25            | 0.25            | 0.25            | 0.25            | 0.9890029325513198   | 0.25            | 0.25                  | 0.25                  | 0.9890029325513198    | 0.25                  | 0.25            | 0.25            | 0.25            | 0.25            | 0.9890029325513198   | 0.25            | 0.9944608567208271    | 0.25            | 0.25                  | 0.25                  | 0.9890029325513198    | 0.25                  | 0.993834945290243     | 0.25             | 0.999935492749385     | 0.25             | 0.99852986927095      | 0.25             | 0.9999883257943908     | 0.25             | 0.988296954800632      | 0.25                  | 0.96227051634824      | 0.25                  | 0.99888558692422       | 0.25             | 0.9994689137515932     | 0.25             | 0.9999549998199992 | 0.25             | 0.9932595972621763     | 0.25             | 0.9502781962531308    | 0.25                  | 0.8192921360959323    | 0.25                  | 0.9984089944845141    | 0.25            | 0.9987619676460879    | 0.25            | 0.9998717378664023     | 0.25            | 0.9997854322824283    | 0.25            | 0.9656195317589056    | 0.25                  | 0.8985834355458147    | 0.25                  | 0.9997405382965474    | 0.25            | 0.9995352583963316     | 0.25            | 0.9934705728889877     | 0.25            | 0.9999501786924231    | 0.25            | 0.9242538228529387    | 0.25                  | 0.8916893345591371    | 0.25                  | 0.8677306098355817  | 0.25             | 0.8332776940539096   | 0.25             | 0.91028848063519     | 0.9890029325513198   | 0.7933268603680841   | 0.25             | 0.7891230979941171    | 0.9890029325513198    | 0.6687973037818772    | 0.9890029325513198    | 0.7724750003526043  | 0.25             | 0.6243372056135474   | 0.25             | 0.8604108879049919   | 0.25             | 0.7626908068680291   | 0.9890029325513198   | 0.8424227083440354    | 0.25                  | 0.7342324028207947    | 0.25                  | 0.9405908758479813    | 0.25            | 0.7025207043499236   | 0.25            | 0.975037737203028     | 0.25            | 0.8904192628514853   | 0.25            | 0.9423582679291189    | 0.25                  | 0.8681813987288477    | 0.25                  | 0.8191775225365866  | 0.25            | 0.657108239095315    | 0.25            | 0.92139066329547     | 0.25            | 0.7687465538201942  | 0.25            | 0.8788701477433412    | 0.25                  | 0.7249073213521161    | 0.25                  | 0.6872966440457378  | 0.25             | 0.6497026022304833  | 0.25             | 0.7099720947787536   | 0.0036656891495601166 | 0.5307283695569724    | 0.25             | 0.6116662380044157    | 0.25                  | 0.39734736313063873   | 0.25                  | 0.5383515142268671   | 0.25             | 0.39991076740035697  | 0.25             | 0.7121142659592057  | 0.25             | 0.5798250586680783   | 0.25             | 0.5970052914753389    | 0.25                  | 0.47915877291484393   | 0.25                  | 0.9992036525801657    | 0.25            | 0.4981536189069424    | 0.25            | 0.8724730558091557   | 0.25            | 0.7058025555750045     | 0.25            | 0.8181305798539092    | 0.25                  | 0.7883074898437947    | 0.25                  | 0.48271881519991794  | 0.25            | 0.4116939364773821     | 0.25            | 0.7624182265001853   | 0.25            | 0.5648527334835238   | 0.25            | 0.6456354501923227    | 0.25                  | 0.4906458386933031    | 0.25                  | 0.9557914338409595   | 0.25             | 0.9165301338167178   | 0.25             | 0.9592771518077354   | 0.9944608567208271    | 0.8795236874144052   | 0.25             | 0.9363867613416219    | 0.9890029325513198    | 0.8501088351282172    | 0.25                  | 0.9112377001915887   | 0.25             | 0.8166131519331933   | 0.25             | 0.9317257453577938   | 0.25             | 0.8180994136594534   | 0.9890029325513198   | 0.9231231853605443    | 0.33292201382033565   | 0.8126107778700096    | 0.25                  | 0.970676329029058    | 0.25             | 0.9225160794854564   | 0.25             | 0.9745210010065842   | 0.25             | 0.9286731354848899   | 0.25             | 0.9553478174520963    | 0.25                  | 0.9241468437273003    | 0.25                  | 0.9181221947403738   | 0.25             | 0.7907311749011793  | 0.25             | 0.9392391262103802   | 0.25             | 0.8301627746510487   | 0.25             | 0.9207225372986676    | 0.25                  | 0.8018407585823506    | 0.25                  | 0.9849446397563701    | 0.25             | 0.9887732422680781    | 0.25             | 0.9796222817669935    | 0.25             | 0.9376925905381771    | 0.25             | 0.9718219996769505    | 0.9890029325513198    | 0.9413292316268163    | 0.25                  | 0.9665850399483185    | 0.25             | 0.965045585526005    | 0.25             | 0.9538189160674485    | 0.25             | 0.8930152857701008   | 0.25             | 0.9537220496862494    | 0.9962981243830207    | 0.8911640879319683    | 0.25                  | 0.9736584480217582    | 0.25            | 0.9729245143906591     | 0.25            | 0.9808509442024693   | 0.25            | 0.9212336257332782   | 0.25            | 0.9632102580475956    | 0.25                  | 0.9351825460032694    | 0.25                  | 0.963798319080928     | 0.25            | 0.9504606484437154    | 0.25            | 0.9636257827217889   | 0.25            | 0.9031557269127387   | 0.25            | 0.9506182414629982    | 0.25                  | 0.8982286907714399    | 0.25                  |\n",
      "+------------------------+----------------------+------------------+----------------------+------------------+----------------------+-----------------------+----------------------+------------------+-----------------------+-----------------------+-----------------------+-----------------------+----------------------+------------------+----------------------+------------------+----------------------+------------------+---------------------+------------------+-----------------------+-----------------------+-----------------------+-----------------------+----------------------+-----------------+----------------------+-----------------+-----------------------+-----------------+----------------------+-----------------+-----------------------+-----------------------+-----------------------+-----------------------+----------------------+-----------------+----------------------+-----------------+----------------------+-----------------+----------------------+-----------------+-----------------------+-----------------------+-----------------------+-----------------------+------------------+------------------+------------------+------------------+------------------+------------------+-----------------------+------------------+-----------------------+-----------------------+-----------------------+-----------------------+------------------+------------------+------------------+------------------+----------------------+------------------+------------------+------------------+-----------------------+-----------------------+-----------------------+-----------------------+-----------------+-----------------+-----------------+-----------------+-----------------+-----------------+----------------------+-----------------+-----------------------+-----------------------+-----------------------+-----------------------+-----------------+-----------------+-----------------+-----------------+----------------------+-----------------+-----------------------+-----------------+-----------------------+-----------------------+-----------------------+-----------------------+-----------------------+------------------+-----------------------+------------------+-----------------------+------------------+------------------------+------------------+------------------------+-----------------------+-----------------------+-----------------------+------------------------+------------------+------------------------+------------------+--------------------+------------------+------------------------+------------------+-----------------------+-----------------------+-----------------------+-----------------------+-----------------------+-----------------+-----------------------+-----------------+------------------------+-----------------+-----------------------+-----------------+-----------------------+-----------------------+-----------------------+-----------------------+-----------------------+-----------------+------------------------+-----------------+------------------------+-----------------+-----------------------+-----------------+-----------------------+-----------------------+-----------------------+-----------------------+---------------------+------------------+----------------------+------------------+----------------------+----------------------+----------------------+------------------+-----------------------+-----------------------+-----------------------+-----------------------+---------------------+------------------+----------------------+------------------+----------------------+------------------+----------------------+----------------------+-----------------------+-----------------------+-----------------------+-----------------------+-----------------------+-----------------+----------------------+-----------------+-----------------------+-----------------+----------------------+-----------------+-----------------------+-----------------------+-----------------------+-----------------------+---------------------+-----------------+----------------------+-----------------+----------------------+-----------------+---------------------+-----------------+-----------------------+-----------------------+-----------------------+-----------------------+---------------------+------------------+---------------------+------------------+----------------------+-----------------------+-----------------------+------------------+-----------------------+-----------------------+-----------------------+-----------------------+----------------------+------------------+----------------------+------------------+---------------------+------------------+----------------------+------------------+-----------------------+-----------------------+-----------------------+-----------------------+-----------------------+-----------------+-----------------------+-----------------+----------------------+-----------------+------------------------+-----------------+-----------------------+-----------------------+-----------------------+-----------------------+----------------------+-----------------+------------------------+-----------------+----------------------+-----------------+----------------------+-----------------+-----------------------+-----------------------+-----------------------+-----------------------+----------------------+------------------+----------------------+------------------+----------------------+-----------------------+----------------------+------------------+-----------------------+-----------------------+-----------------------+-----------------------+----------------------+------------------+----------------------+------------------+----------------------+------------------+----------------------+----------------------+-----------------------+-----------------------+-----------------------+-----------------------+----------------------+------------------+----------------------+------------------+----------------------+------------------+----------------------+------------------+-----------------------+-----------------------+-----------------------+-----------------------+----------------------+------------------+---------------------+------------------+----------------------+------------------+----------------------+------------------+-----------------------+-----------------------+-----------------------+-----------------------+-----------------------+------------------+-----------------------+------------------+-----------------------+------------------+-----------------------+------------------+-----------------------+-----------------------+-----------------------+-----------------------+-----------------------+------------------+----------------------+------------------+-----------------------+------------------+----------------------+------------------+-----------------------+-----------------------+-----------------------+-----------------------+-----------------------+-----------------+------------------------+-----------------+----------------------+-----------------+----------------------+-----------------+-----------------------+-----------------------+-----------------------+-----------------------+-----------------------+-----------------+-----------------------+-----------------+----------------------+-----------------+----------------------+-----------------+-----------------------+-----------------------+-----------------------+-----------------------+\n",
      "+-----------------------+---------------------+---------------------+--------------------+---------------------+---------------------+---------------------+---------------------+---------------------+----------------------+----------------------+----------------------+---------------------+---------------------+----------------------+----------------------+----------------------+---------------------+---------------------+---------------------+----------------------+---------------------+---------------------+---------------------+---------------------+---------------------+---------------------+----------------------+---------------------+----------------------+----------------------+--------------------+---------------------+---------------------+---------------------+---------------------+----------------------+---------------------+----------------------+---------------------+---------------------+---------------------+---------------------+---------------------+---------------------+---------------------+---------------------+---------------------+---------------------+---------------------+---------------------+---------------------+---------------------+---------------------+---------------------+---------------------+--------------------+\n",
      "| AGE                   | AGE(Adult)          | AGE(Adult)          | AGE(Adult)         | AGE(Adult)          | AGE(Adult)          | AGE(Adult)          | AGE(Adult)          | AGE(Adult)          | AGE(Baby)            | AGE(Baby)            | AGE(Baby)            | AGE(Baby)           | AGE(Baby)           | AGE(Baby)            | AGE(Baby)            | AGE(Baby)            | AGE(Minor)          | AGE(Minor)          | AGE(Minor)          | AGE(Minor)           | AGE(Minor)          | AGE(Minor)          | AGE(Minor)          | AGE(Minor)          | AGE(Old)            | AGE(Old)            | AGE(Old)             | AGE(Old)            | AGE(Old)             | AGE(Old)             | AGE(Old)           | AGE(Old)            | AGE(Over 80)        | AGE(Over 80)        | AGE(Over 80)        | AGE(Over 80)         | AGE(Over 80)        | AGE(Over 80)         | AGE(Over 80)        | AGE(Over 80)        | AGE(Upper adult)    | AGE(Upper adult)    | AGE(Upper adult)    | AGE(Upper adult)    | AGE(Upper adult)    | AGE(Upper adult)    | AGE(Upper adult)    | AGE(Upper adult)    | AGE(Young)          | AGE(Young)          | AGE(Young)          | AGE(Young)          | AGE(Young)          | AGE(Young)          | AGE(Young)          | AGE(Young)         |\n",
      "+-----------------------+---------------------+---------------------+--------------------+---------------------+---------------------+---------------------+---------------------+---------------------+----------------------+----------------------+----------------------+---------------------+---------------------+----------------------+----------------------+----------------------+---------------------+---------------------+---------------------+----------------------+---------------------+---------------------+---------------------+---------------------+---------------------+---------------------+----------------------+---------------------+----------------------+----------------------+--------------------+---------------------+---------------------+---------------------+---------------------+----------------------+---------------------+----------------------+---------------------+---------------------+---------------------+---------------------+---------------------+---------------------+---------------------+---------------------+---------------------+---------------------+---------------------+---------------------+---------------------+---------------------+---------------------+---------------------+---------------------+--------------------+\n",
      "| ALLERGIES             | ALLERGIES(False)    | ALLERGIES(False)    | ALLERGIES(False)   | ALLERGIES(False)    | ALLERGIES(True)     | ALLERGIES(True)     | ALLERGIES(True)     | ALLERGIES(True)     | ALLERGIES(False)     | ALLERGIES(False)     | ALLERGIES(False)     | ALLERGIES(False)    | ALLERGIES(True)     | ALLERGIES(True)      | ALLERGIES(True)      | ALLERGIES(True)      | ALLERGIES(False)    | ALLERGIES(False)    | ALLERGIES(False)    | ALLERGIES(False)     | ALLERGIES(True)     | ALLERGIES(True)     | ALLERGIES(True)     | ALLERGIES(True)     | ALLERGIES(False)    | ALLERGIES(False)    | ALLERGIES(False)     | ALLERGIES(False)    | ALLERGIES(True)      | ALLERGIES(True)      | ALLERGIES(True)    | ALLERGIES(True)     | ALLERGIES(False)    | ALLERGIES(False)    | ALLERGIES(False)    | ALLERGIES(False)     | ALLERGIES(True)     | ALLERGIES(True)      | ALLERGIES(True)     | ALLERGIES(True)     | ALLERGIES(False)    | ALLERGIES(False)    | ALLERGIES(False)    | ALLERGIES(False)    | ALLERGIES(True)     | ALLERGIES(True)     | ALLERGIES(True)     | ALLERGIES(True)     | ALLERGIES(False)    | ALLERGIES(False)    | ALLERGIES(False)    | ALLERGIES(False)    | ALLERGIES(True)     | ALLERGIES(True)     | ALLERGIES(True)     | ALLERGIES(True)    |\n",
      "+-----------------------+---------------------+---------------------+--------------------+---------------------+---------------------+---------------------+---------------------+---------------------+----------------------+----------------------+----------------------+---------------------+---------------------+----------------------+----------------------+----------------------+---------------------+---------------------+---------------------+----------------------+---------------------+---------------------+---------------------+---------------------+---------------------+---------------------+----------------------+---------------------+----------------------+----------------------+--------------------+---------------------+---------------------+---------------------+---------------------+----------------------+---------------------+----------------------+---------------------+---------------------+---------------------+---------------------+---------------------+---------------------+---------------------+---------------------+---------------------+---------------------+---------------------+---------------------+---------------------+---------------------+---------------------+---------------------+---------------------+--------------------+\n",
      "| ILLNESS               | ILLNESS(False)      | ILLNESS(False)      | ILLNESS(True)      | ILLNESS(True)       | ILLNESS(False)      | ILLNESS(False)      | ILLNESS(True)       | ILLNESS(True)       | ILLNESS(False)       | ILLNESS(False)       | ILLNESS(True)        | ILLNESS(True)       | ILLNESS(False)      | ILLNESS(False)       | ILLNESS(True)        | ILLNESS(True)        | ILLNESS(False)      | ILLNESS(False)      | ILLNESS(True)       | ILLNESS(True)        | ILLNESS(False)      | ILLNESS(False)      | ILLNESS(True)       | ILLNESS(True)       | ILLNESS(False)      | ILLNESS(False)      | ILLNESS(True)        | ILLNESS(True)       | ILLNESS(False)       | ILLNESS(False)       | ILLNESS(True)      | ILLNESS(True)       | ILLNESS(False)      | ILLNESS(False)      | ILLNESS(True)       | ILLNESS(True)        | ILLNESS(False)      | ILLNESS(False)       | ILLNESS(True)       | ILLNESS(True)       | ILLNESS(False)      | ILLNESS(False)      | ILLNESS(True)       | ILLNESS(True)       | ILLNESS(False)      | ILLNESS(False)      | ILLNESS(True)       | ILLNESS(True)       | ILLNESS(False)      | ILLNESS(False)      | ILLNESS(True)       | ILLNESS(True)       | ILLNESS(False)      | ILLNESS(False)      | ILLNESS(True)       | ILLNESS(True)      |\n",
      "+-----------------------+---------------------+---------------------+--------------------+---------------------+---------------------+---------------------+---------------------+---------------------+----------------------+----------------------+----------------------+---------------------+---------------------+----------------------+----------------------+----------------------+---------------------+---------------------+---------------------+----------------------+---------------------+---------------------+---------------------+---------------------+---------------------+---------------------+----------------------+---------------------+----------------------+----------------------+--------------------+---------------------+---------------------+---------------------+---------------------+----------------------+---------------------+----------------------+---------------------+---------------------+---------------------+---------------------+---------------------+---------------------+---------------------+---------------------+---------------------+---------------------+---------------------+---------------------+---------------------+---------------------+---------------------+---------------------+---------------------+--------------------+\n",
      "| SEX                   | SEX(F)              | SEX(M)              | SEX(F)             | SEX(M)              | SEX(F)              | SEX(M)              | SEX(F)              | SEX(M)              | SEX(F)               | SEX(M)               | SEX(F)               | SEX(M)              | SEX(F)              | SEX(M)               | SEX(F)               | SEX(M)               | SEX(F)              | SEX(M)              | SEX(F)              | SEX(M)               | SEX(F)              | SEX(M)              | SEX(F)              | SEX(M)              | SEX(F)              | SEX(M)              | SEX(F)               | SEX(M)              | SEX(F)               | SEX(M)               | SEX(F)             | SEX(M)              | SEX(F)              | SEX(M)              | SEX(F)              | SEX(M)               | SEX(F)              | SEX(M)               | SEX(F)              | SEX(M)              | SEX(F)              | SEX(M)              | SEX(F)              | SEX(M)              | SEX(F)              | SEX(M)              | SEX(F)              | SEX(M)              | SEX(F)              | SEX(M)              | SEX(F)              | SEX(M)              | SEX(F)              | SEX(M)              | SEX(F)              | SEX(M)             |\n",
      "+-----------------------+---------------------+---------------------+--------------------+---------------------+---------------------+---------------------+---------------------+---------------------+----------------------+----------------------+----------------------+---------------------+---------------------+----------------------+----------------------+----------------------+---------------------+---------------------+---------------------+----------------------+---------------------+---------------------+---------------------+---------------------+---------------------+---------------------+----------------------+---------------------+----------------------+----------------------+--------------------+---------------------+---------------------+---------------------+---------------------+----------------------+---------------------+----------------------+---------------------+---------------------+---------------------+---------------------+---------------------+---------------------+---------------------+---------------------+---------------------+---------------------+---------------------+---------------------+---------------------+---------------------+---------------------+---------------------+---------------------+--------------------+\n",
      "| MANU(JANSSEN)         | 0.09550114613441305 | 0.1652291317563284  | 0.0914820804106449 | 0.14748712203686387 | 0.0900050547971421  | 0.13904372890142183 | 0.08882138931239301 | 0.14324751931305976 | 0.027322404371584702 | 0.009633911368015415 | 0.009633911368015415 | 0.33333333333333337 | 0.33333333333333337 | 0.014245014245014247 | 0.027322404371584706 | 0.009633911368015415 | 0.05341093880525562 | 0.07126169656230771 | 0.01729003129649582 | 0.051406288649293586 | 0.02149187457917054 | 0.04318615310160276 | 0.05378120001487929 | 0.04275079158327244 | 0.03502556217401229 | 0.03756052197562069 | 0.032651531268678646 | 0.04427546263785504 | 0.034520818861887126 | 0.046456228390498164 | 0.0362041639911208 | 0.04557960736900028 | 0.01698210267528869 | 0.0155138472035887  | 0.02493772225074638 | 0.021373060286770048 | 0.03262057989066501 | 0.014593229768476913 | 0.03584290018361488 | 0.03177117198223882 | 0.08480573090461524 | 0.12371286290770346 | 0.08710092379276715 | 0.10669250131678182 | 0.09034111444967387 | 0.13137121384076061 | 0.08941043274446116 | 0.12432055362960863 | 0.13538454245755954 | 0.24960149521139502 | 0.13246938665051705 | 0.21502427529607737 | 0.11273454593319945 | 0.23174224491951365 | 0.11396805739181853 | 0.2058501239330236 |\n",
      "+-----------------------+---------------------+---------------------+--------------------+---------------------+---------------------+---------------------+---------------------+---------------------+----------------------+----------------------+----------------------+---------------------+---------------------+----------------------+----------------------+----------------------+---------------------+---------------------+---------------------+----------------------+---------------------+---------------------+---------------------+---------------------+---------------------+---------------------+----------------------+---------------------+----------------------+----------------------+--------------------+---------------------+---------------------+---------------------+---------------------+----------------------+---------------------+----------------------+---------------------+---------------------+---------------------+---------------------+---------------------+---------------------+---------------------+---------------------+---------------------+---------------------+---------------------+---------------------+---------------------+---------------------+---------------------+---------------------+---------------------+--------------------+\n",
      "| MANU(MODERNA)         | 0.5090862519779433  | 0.43315959550269173 | 0.5498015139887635 | 0.475837914590608   | 0.5537946170191356  | 0.4826792578921564  | 0.5305421525416122  | 0.45609500723292146 | 0.027322404371584702 | 0.6570327552986512   | 0.3333333333333333   | 0.33333333333333337 | 0.33333333333333337 | 0.4928774928774929   | 0.9453551912568308   | 0.6570327552986512   | 0.4454542459147619  | 0.39373748219622035 | 0.427571699758863   | 0.36674087331034383  | 0.2660734108569453  | 0.24883992370541178 | 0.3849942342744485  | 0.3985661488282449  | 0.5921818941420197  | 0.5486232011772679  | 0.6894581778027057   | 0.624263825632177   | 0.6914208914584955   | 0.6298287668675463   | 0.645573504760668  | 0.5833275205964643  | 0.5105960620204947  | 0.5166410791920812  | 0.632570787456976   | 0.6097141956765934   | 0.5836689502456578  | 0.6113322206530578   | 0.6050147210598182  | 0.5686078369261377  | 0.5198331522903679  | 0.4750927989322328  | 0.5740858469504471  | 0.525473804504274   | 0.5650197408526827  | 0.51100350558624    | 0.5383130016989425  | 0.49013855408922813 | 0.46356036416210145 | 0.3787991881097361  | 0.5109324509550077  | 0.42115505718406565 | 0.5353241545591283  | 0.3976975503078424  | 0.5102125974149135  | 0.4069248840528727 |\n",
      "+-----------------------+---------------------+---------------------+--------------------+---------------------+---------------------+---------------------+---------------------+---------------------+----------------------+----------------------+----------------------+---------------------+---------------------+----------------------+----------------------+----------------------+---------------------+---------------------+---------------------+----------------------+---------------------+---------------------+---------------------+---------------------+---------------------+---------------------+----------------------+---------------------+----------------------+----------------------+--------------------+---------------------+---------------------+---------------------+---------------------+----------------------+---------------------+----------------------+---------------------+---------------------+---------------------+---------------------+---------------------+---------------------+---------------------+---------------------+---------------------+---------------------+---------------------+---------------------+---------------------+---------------------+---------------------+---------------------+---------------------+--------------------+\n",
      "| MANU(PFIZER\\BIONTECH) | 0.39541260188764377 | 0.40161127274097985 | 0.3587164056005916 | 0.3766749633725281  | 0.35620032818372244 | 0.37827701320642176 | 0.38063645814599495 | 0.40065747345401875 | 0.9453551912568305   | 0.3333333333333333   | 0.6570327552986512   | 0.33333333333333337 | 0.33333333333333337 | 0.4928774928774929   | 0.027322404371584706 | 0.3333333333333333   | 0.5011348152799825  | 0.535000821241472   | 0.5551382689446411  | 0.5818528380403627   | 0.7124347145638843  | 0.7079739231929854  | 0.5612245657106721  | 0.5586830595884825  | 0.37279254368396797 | 0.4138162768471113  | 0.2778902909286158   | 0.33146071172996794 | 0.27405828967961743  | 0.32371500474195547  | 0.3182223312482113 | 0.3710928720345354  | 0.47242183530421666 | 0.46784507360433003 | 0.34249149029227755 | 0.36891274403663665  | 0.3837104698636773  | 0.3740745495784654   | 0.35914237875656685 | 0.39962099109162347 | 0.39536111680501695 | 0.4011943381600637  | 0.3388132292567859  | 0.3678336941789442  | 0.3446391446976434  | 0.3576252805729994  | 0.3722765655565965  | 0.3855408922811633  | 0.40105509338033907 | 0.3715993166788688  | 0.35659816239447517 | 0.363820667519857   | 0.3519412995076723  | 0.37056020477264395 | 0.3758193451932678  | 0.3872249920141037 |\n",
      "+-----------------------+---------------------+---------------------+--------------------+---------------------+---------------------+---------------------+---------------------+---------------------+----------------------+----------------------+----------------------+---------------------+---------------------+----------------------+----------------------+----------------------+---------------------+---------------------+---------------------+----------------------+---------------------+---------------------+---------------------+---------------------+---------------------+---------------------+----------------------+---------------------+----------------------+----------------------+--------------------+---------------------+---------------------+---------------------+---------------------+----------------------+---------------------+----------------------+---------------------+---------------------+---------------------+---------------------+---------------------+---------------------+---------------------+---------------------+---------------------+---------------------+---------------------+---------------------+---------------------+---------------------+---------------------+---------------------+---------------------+--------------------+\n",
      "+------------------+---------------------+---------------------+---------------------+--------------------+---------------------+---------------------+--------------------+---------------------+--------------------+---------------------+---------------------+---------------------+---------------------+--------------------+\n",
      "| AGE              | AGE(Adult)          | AGE(Adult)          | AGE(Baby)           | AGE(Baby)          | AGE(Minor)          | AGE(Minor)          | AGE(Old)           | AGE(Old)            | AGE(Over 80)       | AGE(Over 80)        | AGE(Upper adult)    | AGE(Upper adult)    | AGE(Young)          | AGE(Young)         |\n",
      "+------------------+---------------------+---------------------+---------------------+--------------------+---------------------+---------------------+--------------------+---------------------+--------------------+---------------------+---------------------+---------------------+---------------------+--------------------+\n",
      "| SEX              | SEX(F)              | SEX(M)              | SEX(F)              | SEX(M)             | SEX(F)              | SEX(M)              | SEX(F)             | SEX(M)              | SEX(F)             | SEX(M)              | SEX(F)              | SEX(M)              | SEX(F)              | SEX(M)             |\n",
      "+------------------+---------------------+---------------------+---------------------+--------------------+---------------------+---------------------+--------------------+---------------------+--------------------+---------------------+---------------------+---------------------+---------------------+--------------------+\n",
      "| ALLERGIES(False) | 0.5372959576669668  | 0.7067796068531073  | 0.78                | 0.3803418803418803 | 0.7641075085579323  | 0.786279866183661   | 0.4584981253505019 | 0.6497958236909251  | 0.5469936941730537 | 0.6704627234357069  | 0.48601054181919784 | 0.6723803943028994  | 0.6218040441033699  | 0.7268037098004577 |\n",
      "+------------------+---------------------+---------------------+---------------------+--------------------+---------------------+---------------------+--------------------+---------------------+--------------------+---------------------+---------------------+---------------------+---------------------+--------------------+\n",
      "| ALLERGIES(True)  | 0.46270404233303325 | 0.29322039314689285 | 0.21999999999999997 | 0.6196581196581197 | 0.23589249144206761 | 0.21372013381633903 | 0.5415018746494981 | 0.35020417630907497 | 0.4530063058269464 | 0.32953727656429305 | 0.5139894581808021  | 0.32761960569710064 | 0.37819595589663013 | 0.2731962901995423 |\n",
      "+------------------+---------------------+---------------------+---------------------+--------------------+---------------------+---------------------+--------------------+---------------------+--------------------+---------------------+---------------------+---------------------+---------------------+--------------------+\n",
      "+-----------+------------------------+-----------------------+-----------------------+---------------+----------------------+-----------------------+------------------------+------------------------+------------------------+-----------------------+------------------------+------------------------+-----------------------+------------------------+-----------------------+-----------------------+------------------------+------------------------+-----------------------+------------------------+-----------------------+\n",
      "| AGE       | AGE(Adult)             | AGE(Adult)            | AGE(Adult)            | AGE(Baby)     | AGE(Baby)            | AGE(Baby)             | AGE(Minor)             | AGE(Minor)             | AGE(Minor)             | AGE(Old)              | AGE(Old)               | AGE(Old)               | AGE(Over 80)          | AGE(Over 80)           | AGE(Over 80)          | AGE(Upper adult)      | AGE(Upper adult)       | AGE(Upper adult)       | AGE(Young)            | AGE(Young)             | AGE(Young)            |\n",
      "+-----------+------------------------+-----------------------+-----------------------+---------------+----------------------+-----------------------+------------------------+------------------------+------------------------+-----------------------+------------------------+------------------------+-----------------------+------------------------+-----------------------+-----------------------+------------------------+------------------------+-----------------------+------------------------+-----------------------+\n",
      "| MANU      | MANU(JANSSEN)          | MANU(MODERNA)         | MANU(PFIZER\\BIONTECH) | MANU(JANSSEN) | MANU(MODERNA)        | MANU(PFIZER\\BIONTECH) | MANU(JANSSEN)          | MANU(MODERNA)          | MANU(PFIZER\\BIONTECH)  | MANU(JANSSEN)         | MANU(MODERNA)          | MANU(PFIZER\\BIONTECH)  | MANU(JANSSEN)         | MANU(MODERNA)          | MANU(PFIZER\\BIONTECH) | MANU(JANSSEN)         | MANU(MODERNA)          | MANU(PFIZER\\BIONTECH)  | MANU(JANSSEN)         | MANU(MODERNA)          | MANU(PFIZER\\BIONTECH) |\n",
      "+-----------+------------------------+-----------------------+-----------------------+---------------+----------------------+-----------------------+------------------------+------------------------+------------------------+-----------------------+------------------------+------------------------+-----------------------+------------------------+-----------------------+-----------------------+------------------------+------------------------+-----------------------+------------------------+-----------------------+\n",
      "| DOSE(1.0) | 0.9943571740793359     | 0.6823372137892663    | 0.5526393081442846    | 0.25          | 0.9753289473684211   | 0.8110687022900764    | 0.9951720135078093     | 0.8434596817199472     | 0.8075445291287072     | 0.9910502269379903    | 0.6177495296100446     | 0.5411307478869489     | 0.9716528770214368    | 0.603325656722971      | 0.5364150266196087    | 0.9929907706621697    | 0.6531579049385551     | 0.5725064140432893     | 0.9941002606590951    | 0.696126007951444      | 0.5868729684195985    |\n",
      "+-----------+------------------------+-----------------------+-----------------------+---------------+----------------------+-----------------------+------------------------+------------------------+------------------------+-----------------------+------------------------+------------------------+-----------------------+------------------------+-----------------------+-----------------------+------------------------+------------------------+-----------------------+------------------------+-----------------------+\n",
      "| DOSE(2.0) | 0.004940716861545188   | 0.3168590629472919    | 0.44580305004839793   | 0.25          | 0.008223684210526317 | 0.16984732824427484   | 0.002348037146475306   | 0.15591582699486373    | 0.19000754819839183    | 0.0063497550272025    | 0.37891270810854194    | 0.45227639754693894    | 0.023928168484392633  | 0.3870854837507145     | 0.44270203983968415   | 0.005069490018857423  | 0.34511623988715967    | 0.42471150134465646    | 0.004508005957922175  | 0.3027538729015293     | 0.41198915467066816   |\n",
      "+-----------+------------------------+-----------------------+-----------------------+---------------+----------------------+-----------------------+------------------------+------------------------+------------------------+-----------------------+------------------------+------------------------+-----------------------+------------------------+-----------------------+-----------------------+------------------------+------------------------+-----------------------+------------------------+-----------------------+\n",
      "| DOSE(3.0) | 0.0004657960878592505  | 0.0006845388995329095 | 0.001302061704662657  | 0.25          | 0.008223684210526317 | 0.009541984732824428  | 0.002348037146475306   | 0.0006069493951556316  | 0.0019945065889481798  | 0.0019312272686284526 | 0.002886098750679948   | 0.00644703970547084    | 0.004183903723204213  | 0.009230571686562342   | 0.020365496201471555  | 0.0014059994849514442 | 0.0015361229315830752  | 0.002645059747106483   | 0.0005981195308136287 | 0.0008544997943592111  | 0.0009718965510624664 |\n",
      "+-----------+------------------------+-----------------------+-----------------------+---------------+----------------------+-----------------------+------------------------+------------------------+------------------------+-----------------------+------------------------+------------------------+-----------------------+------------------------+-----------------------+-----------------------+------------------------+------------------------+-----------------------+------------------------+-----------------------+\n",
      "| DOSE(4.0) | 0.00023631297125997167 | 0.0001191843639088433 | 0.000255580102654862  | 0.25          | 0.008223684210526317 | 0.009541984732824428  | 0.00013191219924018574 | 1.7541890033399757e-05 | 0.00045341608395273983 | 0.0006687907661787249 | 0.00045166353073363005 | 0.00014581486064145052 | 0.0002350507709665288 | 0.00035828783975213935 | 0.0005174373392355086 | 0.0005337398340214492 | 0.00018973224270220463 | 0.00013702486494786658 | 0.000793613852169056  | 0.00026561935266772194 | 0.0001659803586710826 |\n",
      "+-----------+------------------------+-----------------------+-----------------------+---------------+----------------------+-----------------------+------------------------+------------------------+------------------------+-----------------------+------------------------+------------------------+-----------------------+------------------------+-----------------------+-----------------------+------------------------+------------------------+-----------------------+------------------------+-----------------------+\n",
      "+--------+----------+\n",
      "| SEX(F) | 0.737378 |\n",
      "+--------+----------+\n",
      "| SEX(M) | 0.262622 |\n",
      "+--------+----------+\n",
      "+--------------+-------------+\n",
      "| VISIT(False) | 0.999905    |\n",
      "+--------------+-------------+\n",
      "| VISIT(True)  | 9.52196e-05 |\n",
      "+--------------+-------------+\n"
     ]
    }
   ],
   "source": [
    "for cpd in bayesian_model.get_cpds():\n",
    "    print(cpd)"
   ],
   "metadata": {
    "collapsed": false,
    "pycharm": {
     "name": "#%%\n"
    }
   }
  },
  {
   "cell_type": "markdown",
   "source": [
    "## Analysis\n",
    "Now that the bayesian network is completed, several analyses can be done."
   ],
   "metadata": {
    "collapsed": false
   }
  },
  {
   "cell_type": "markdown",
   "source": [
    "### Structural analysis\n",
    "The first considerations deal with the structure of the network, the \"graph\". Because this graph represents a bayesian network,\n",
    "we can draw some conclusions just by looking at it without considering CPDs."
   ],
   "metadata": {
    "collapsed": false
   }
  },
  {
   "cell_type": "markdown",
   "source": [
    "#### Active trails\n",
    "We can see an active trail as a group of influence. Starting from a node and evidences it's possible to retrieve its active trails."
   ],
   "metadata": {
    "collapsed": false
   }
  },
  {
   "cell_type": "code",
   "execution_count": 150,
   "outputs": [
    {
     "data": {
      "text/plain": "{'DAMAGE': {'AGE',\n  'ALLERGIES',\n  'DAMAGE',\n  'DOSE',\n  'ILLNESS',\n  'MANU',\n  'SEX',\n  'VISIT'}}"
     },
     "execution_count": 150,
     "metadata": {},
     "output_type": "execute_result"
    }
   ],
   "source": [
    "bayesian_model.active_trail_nodes('DAMAGE')"
   ],
   "metadata": {
    "collapsed": false,
    "pycharm": {
     "name": "#%%\n"
    }
   }
  },
  {
   "cell_type": "code",
   "execution_count": 151,
   "outputs": [
    {
     "data": {
      "text/plain": "{'DAMAGE': {'ALLERGIES', 'DAMAGE', 'ILLNESS', 'MANU', 'VISIT'}}"
     },
     "execution_count": 151,
     "metadata": {},
     "output_type": "execute_result"
    }
   ],
   "source": [
    "bayesian_model.active_trail_nodes('DAMAGE', observed=['AGE', 'SEX', 'DOSE'])"
   ],
   "metadata": {
    "collapsed": false,
    "pycharm": {
     "name": "#%%\n"
    }
   }
  },
  {
   "cell_type": "code",
   "execution_count": 152,
   "outputs": [
    {
     "data": {
      "text/plain": "{'DAMAGE': {'DAMAGE', 'VISIT'}}"
     },
     "execution_count": 152,
     "metadata": {},
     "output_type": "execute_result"
    }
   ],
   "source": [
    "bayesian_model.active_trail_nodes('DAMAGE', observed=['AGE', 'SEX', 'DOSE', 'MANU', 'ILLNESS', 'ALLERGIES'])"
   ],
   "metadata": {
    "collapsed": false,
    "pycharm": {
     "name": "#%%\n"
    }
   }
  },
  {
   "cell_type": "code",
   "execution_count": 153,
   "outputs": [
    {
     "data": {
      "text/plain": "{'ILLNESS': {'DAMAGE', 'DOSE', 'ILLNESS', 'MANU'}}"
     },
     "execution_count": 153,
     "metadata": {},
     "output_type": "execute_result"
    }
   ],
   "source": [
    "bayesian_model.active_trail_nodes('ILLNESS', observed=['AGE', 'SEX'])"
   ],
   "metadata": {
    "collapsed": false,
    "pycharm": {
     "name": "#%%\n"
    }
   }
  },
  {
   "cell_type": "markdown",
   "source": [
    "#### Markov blankets\n",
    "A Markov blanket of a node is a subset of nodes that fully determines the desired node.\n",
    "The Markov blanket of a node is composed by its parents, children, and children's parents."
   ],
   "metadata": {
    "collapsed": false
   }
  },
  {
   "cell_type": "code",
   "execution_count": 154,
   "outputs": [
    {
     "data": {
      "text/plain": "['ALLERGIES', 'SEX', 'VISIT', 'AGE', 'MANU', 'ILLNESS']"
     },
     "execution_count": 154,
     "metadata": {},
     "output_type": "execute_result"
    }
   ],
   "source": [
    "bayesian_model.get_markov_blanket('DAMAGE')"
   ],
   "metadata": {
    "collapsed": false,
    "pycharm": {
     "name": "#%%\n"
    }
   }
  },
  {
   "cell_type": "code",
   "execution_count": 155,
   "outputs": [
    {
     "data": {
      "text/plain": "['ALLERGIES', 'SEX', 'VISIT', 'AGE', 'MANU', 'DAMAGE']"
     },
     "execution_count": 155,
     "metadata": {},
     "output_type": "execute_result"
    }
   ],
   "source": [
    "bayesian_model.get_markov_blanket('ILLNESS')"
   ],
   "metadata": {
    "collapsed": false,
    "pycharm": {
     "name": "#%%\n"
    }
   }
  },
  {
   "cell_type": "markdown",
   "source": [
    "#### Independence\n",
    "Several independence assertions can be done looking at known nodes."
   ],
   "metadata": {
    "collapsed": false
   }
  },
  {
   "cell_type": "code",
   "execution_count": 156,
   "outputs": [
    {
     "data": {
      "text/plain": "342"
     },
     "execution_count": 156,
     "metadata": {},
     "output_type": "execute_result"
    }
   ],
   "source": [
    "len(bayesian_model.get_independencies().get_assertions())"
   ],
   "metadata": {
    "collapsed": false,
    "pycharm": {
     "name": "#%%\n"
    }
   }
  },
  {
   "cell_type": "code",
   "execution_count": 157,
   "outputs": [
    {
     "data": {
      "text/plain": "[(AGE ⟂ VISIT, SEX),\n (AGE ⟂ VISIT | ALLERGIES),\n (AGE ⟂ VISIT | SEX),\n (AGE ⟂ SEX | VISIT),\n (AGE ⟂ VISIT | MANU),\n (AGE ⟂ VISIT | ILLNESS),\n (AGE ⟂ VISIT | DOSE),\n (AGE ⟂ VISIT | SEX, ALLERGIES),\n (AGE ⟂ VISIT | MANU, ALLERGIES),\n (AGE ⟂ VISIT | ILLNESS, ALLERGIES),\n (AGE ⟂ VISIT | DOSE, ALLERGIES),\n (AGE ⟂ VISIT | SEX, MANU),\n (AGE ⟂ VISIT | ILLNESS, SEX),\n (AGE ⟂ VISIT | SEX, DOSE),\n (AGE ⟂ VISIT | ILLNESS, MANU)]"
     },
     "execution_count": 157,
     "metadata": {},
     "output_type": "execute_result"
    }
   ],
   "source": [
    "bayesian_model.get_independencies().get_assertions()[0:15]"
   ],
   "metadata": {
    "collapsed": false,
    "pycharm": {
     "name": "#%%\n"
    }
   }
  },
  {
   "cell_type": "markdown",
   "source": [
    "### Inferences\n",
    "Making inferences is the most interesting part in the usage of bayesian networks. We can easily compute the probability\n",
    "of an event given prior knowledge."
   ],
   "metadata": {
    "collapsed": false
   }
  },
  {
   "cell_type": "markdown",
   "source": [
    "#### Exact inference\n",
    "An exact inference can be done with the variable elimination method, which optimizes the computation removing useless counts."
   ],
   "metadata": {
    "collapsed": false
   }
  },
  {
   "cell_type": "code",
   "execution_count": 158,
   "outputs": [
    {
     "name": "stderr",
     "output_type": "stream",
     "text": [
      "Finding Elimination Order: :   0%|          | 0/7 [00:00<?, ?it/s]\n",
      "  0%|          | 0/7 [00:00<?, ?it/s]\u001B[A\n",
      "Finding Elimination Order: : 100%|██████████| 7/7 [00:00<00:00, 1091.90it/s]\n",
      "\n",
      "Eliminating: DOSE:   0%|          | 0/7 [00:00<?, ?it/s] \u001B[A\n",
      "Eliminating: MANU:   0%|          | 0/7 [00:00<?, ?it/s]\u001B[A\n",
      "Eliminating: ALLERGIES:   0%|          | 0/7 [00:00<?, ?it/s]\u001B[A\n",
      "Eliminating: ILLNESS:   0%|          | 0/7 [00:00<?, ?it/s]  \u001B[A\n",
      "Eliminating: AGE:   0%|          | 0/7 [00:00<?, ?it/s]    \u001B[A\n",
      "Eliminating: SEX: 100%|██████████| 7/7 [00:00<00:00, 98.13it/s]"
     ]
    },
    {
     "name": "stdout",
     "output_type": "stream",
     "text": [
      "+------------------------+---------------+\n",
      "| DAMAGE                 |   phi(DAMAGE) |\n",
      "+========================+===============+\n",
      "| DAMAGE(Died or almost) |        0.0326 |\n",
      "+------------------------+---------------+\n",
      "| DAMAGE(Disability)     |        0.0117 |\n",
      "+------------------------+---------------+\n",
      "| DAMAGE(Medium)         |        0.0405 |\n",
      "+------------------------+---------------+\n",
      "| DAMAGE(Self-solving)   |        0.9152 |\n",
      "+------------------------+---------------+\n"
     ]
    },
    {
     "name": "stderr",
     "output_type": "stream",
     "text": [
      "\n"
     ]
    }
   ],
   "source": [
    "from pgmpy.inference import VariableElimination\n",
    "\n",
    "inference = VariableElimination(bayesian_model)\n",
    "\n",
    "res = inference.query(show_progress=True,\n",
    "                      variables=['DAMAGE'],\n",
    "                      evidence={})\n",
    "print(res)"
   ],
   "metadata": {
    "collapsed": false,
    "pycharm": {
     "name": "#%%\n"
    }
   }
  },
  {
   "cell_type": "code",
   "execution_count": 159,
   "outputs": [
    {
     "name": "stdout",
     "output_type": "stream",
     "text": [
      "+------------------------+---------------+\n",
      "| DAMAGE                 |   phi(DAMAGE) |\n",
      "+========================+===============+\n",
      "| DAMAGE(Died or almost) |        0.0572 |\n",
      "+------------------------+---------------+\n",
      "| DAMAGE(Disability)     |        0.0185 |\n",
      "+------------------------+---------------+\n",
      "| DAMAGE(Medium)         |        0.0645 |\n",
      "+------------------------+---------------+\n",
      "| DAMAGE(Self-solving)   |        0.8599 |\n",
      "+------------------------+---------------+\n"
     ]
    }
   ],
   "source": [
    "res = inference.query(show_progress=False,\n",
    "                      variables=['DAMAGE'],\n",
    "                      evidence={\n",
    "                          'SEX': 'M'\n",
    "                      })\n",
    "print(res)"
   ],
   "metadata": {
    "collapsed": false,
    "pycharm": {
     "name": "#%%\n"
    }
   }
  },
  {
   "cell_type": "code",
   "execution_count": 160,
   "outputs": [
    {
     "name": "stdout",
     "output_type": "stream",
     "text": [
      "+------------------------+---------------+\n",
      "| DAMAGE                 |   phi(DAMAGE) |\n",
      "+========================+===============+\n",
      "| DAMAGE(Died or almost) |        0.0239 |\n",
      "+------------------------+---------------+\n",
      "| DAMAGE(Disability)     |        0.0093 |\n",
      "+------------------------+---------------+\n",
      "| DAMAGE(Medium)         |        0.0319 |\n",
      "+------------------------+---------------+\n",
      "| DAMAGE(Self-solving)   |        0.9349 |\n",
      "+------------------------+---------------+\n"
     ]
    }
   ],
   "source": [
    "res = inference.query(show_progress=False,\n",
    "                      variables=['DAMAGE'],\n",
    "                      evidence={\n",
    "                          'SEX': 'F'\n",
    "                      })\n",
    "print(res)"
   ],
   "metadata": {
    "collapsed": false,
    "pycharm": {
     "name": "#%%\n"
    }
   }
  },
  {
   "cell_type": "code",
   "execution_count": 161,
   "outputs": [
    {
     "name": "stdout",
     "output_type": "stream",
     "text": [
      "+------------------------+---------------+\n",
      "| DAMAGE                 |   phi(DAMAGE) |\n",
      "+========================+===============+\n",
      "| DAMAGE(Died or almost) |        0.0106 |\n",
      "+------------------------+---------------+\n",
      "| DAMAGE(Disability)     |        0.0055 |\n",
      "+------------------------+---------------+\n",
      "| DAMAGE(Medium)         |        0.0243 |\n",
      "+------------------------+---------------+\n",
      "| DAMAGE(Self-solving)   |        0.9596 |\n",
      "+------------------------+---------------+\n"
     ]
    }
   ],
   "source": [
    "res = inference.query(show_progress=False,\n",
    "                      variables=['DAMAGE'],\n",
    "                      evidence={\n",
    "                          'AGE': 'Young'\n",
    "                      })\n",
    "print(res)"
   ],
   "metadata": {
    "collapsed": false,
    "pycharm": {
     "name": "#%%\n"
    }
   }
  },
  {
   "cell_type": "code",
   "execution_count": 162,
   "outputs": [
    {
     "name": "stdout",
     "output_type": "stream",
     "text": [
      "+------------------------+---------------+\n",
      "| DAMAGE                 |   phi(DAMAGE) |\n",
      "+========================+===============+\n",
      "| DAMAGE(Died or almost) |        0.1636 |\n",
      "+------------------------+---------------+\n",
      "| DAMAGE(Disability)     |        0.0191 |\n",
      "+------------------------+---------------+\n",
      "| DAMAGE(Medium)         |        0.1504 |\n",
      "+------------------------+---------------+\n",
      "| DAMAGE(Self-solving)   |        0.6668 |\n",
      "+------------------------+---------------+\n"
     ]
    }
   ],
   "source": [
    "res = inference.query(show_progress=False,\n",
    "                      variables=['DAMAGE'],\n",
    "                      evidence={\n",
    "                          'AGE': 'Over 80'\n",
    "                      })\n",
    "print(res)"
   ],
   "metadata": {
    "collapsed": false,
    "pycharm": {
     "name": "#%%\n"
    }
   }
  },
  {
   "cell_type": "code",
   "execution_count": 163,
   "outputs": [
    {
     "name": "stdout",
     "output_type": "stream",
     "text": [
      "+------------------------+---------------+\n",
      "| DAMAGE                 |   phi(DAMAGE) |\n",
      "+========================+===============+\n",
      "| DAMAGE(Died or almost) |        0.0227 |\n",
      "+------------------------+---------------+\n",
      "| DAMAGE(Disability)     |        0.0081 |\n",
      "+------------------------+---------------+\n",
      "| DAMAGE(Medium)         |        0.0409 |\n",
      "+------------------------+---------------+\n",
      "| DAMAGE(Self-solving)   |        0.9283 |\n",
      "+------------------------+---------------+\n"
     ]
    }
   ],
   "source": [
    "res = inference.query(show_progress=False,\n",
    "                      variables=['DAMAGE'],\n",
    "                      evidence={\n",
    "                          'ILLNESS': False,\n",
    "                          'ALLERGIES': False,\n",
    "                      })\n",
    "print(res)"
   ],
   "metadata": {
    "collapsed": false,
    "pycharm": {
     "name": "#%%\n"
    }
   }
  },
  {
   "cell_type": "code",
   "execution_count": 164,
   "outputs": [
    {
     "name": "stdout",
     "output_type": "stream",
     "text": [
      "+------------------------+---------------+\n",
      "| DAMAGE                 |   phi(DAMAGE) |\n",
      "+========================+===============+\n",
      "| DAMAGE(Died or almost) |        0.0373 |\n",
      "+------------------------+---------------+\n",
      "| DAMAGE(Disability)     |        0.0143 |\n",
      "+------------------------+---------------+\n",
      "| DAMAGE(Medium)         |        0.0470 |\n",
      "+------------------------+---------------+\n",
      "| DAMAGE(Self-solving)   |        0.9014 |\n",
      "+------------------------+---------------+\n"
     ]
    }
   ],
   "source": [
    "res = inference.query(show_progress=False,\n",
    "                      variables=['DAMAGE'],\n",
    "                      evidence={\n",
    "                          'MANU': 'PFIZER\\BIONTECH',\n",
    "                      })\n",
    "print(res)"
   ],
   "metadata": {
    "collapsed": false,
    "pycharm": {
     "name": "#%%\n"
    }
   }
  },
  {
   "cell_type": "code",
   "execution_count": 165,
   "outputs": [
    {
     "name": "stdout",
     "output_type": "stream",
     "text": [
      "+------------------------+---------------+\n",
      "| DAMAGE                 |   phi(DAMAGE) |\n",
      "+========================+===============+\n",
      "| DAMAGE(Died or almost) |        0.0313 |\n",
      "+------------------------+---------------+\n",
      "| DAMAGE(Disability)     |        0.0090 |\n",
      "+------------------------+---------------+\n",
      "| DAMAGE(Medium)         |        0.0309 |\n",
      "+------------------------+---------------+\n",
      "| DAMAGE(Self-solving)   |        0.9289 |\n",
      "+------------------------+---------------+\n"
     ]
    }
   ],
   "source": [
    "res = inference.query(show_progress=False,\n",
    "                      variables=['DAMAGE'],\n",
    "                      evidence={\n",
    "                          'MANU': 'JANSSEN',\n",
    "                      })\n",
    "print(res)"
   ],
   "metadata": {
    "collapsed": false,
    "pycharm": {
     "name": "#%%\n"
    }
   }
  },
  {
   "cell_type": "code",
   "execution_count": 166,
   "outputs": [
    {
     "name": "stdout",
     "output_type": "stream",
     "text": [
      "+------------------------+---------------+\n",
      "| DAMAGE                 |   phi(DAMAGE) |\n",
      "+========================+===============+\n",
      "| DAMAGE(Died or almost) |        0.0296 |\n",
      "+------------------------+---------------+\n",
      "| DAMAGE(Disability)     |        0.0104 |\n",
      "+------------------------+---------------+\n",
      "| DAMAGE(Medium)         |        0.0376 |\n",
      "+------------------------+---------------+\n",
      "| DAMAGE(Self-solving)   |        0.9224 |\n",
      "+------------------------+---------------+\n"
     ]
    }
   ],
   "source": [
    "res = inference.query(show_progress=False,\n",
    "                      variables=['DAMAGE'],\n",
    "                      evidence={\n",
    "                          'MANU': 'MODERNA',\n",
    "                      })\n",
    "print(res)"
   ],
   "metadata": {
    "collapsed": false,
    "pycharm": {
     "name": "#%%\n"
    }
   }
  },
  {
   "cell_type": "code",
   "execution_count": 167,
   "outputs": [
    {
     "name": "stdout",
     "output_type": "stream",
     "text": [
      "+------------------------+---------------+\n",
      "| DAMAGE                 |   phi(DAMAGE) |\n",
      "+========================+===============+\n",
      "| DAMAGE(Died or almost) |        0.0313 |\n",
      "+------------------------+---------------+\n",
      "| DAMAGE(Disability)     |        0.0112 |\n",
      "+------------------------+---------------+\n",
      "| DAMAGE(Medium)         |        0.0387 |\n",
      "+------------------------+---------------+\n",
      "| DAMAGE(Self-solving)   |        0.9187 |\n",
      "+------------------------+---------------+\n"
     ]
    }
   ],
   "source": [
    "res = inference.query(show_progress=False,\n",
    "                      variables=['DAMAGE'],\n",
    "                      evidence={\n",
    "                          'DOSE': 1.0,\n",
    "                      })\n",
    "print(res)"
   ],
   "metadata": {
    "collapsed": false,
    "pycharm": {
     "name": "#%%\n"
    }
   }
  },
  {
   "cell_type": "code",
   "execution_count": 168,
   "outputs": [
    {
     "name": "stdout",
     "output_type": "stream",
     "text": [
      "+------------------------+---------------+\n",
      "| DAMAGE                 |   phi(DAMAGE) |\n",
      "+========================+===============+\n",
      "| DAMAGE(Died or almost) |        0.0349 |\n",
      "+------------------------+---------------+\n",
      "| DAMAGE(Disability)     |        0.0126 |\n",
      "+------------------------+---------------+\n",
      "| DAMAGE(Medium)         |        0.0436 |\n",
      "+------------------------+---------------+\n",
      "| DAMAGE(Self-solving)   |        0.9089 |\n",
      "+------------------------+---------------+\n"
     ]
    }
   ],
   "source": [
    "res = inference.query(show_progress=False,\n",
    "                      variables=['DAMAGE'],\n",
    "                      evidence={\n",
    "                          'DOSE': 2.0,\n",
    "                      })\n",
    "print(res)"
   ],
   "metadata": {
    "collapsed": false,
    "pycharm": {
     "name": "#%%\n"
    }
   }
  },
  {
   "cell_type": "markdown",
   "source": [
    "#### Approximate inference\n",
    "Exact inference in large bayesian networks could be computationally too heavy even with such techniques as variable elimination.\n",
    "For this reason, sometimes approximate inference techniques are used. Most of them are based on stochastic processes.\n",
    "Long story short, random samples are generated, CPDs are examined and after enough samples have been generated, the probability\n",
    "of the query is calculated. The more the samples, the higher the accuracy, but also the higher the computational cost.\n",
    "So, a trade off has to be found.\n",
    "\n",
    "One of the simplest approximate inference algorithm is Rejection Sampling. Because it discards a lot of samples (wasting\n",
    "some computation), here a smarter approach is used: Likelihood Weighting. All the samples generated are used, and a weight\n",
    "is associated to each sample."
   ],
   "metadata": {
    "collapsed": false
   }
  },
  {
   "cell_type": "code",
   "execution_count": 169,
   "outputs": [],
   "source": [
    "from pgmpy.sampling import BayesianModelSampling\n",
    "from pgmpy.factors.discrete import State\n",
    "\n",
    "\"\"\"\n",
    "Draws an inference using likelihood weighting, returning the calculated probability and the generated samples\n",
    "\"\"\"\n",
    "def lw_sampling_infer(model, query, value, evidence, size=500):\n",
    "    evidences = []\n",
    "    for key, v in evidence.items():\n",
    "        evidences.append(State(key, v))\n",
    "\n",
    "    sampler = BayesianModelSampling(model)\n",
    "    samples = sampler.likelihood_weighted_sample(size=size, evidence=evidences)\n",
    "\n",
    "    containing = (samples[samples[query] == value])['_weight'].sum()\n",
    "    total = samples['_weight'].sum()\n",
    "\n",
    "    return containing / total, samples"
   ],
   "metadata": {
    "collapsed": false,
    "pycharm": {
     "name": "#%%\n"
    }
   }
  },
  {
   "cell_type": "markdown",
   "source": [
    "Full query definition"
   ],
   "metadata": {
    "collapsed": false,
    "pycharm": {
     "name": "#%% md\n"
    }
   }
  },
  {
   "cell_type": "code",
   "execution_count": 170,
   "outputs": [],
   "source": [
    "query = 'SEX'\n",
    "value = 'M'\n",
    "evidence = {\n",
    "    'ILLNESS': False,\n",
    "    'ALLERGIES': False\n",
    "}"
   ],
   "metadata": {
    "collapsed": false,
    "pycharm": {
     "name": "#%%\n"
    }
   }
  },
  {
   "cell_type": "markdown",
   "source": [
    "Likelihood weighting query execution"
   ],
   "metadata": {
    "collapsed": false,
    "pycharm": {
     "name": "#%% md\n"
    }
   }
  },
  {
   "cell_type": "code",
   "execution_count": 171,
   "outputs": [
    {
     "name": "stderr",
     "output_type": "stream",
     "text": [
      "C:\\ProgramData\\Anaconda3\\lib\\site-packages\\pgmpy\\factors\\discrete\\DiscreteFactor.py:518: UserWarning: Found unknown state name. Trying to switch to using all state names as state numbers\n",
      "  warn(\n"
     ]
    }
   ],
   "source": [
    "import time\n",
    "\n",
    "start_lw = time.time()\n",
    "lw_prob, samples = lw_sampling_infer(bayesian_model,\n",
    "                                     query=query,\n",
    "                                     value=value,\n",
    "                                     evidence=evidence)\n",
    "end_lw = time.time()"
   ],
   "metadata": {
    "collapsed": false,
    "pycharm": {
     "name": "#%%\n"
    }
   }
  },
  {
   "cell_type": "markdown",
   "source": [
    "Samples generated during the previous query"
   ],
   "metadata": {
    "collapsed": false
   }
  },
  {
   "cell_type": "code",
   "execution_count": 172,
   "outputs": [
    {
     "data": {
      "text/plain": "     VISIT SEX          AGE  ALLERGIES  ILLNESS             MANU  DOSE  \\\n0    False   F  Upper adult      False    False  PFIZER\\BIONTECH   2.0   \n1    False   F  Upper adult      False    False          MODERNA   1.0   \n2    False   M        Adult      False    False          MODERNA   2.0   \n3    False   M  Upper adult      False    False  PFIZER\\BIONTECH   1.0   \n4    False   F        Adult      False    False          MODERNA   1.0   \n..     ...  ..          ...        ...      ...              ...   ...   \n495  False   F  Upper adult      False    False  PFIZER\\BIONTECH   1.0   \n496  False   F        Young      False    False  PFIZER\\BIONTECH   2.0   \n497  False   F        Adult      False    False          MODERNA   2.0   \n498  False   M        Adult      False    False          MODERNA   1.0   \n499  False   M  Upper adult      False    False          MODERNA   1.0   \n\n           DAMAGE   _weight  \n0    Self-solving  0.202469  \n1    Self-solving  0.202469  \n2    Self-solving  0.418628  \n3    Self-solving  0.305487  \n4    Self-solving  0.274562  \n..            ...       ...  \n495  Self-solving  0.202469  \n496  Self-solving  0.377253  \n497  Self-solving  0.274562  \n498  Self-solving  0.418628  \n499  Self-solving  0.305487  \n\n[500 rows x 9 columns]",
      "text/html": "<div>\n<style scoped>\n    .dataframe tbody tr th:only-of-type {\n        vertical-align: middle;\n    }\n\n    .dataframe tbody tr th {\n        vertical-align: top;\n    }\n\n    .dataframe thead th {\n        text-align: right;\n    }\n</style>\n<table border=\"1\" class=\"dataframe\">\n  <thead>\n    <tr style=\"text-align: right;\">\n      <th></th>\n      <th>VISIT</th>\n      <th>SEX</th>\n      <th>AGE</th>\n      <th>ALLERGIES</th>\n      <th>ILLNESS</th>\n      <th>MANU</th>\n      <th>DOSE</th>\n      <th>DAMAGE</th>\n      <th>_weight</th>\n    </tr>\n  </thead>\n  <tbody>\n    <tr>\n      <th>0</th>\n      <td>False</td>\n      <td>F</td>\n      <td>Upper adult</td>\n      <td>False</td>\n      <td>False</td>\n      <td>PFIZER\\BIONTECH</td>\n      <td>2.0</td>\n      <td>Self-solving</td>\n      <td>0.202469</td>\n    </tr>\n    <tr>\n      <th>1</th>\n      <td>False</td>\n      <td>F</td>\n      <td>Upper adult</td>\n      <td>False</td>\n      <td>False</td>\n      <td>MODERNA</td>\n      <td>1.0</td>\n      <td>Self-solving</td>\n      <td>0.202469</td>\n    </tr>\n    <tr>\n      <th>2</th>\n      <td>False</td>\n      <td>M</td>\n      <td>Adult</td>\n      <td>False</td>\n      <td>False</td>\n      <td>MODERNA</td>\n      <td>2.0</td>\n      <td>Self-solving</td>\n      <td>0.418628</td>\n    </tr>\n    <tr>\n      <th>3</th>\n      <td>False</td>\n      <td>M</td>\n      <td>Upper adult</td>\n      <td>False</td>\n      <td>False</td>\n      <td>PFIZER\\BIONTECH</td>\n      <td>1.0</td>\n      <td>Self-solving</td>\n      <td>0.305487</td>\n    </tr>\n    <tr>\n      <th>4</th>\n      <td>False</td>\n      <td>F</td>\n      <td>Adult</td>\n      <td>False</td>\n      <td>False</td>\n      <td>MODERNA</td>\n      <td>1.0</td>\n      <td>Self-solving</td>\n      <td>0.274562</td>\n    </tr>\n    <tr>\n      <th>...</th>\n      <td>...</td>\n      <td>...</td>\n      <td>...</td>\n      <td>...</td>\n      <td>...</td>\n      <td>...</td>\n      <td>...</td>\n      <td>...</td>\n      <td>...</td>\n    </tr>\n    <tr>\n      <th>495</th>\n      <td>False</td>\n      <td>F</td>\n      <td>Upper adult</td>\n      <td>False</td>\n      <td>False</td>\n      <td>PFIZER\\BIONTECH</td>\n      <td>1.0</td>\n      <td>Self-solving</td>\n      <td>0.202469</td>\n    </tr>\n    <tr>\n      <th>496</th>\n      <td>False</td>\n      <td>F</td>\n      <td>Young</td>\n      <td>False</td>\n      <td>False</td>\n      <td>PFIZER\\BIONTECH</td>\n      <td>2.0</td>\n      <td>Self-solving</td>\n      <td>0.377253</td>\n    </tr>\n    <tr>\n      <th>497</th>\n      <td>False</td>\n      <td>F</td>\n      <td>Adult</td>\n      <td>False</td>\n      <td>False</td>\n      <td>MODERNA</td>\n      <td>2.0</td>\n      <td>Self-solving</td>\n      <td>0.274562</td>\n    </tr>\n    <tr>\n      <th>498</th>\n      <td>False</td>\n      <td>M</td>\n      <td>Adult</td>\n      <td>False</td>\n      <td>False</td>\n      <td>MODERNA</td>\n      <td>1.0</td>\n      <td>Self-solving</td>\n      <td>0.418628</td>\n    </tr>\n    <tr>\n      <th>499</th>\n      <td>False</td>\n      <td>M</td>\n      <td>Upper adult</td>\n      <td>False</td>\n      <td>False</td>\n      <td>MODERNA</td>\n      <td>1.0</td>\n      <td>Self-solving</td>\n      <td>0.305487</td>\n    </tr>\n  </tbody>\n</table>\n<p>500 rows × 9 columns</p>\n</div>"
     },
     "execution_count": 172,
     "metadata": {},
     "output_type": "execute_result"
    }
   ],
   "source": [
    "samples"
   ],
   "metadata": {
    "collapsed": false,
    "pycharm": {
     "name": "#%%\n"
    }
   }
  },
  {
   "cell_type": "markdown",
   "source": [
    "Probability of the previous query calculated using likelihood weighting"
   ],
   "metadata": {
    "collapsed": false
   }
  },
  {
   "cell_type": "code",
   "execution_count": 173,
   "outputs": [
    {
     "data": {
      "text/plain": "0.3797128850156229"
     },
     "execution_count": 173,
     "metadata": {},
     "output_type": "execute_result"
    }
   ],
   "source": [
    "lw_prob"
   ],
   "metadata": {
    "collapsed": false,
    "pycharm": {
     "name": "#%%\n"
    }
   }
  },
  {
   "cell_type": "markdown",
   "source": [
    "Exact probability of the previous query using variable elimination"
   ],
   "metadata": {
    "collapsed": false
   }
  },
  {
   "cell_type": "code",
   "execution_count": 174,
   "outputs": [
    {
     "name": "stdout",
     "output_type": "stream",
     "text": [
      "+------------------------+---------------+\n",
      "| DAMAGE                 |   phi(DAMAGE) |\n",
      "+========================+===============+\n",
      "| DAMAGE(Died or almost) |        0.0349 |\n",
      "+------------------------+---------------+\n",
      "| DAMAGE(Disability)     |        0.0126 |\n",
      "+------------------------+---------------+\n",
      "| DAMAGE(Medium)         |        0.0436 |\n",
      "+------------------------+---------------+\n",
      "| DAMAGE(Self-solving)   |        0.9089 |\n",
      "+------------------------+---------------+\n"
     ]
    }
   ],
   "source": [
    "start_ve = time.time()\n",
    "res_ve = inference.query(show_progress=False,\n",
    "                         variables=[query],\n",
    "                         evidence=evidence)\n",
    "end_ve = time.time()\n",
    "\n",
    "print(res)"
   ],
   "metadata": {
    "collapsed": false,
    "pycharm": {
     "name": "#%%\n"
    }
   }
  },
  {
   "cell_type": "markdown",
   "source": [
    "How faster was likelihood weighting w.r.t. variable elimination in percentage"
   ],
   "metadata": {
    "collapsed": false,
    "pycharm": {
     "name": "#%% md\n"
    }
   }
  },
  {
   "cell_type": "code",
   "execution_count": 175,
   "outputs": [
    {
     "data": {
      "text/plain": "281.79371803273887"
     },
     "execution_count": 175,
     "metadata": {},
     "output_type": "execute_result"
    }
   ],
   "source": [
    "def percent_change(first, second):\n",
    "    return ((second - first) / first) * 100.00\n",
    "\n",
    "\n",
    "percent_change(end_lw - start_lw, end_ve - start_ve)"
   ],
   "metadata": {
    "collapsed": false,
    "pycharm": {
     "name": "#%%\n"
    }
   }
  },
  {
   "cell_type": "markdown",
   "source": [
    "## Conclusions\n",
    "We have seen how bayesian networks are useful is such context as this. The inference made are not reliable, but it was\n",
    "pretty straight forward to build the whole network. Algorithms for structure and CPD inference are crucial in a real context.\n",
    "Moreover, the quality and the amount of data collected is relevant in order to guarantee a good quality of the results.\n",
    "Finally, an expert of the context should supervise the work. It could do that just by looking at the structure of the network,\n",
    "and because of its simplicity, it will not be too time-consuming. Indeed, bayesian networks are a simple and power tool.\n"
   ],
   "metadata": {
    "collapsed": false
   }
  }
 ],
 "metadata": {
  "kernelspec": {
   "display_name": "Python 3",
   "language": "python",
   "name": "python3"
  },
  "language_info": {
   "codemirror_mode": {
    "name": "ipython",
    "version": 2
   },
   "file_extension": ".py",
   "mimetype": "text/x-python",
   "name": "python",
   "nbconvert_exporter": "python",
   "pygments_lexer": "ipython2",
   "version": "2.7.6"
  }
 },
 "nbformat": 4,
 "nbformat_minor": 0
}